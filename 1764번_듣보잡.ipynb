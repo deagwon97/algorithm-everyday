{
 "cells": [
  {
   "cell_type": "code",
   "execution_count": 3,
   "metadata": {},
   "outputs": [
    {
     "name": "stdout",
     "output_type": "stream",
     "text": [
      "3 5\n"
     ]
    }
   ],
   "source": [
    "N, M =  list(map(int, input().split()))"
   ]
  },
  {
   "cell_type": "code",
   "execution_count": 4,
   "metadata": {},
   "outputs": [
    {
     "name": "stdout",
     "output_type": "stream",
     "text": [
      "3 5\n"
     ]
    }
   ],
   "source": [
    "print(N, M)"
   ]
  },
  {
   "cell_type": "code",
   "execution_count": 8,
   "metadata": {
    "scrolled": false
   },
   "outputs": [
    {
     "name": "stdout",
     "output_type": "stream",
     "text": [
      "3 4\n",
      "ohhenrie\n",
      "charlie\n",
      "baesangwook\n",
      "obama\n",
      "baesangwook\n",
      "ohhenrie\n",
      "clinton\n",
      "2\n",
      "baesangwook\n",
      "ohhenrie\n"
     ]
    }
   ],
   "source": [
    "N, M =  list(map(int, input().split()))\n",
    "\n",
    "no_listens = []\n",
    "no_listens_sees = []\n",
    "\n",
    "for i in range(N):\n",
    "    no_listens.append(input())\n",
    "\n",
    "for j in range(M):\n",
    "    no_seen = input()\n",
    "    if no_seen in no_listens:\n",
    "        if no_listens_sees == [] :\n",
    "            no_listens_sees.append(no_seen)\n",
    "        else:\n",
    "            for i in range(len(no_listens_sees)):\n",
    "                if no_seen <= no_listens_sees[i]:\n",
    "                    no_listens_sees.insert(i, no_seen)\n",
    "                elif no_seen > no_listens_sees[-1]:\n",
    "                    no_listens_sees.append(no_seen)\n",
    "                else:\n",
    "                    pass\n",
    "    \n",
    "print(len(no_listens_sees))\n",
    "for no_listen_see in no_listens_sees:\n",
    "    print(no_listen_see)\n",
    "    \n",
    "    "
   ]
  },
  {
   "cell_type": "code",
   "execution_count": null,
   "metadata": {},
   "outputs": [],
   "source": [
    "N, M =  list(map(int, input().split()))\n",
    "\n",
    "no_listens = []\n",
    "no_listens_sees = []\n",
    "\n",
    "for i in range(N):\n",
    "    no_listen = input()\n",
    "    if no_listens == [] :\n",
    "        no_listens.append(no_listen)\n",
    "    else:\n",
    "        for i in range(len(no_listens)):\n",
    "            if no_listen <= no_listens[i]:\n",
    "                no_listens.insert(i, no_listen)\n",
    "            elif no_listens > no_listens[-1]:\n",
    "                no_listens.append(no_listens)\n",
    "            else:\n",
    "                pass\n",
    "    \n",
    "\n",
    "for j in range(M):\n",
    "    no_seen = input()\n",
    "    for no_listen in no_listens:\n",
    "        if no_seen == no_listen:\n",
    "            no_listens_sees.append(no_seen)\n",
    "    \n",
    "print(len(no_listens_sees))\n",
    "for no_listen_see in no_listens_sees:\n",
    "    print(no_listen_see)\n",
    "    \n",
    "    "
   ]
  },
  {
   "cell_type": "code",
   "execution_count": null,
   "metadata": {},
   "outputs": [],
   "source": []
  },
  {
   "cell_type": "code",
   "execution_count": null,
   "metadata": {},
   "outputs": [],
   "source": []
  },
  {
   "cell_type": "code",
   "execution_count": 10,
   "metadata": {},
   "outputs": [
    {
     "name": "stdout",
     "output_type": "stream",
     "text": [
      "2 1\n",
      "21\n",
      "2312\n",
      "1 2\n",
      "0\n"
     ]
    }
   ],
   "source": [
    "N, M =  list(map(int, input().split()))\n",
    "no_listens = []\n",
    "no_listens_sees = []\n",
    "\n",
    "for i in range(N):\n",
    "    no_listens.append(input())\n",
    "\n",
    "for j in range(M):\n",
    "    no_seen = input()\n",
    "    for no_listen in range(len(no_listens)):\n",
    "        if no_listens[no_listen] == no_seen:\n",
    "            no_listens_sees.append(no_seen)\n",
    "            break\n",
    "\n",
    "no_listens_sees.sort()\n",
    "print(len(no_listens_sees))\n",
    "for no_listen_see in no_listens_sees:\n",
    "    print(no_listen_see)"
   ]
  },
  {
   "cell_type": "code",
   "execution_count": 13,
   "metadata": {},
   "outputs": [
    {
     "name": "stdout",
     "output_type": "stream",
     "text": [
      "3 4\n",
      "ohhenrie\n",
      "charlie\n",
      "baesangwook\n",
      "obama\n",
      "baesangwook\n",
      "ohhenrie\n",
      "clinton\n",
      "['ohhenrie', 'charlie', 'baesangwook', 'obama', 'baesangwook', 'ohhenrie', 'clinton']\n",
      "0\n"
     ]
    }
   ],
   "source": [
    "N, M =  list(map(int, input().split()))\n",
    "no_listens_and_sees = []\n",
    "no_listens_or_sees = []\n",
    "\n",
    "for i in range(N + M):\n",
    "    no_listens_or_sees.append(input())\n",
    "    \n",
    "no_listens_or_sees.sort()\n",
    "\n",
    "i = 0\n",
    "while(i < len(no_listens_or_sees) - 1):\n",
    "    if no_listens_or_sees[i] == no_listens_or_sees[i + 1]:\n",
    "        no_listens_and_sees.append(no_listens_or_sees[i])\n",
    "        i = i + 2\n",
    "    else:\n",
    "        i = i + 1\n",
    "    \n",
    "print(len(no_listens_and_sees))\n",
    "for no_listen_and_see in no_listens_and_sees:\n",
    "    print(no_listen_and_see)"
   ]
  },
  {
   "cell_type": "code",
   "execution_count": null,
   "metadata": {},
   "outputs": [],
   "source": [
    " no_listens = ['ohhenrie',\n",
    "'charlie',\n",
    "'baesangwook']"
   ]
  },
  {
   "cell_type": "code",
   "execution_count": null,
   "metadata": {},
   "outputs": [],
   "source": []
  },
  {
   "cell_type": "code",
   "execution_count": null,
   "metadata": {},
   "outputs": [],
   "source": []
  },
  {
   "cell_type": "code",
   "execution_count": 17,
   "metadata": {},
   "outputs": [
    {
     "data": {
      "text/plain": [
       "True"
      ]
     },
     "execution_count": 17,
     "metadata": {},
     "output_type": "execute_result"
    }
   ],
   "source": [
    "'ohhenrie' > 'baesangwook'"
   ]
  },
  {
   "cell_type": "code",
   "execution_count": null,
   "metadata": {},
   "outputs": [],
   "source": [
    "\n",
    "\n",
    "\n",
    "for no_listen in no_listens:\n",
    "    if no_listen in no_seens:\n",
    "        if no_listens_sees == []:\n",
    "            no_listens_sees.insert(i, no_listen)\n",
    "        else:\n",
    "            for i in range(len(no_listens_sees)):\n",
    "                if no_listen < no_listens_sees[i]:\n",
    "                    no_listens_sees.insert(i, no_listen)"
   ]
  },
  {
   "cell_type": "code",
   "execution_count": null,
   "metadata": {},
   "outputs": [],
   "source": []
  },
  {
   "cell_type": "code",
   "execution_count": 14,
   "metadata": {},
   "outputs": [
    {
     "data": {
      "text/plain": [
       "['baesangwook', 'ohhenrie']"
      ]
     },
     "execution_count": 14,
     "metadata": {},
     "output_type": "execute_result"
    }
   ],
   "source": [
    "no_listens_sees.sort()\n",
    "no_listens_sees"
   ]
  },
  {
   "cell_type": "code",
   "execution_count": null,
   "metadata": {},
   "outputs": [],
   "source": [
    "def sort_dic(names):\n",
    "    "
   ]
  },
  {
   "cell_type": "code",
   "execution_count": 1,
   "metadata": {},
   "outputs": [
    {
     "data": {
      "text/plain": [
       "[1, 23, 4, 5, 5]"
      ]
     },
     "execution_count": 1,
     "metadata": {},
     "output_type": "execute_result"
    }
   ],
   "source": [
    "a = [1,23,4,5,5]\n",
    "a"
   ]
  },
  {
   "cell_type": "code",
   "execution_count": 2,
   "metadata": {},
   "outputs": [
    {
     "data": {
      "text/plain": [
       "[1, 23, 4, 123, 5, 5]"
      ]
     },
     "execution_count": 2,
     "metadata": {},
     "output_type": "execute_result"
    }
   ],
   "source": [
    "a.insert(3, 123)\n",
    "a"
   ]
  },
  {
   "cell_type": "code",
   "execution_count": null,
   "metadata": {},
   "outputs": [],
   "source": []
  }
 ],
 "metadata": {
  "kernelspec": {
   "display_name": "Python 3",
   "language": "python",
   "name": "python3"
  },
  "language_info": {
   "codemirror_mode": {
    "name": "ipython",
    "version": 3
   },
   "file_extension": ".py",
   "mimetype": "text/x-python",
   "name": "python",
   "nbconvert_exporter": "python",
   "pygments_lexer": "ipython3",
   "version": "3.7.4"
  }
 },
 "nbformat": 4,
 "nbformat_minor": 2
}
