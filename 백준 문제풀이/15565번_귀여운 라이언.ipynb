{
 "metadata": {
  "language_info": {
   "codemirror_mode": {
    "name": "ipython",
    "version": 3
   },
   "file_extension": ".py",
   "mimetype": "text/x-python",
   "name": "python",
   "nbconvert_exporter": "python",
   "pygments_lexer": "ipython3",
   "version": 3
  },
  "orig_nbformat": 2,
  "kernelspec": {
   "name": "python_defaultSpec_1596610660907",
   "display_name": "Python 3.7.4 64-bit ('py3.7': conda)"
  }
 },
 "nbformat": 4,
 "nbformat_minor": 2,
 "cells": [
  {
   "cell_type": "markdown",
   "metadata": {},
   "source": [
    "* 난이도 : silver1\n",
    "* 걸린 시간 : 측정 x\n",
    "* 문제 요약\n",
    "    1. \n",
    "* 기타 :\n",
    "    "
   ]
  },
  {
   "cell_type": "markdown",
   "metadata": {},
   "source": [
    "# 빠른 풀이"
   ]
  },
  {
   "cell_type": "code",
   "execution_count": null,
   "metadata": {},
   "outputs": [],
   "source": [
    "N, K = list(map(int, str('10 3').split()))\n",
    "one_two_list = list(map(int, str('1 1 2 2 2 2 2 2 2 2').split()))\n",
    "\n",
    "\n",
    "\n",
    "N, K = list(map(int, input().split()))\n",
    "one_two_list = list(map(int, input().split()))\n",
    "\n",
    "min_len = N + 1\n",
    "lion_index = []\n",
    "\n",
    "for i in range(N):\n",
    "    if one_two_list[i] == 1:\n",
    "        lion_index.append(i) \n",
    "\n",
    "if len(lion_index) < K:\n",
    "    print(-1)\n",
    "else:\n",
    "    for i in range(len(lion_index) - K + 1):\n",
    "        len_ = lion_index[i + K - 1] - lion_index[i] + 1\n",
    "        if len_ <= min_len:\n",
    "            min_len = len_\n",
    "\n",
    "    print(min_len)"
   ]
  },
  {
   "cell_type": "markdown",
   "metadata": {},
   "source": [
    "# 느린 풀이 -> 시간초과"
   ]
  },
  {
   "cell_type": "code",
   "execution_count": null,
   "metadata": {},
   "outputs": [],
   "source": [
    "N, K = list(map(int, input().split()))\n",
    "one_two_list = list(map(int, input().split()))\n",
    "\n",
    "lion_len = 0\n",
    "min_len = N + 1\n",
    "len_ = 0\n",
    "lion_index = []\n",
    "\n",
    "for i in range(N):\n",
    "    if one_two_list[i] == 1:\n",
    "        lion_index.append(i)\n",
    "        lion_len = lion_len + 1\n",
    "        if lion_len == K:\n",
    "            len_ = lion_index[-1] - lion_index[0] + 1\n",
    "            if len_ <= min_len:\n",
    "                min_len = len_\n",
    "            lion_index.pop(0)\n",
    "            lion_len = lion_len -1\n",
    "\n",
    "if min_len == N + 1:\n",
    "    print(-1) \n",
    "else:\n",
    "    print(min_len)"
   ]
  }
 ]
}