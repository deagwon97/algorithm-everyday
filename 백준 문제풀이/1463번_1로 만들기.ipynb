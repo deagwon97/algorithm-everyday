{
 "metadata": {
  "language_info": {
   "codemirror_mode": {
    "name": "ipython",
    "version": 3
   },
   "file_extension": ".py",
   "mimetype": "text/x-python",
   "name": "python",
   "nbconvert_exporter": "python",
   "pygments_lexer": "ipython3",
   "version": 3
  },
  "orig_nbformat": 2
 },
 "nbformat": 4,
 "nbformat_minor": 2,
 "cells": [
  {
   "cell_type": "markdown",
   "metadata": {},
   "source": [
    "* 난이도 : silver3\n",
    "* 걸린 시간 :\n",
    "* 문제 요약\n",
    "    1. "
   ]
  },
  {
   "cell_type": "code",
   "execution_count": null,
   "metadata": {},
   "outputs": [],
   "source": [
    "N = int(input())\n",
    "if N == 1:\n",
    "    print(0)\n",
    "elif N <= 3:\n",
    "    print(1)\n",
    "else:\n",
    "    cache = [0 for _ in range(N+1)]\n",
    "    cache[1] = 0\n",
    "    cache[2] = 1\n",
    "    cache[3] = 1\n",
    "    # 모든 3,2 로 나누어 떨어지지 않는 자연수는\n",
    "    # 1을 빼면 3,2 둘 중 하나로 나누어 떨어진다.\n",
    "    for num in range(4, N + 1):\n",
    "        if num % 3 == 0:\n",
    "            if cache[num//3] < cache[num-1]:\n",
    "                cache[num] = cache[num//3] + 1\n",
    "            else:\n",
    "                cache[num] = cache[num-1] + 1\n",
    "        elif num % 2 == 0:\n",
    "            if cache[num//2] < cache[num-1]:\n",
    "                cache[num] = cache[num//2] + 1\n",
    "            else:\n",
    "                cache[num] = cache[num-1]  + 1\n",
    "        else:\n",
    "            cache[num] = cache[num - 1] + 1\n",
    "    print(cache[-1])"
   ]
  }
 ]
}