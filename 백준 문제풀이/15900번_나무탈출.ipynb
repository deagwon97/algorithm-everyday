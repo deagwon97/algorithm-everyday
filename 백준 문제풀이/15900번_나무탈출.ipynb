{
 "cells": [
  {
   "cell_type": "markdown",
   "metadata": {},
   "source": [
    "* 난이도 : silver1\n",
    "* 걸린 시간 :\n",
    "* 문제 요약\n",
    "    1. input\n",
    "        - Node의 갯수를 N\n",
    "        - 노드간의 연결을 list로 입력받는다. ex) ```[[1,2], [1,3], [2,3], [3,4]]```\n",
    "        - 1번 노드가 트의 최상위 노드이다.\n",
    "    2. Output\n",
    "        - leaf노드마다 최상위 노드로 움직일 때 걸리는 최단 step들을 구하여 합한다.\n",
    "        - 합이 홀수면 NO, 짝수면 YES를 출력한다.\n",
    "* 아이디어  \n",
    "        - \n",
    "\n",
    "* 기타\n",
    "        - 재귀함수의 호출 제한은 3000번이다."
   ]
  },
  {
   "cell_type": "code",
   "execution_count": 6,
   "metadata": {
    "tags": []
   },
   "outputs": [
    {
     "output_type": "stream",
     "name": "stdout",
     "text": "Yes\n"
    }
   ],
   "source": [
    "import sys\n",
    "from sys import stdin, stdout\n",
    "\n",
    "def get_input_make_dic():\n",
    "    linked_dic = []\n",
    "    N = int(input())\n",
    "    for i in range(0, N+2):\n",
    "        linked_dic.append([])\n",
    "    for i in range(N-1):\n",
    "        #link = list(map(int,sys.stdin.readline().rstrip().split()))\n",
    "        link = list(map(int,input().split()))\n",
    "        linked_dic[link[0]].append(link[1])\n",
    "        linked_dic[link[1]].append(link[0])\n",
    "    return linked_dic\n",
    "\n",
    "def count_node(now_node, parent_node, count = 0):\n",
    "    global total\n",
    "    children_list = linked_dic[now_node]\n",
    "    if children_list == [parent_node]:\n",
    "        total = total + count\n",
    "    else:\n",
    "        count = count + 1\n",
    "        for child in children_list:\n",
    "            if child == parent_node:\n",
    "                continue\n",
    "            else:\n",
    "                count_node(child, now_node, count = count)\n",
    "\n",
    "linked_dic = get_input_make_dic()\n",
    "total = 0\n",
    "count_node(1, None, count = 0)\n",
    "\n",
    "\n",
    "if total % 2 == 0:\n",
    "    print('No')\n",
    "else:\n",
    "    print('Yes')"
   ]
  },
  {
   "cell_type": "code",
   "execution_count": 7,
   "metadata": {},
   "outputs": [
    {
     "output_type": "execute_result",
     "data": {
      "text/plain": "[[], [2], [1, 3], [2, 4], [3], []]"
     },
     "metadata": {},
     "execution_count": 7
    }
   ],
   "source": [
    "linked_dic"
   ]
  },
  {
   "cell_type": "code",
   "execution_count": 10,
   "metadata": {},
   "outputs": [],
   "source": [
    "list_tree = []\n",
    "for i in range(1, 1000):\n",
    "    list_tree.append([i,i+1])"
   ]
  },
  {
   "cell_type": "code",
   "execution_count": 12,
   "metadata": {},
   "outputs": [
    {
     "output_type": "execute_result",
     "data": {
      "text/plain": "999"
     },
     "metadata": {},
     "execution_count": 12
    }
   ],
   "source": [
    "len(list_tree)"
   ]
  },
  {
   "cell_type": "code",
   "execution_count": 17,
   "metadata": {},
   "outputs": [],
   "source": [
    "N = 500000\n",
    "list_tree = []\n",
    "for i in range(1, N):\n",
    "    list_tree.append([i,i+1])"
   ]
  },
  {
   "cell_type": "code",
   "execution_count": 18,
   "metadata": {
    "tags": []
   },
   "outputs": [
    {
     "output_type": "error",
     "ename": "RecursionError",
     "evalue": "maximum recursion depth exceeded in comparison",
     "traceback": [
      "\u001b[1;31m---------------------------------------------------------------------------\u001b[0m",
      "\u001b[1;31mRecursionError\u001b[0m                            Traceback (most recent call last)",
      "\u001b[1;32m<ipython-input-18-299bcba0d814>\u001b[0m in \u001b[0;36m<module>\u001b[1;34m\u001b[0m\n\u001b[0;32m     29\u001b[0m \u001b[0mlinked_dic\u001b[0m \u001b[1;33m=\u001b[0m \u001b[0mget_input_make_dic\u001b[0m\u001b[1;33m(\u001b[0m\u001b[1;33m)\u001b[0m\u001b[1;33m\u001b[0m\u001b[1;33m\u001b[0m\u001b[0m\n\u001b[0;32m     30\u001b[0m \u001b[0mtotal\u001b[0m \u001b[1;33m=\u001b[0m \u001b[1;36m0\u001b[0m\u001b[1;33m\u001b[0m\u001b[1;33m\u001b[0m\u001b[0m\n\u001b[1;32m---> 31\u001b[1;33m \u001b[0mcount_node\u001b[0m\u001b[1;33m(\u001b[0m\u001b[1;36m1\u001b[0m\u001b[1;33m,\u001b[0m \u001b[1;32mNone\u001b[0m\u001b[1;33m,\u001b[0m \u001b[0mcount\u001b[0m \u001b[1;33m=\u001b[0m \u001b[1;36m0\u001b[0m\u001b[1;33m)\u001b[0m\u001b[1;33m\u001b[0m\u001b[1;33m\u001b[0m\u001b[0m\n\u001b[0m\u001b[0;32m     32\u001b[0m \u001b[1;33m\u001b[0m\u001b[0m\n\u001b[0;32m     33\u001b[0m \u001b[1;33m\u001b[0m\u001b[0m\n",
      "\u001b[1;32m<ipython-input-18-299bcba0d814>\u001b[0m in \u001b[0;36mcount_node\u001b[1;34m(now_node, parent_node, count)\u001b[0m\n\u001b[0;32m     25\u001b[0m                 \u001b[1;32mcontinue\u001b[0m\u001b[1;33m\u001b[0m\u001b[1;33m\u001b[0m\u001b[0m\n\u001b[0;32m     26\u001b[0m             \u001b[1;32melse\u001b[0m\u001b[1;33m:\u001b[0m\u001b[1;33m\u001b[0m\u001b[1;33m\u001b[0m\u001b[0m\n\u001b[1;32m---> 27\u001b[1;33m                 \u001b[0mcount_node\u001b[0m\u001b[1;33m(\u001b[0m\u001b[0mchild\u001b[0m\u001b[1;33m,\u001b[0m \u001b[0mnow_node\u001b[0m\u001b[1;33m,\u001b[0m \u001b[0mcount\u001b[0m \u001b[1;33m=\u001b[0m \u001b[0mcount\u001b[0m\u001b[1;33m)\u001b[0m\u001b[1;33m\u001b[0m\u001b[1;33m\u001b[0m\u001b[0m\n\u001b[0m\u001b[0;32m     28\u001b[0m \u001b[1;33m\u001b[0m\u001b[0m\n\u001b[0;32m     29\u001b[0m \u001b[0mlinked_dic\u001b[0m \u001b[1;33m=\u001b[0m \u001b[0mget_input_make_dic\u001b[0m\u001b[1;33m(\u001b[0m\u001b[1;33m)\u001b[0m\u001b[1;33m\u001b[0m\u001b[1;33m\u001b[0m\u001b[0m\n",
      "... last 1 frames repeated, from the frame below ...\n",
      "\u001b[1;32m<ipython-input-18-299bcba0d814>\u001b[0m in \u001b[0;36mcount_node\u001b[1;34m(now_node, parent_node, count)\u001b[0m\n\u001b[0;32m     25\u001b[0m                 \u001b[1;32mcontinue\u001b[0m\u001b[1;33m\u001b[0m\u001b[1;33m\u001b[0m\u001b[0m\n\u001b[0;32m     26\u001b[0m             \u001b[1;32melse\u001b[0m\u001b[1;33m:\u001b[0m\u001b[1;33m\u001b[0m\u001b[1;33m\u001b[0m\u001b[0m\n\u001b[1;32m---> 27\u001b[1;33m                 \u001b[0mcount_node\u001b[0m\u001b[1;33m(\u001b[0m\u001b[0mchild\u001b[0m\u001b[1;33m,\u001b[0m \u001b[0mnow_node\u001b[0m\u001b[1;33m,\u001b[0m \u001b[0mcount\u001b[0m \u001b[1;33m=\u001b[0m \u001b[0mcount\u001b[0m\u001b[1;33m)\u001b[0m\u001b[1;33m\u001b[0m\u001b[1;33m\u001b[0m\u001b[0m\n\u001b[0m\u001b[0;32m     28\u001b[0m \u001b[1;33m\u001b[0m\u001b[0m\n\u001b[0;32m     29\u001b[0m \u001b[0mlinked_dic\u001b[0m \u001b[1;33m=\u001b[0m \u001b[0mget_input_make_dic\u001b[0m\u001b[1;33m(\u001b[0m\u001b[1;33m)\u001b[0m\u001b[1;33m\u001b[0m\u001b[1;33m\u001b[0m\u001b[0m\n",
      "\u001b[1;31mRecursionError\u001b[0m: maximum recursion depth exceeded in comparison"
     ]
    }
   ],
   "source": [
    "import sys\n",
    "from sys import stdin, stdout\n",
    "\n",
    "def get_input_make_dic():\n",
    "    linked_dic = []\n",
    "    #N = 100000\n",
    "    for i in range(0, N+1):\n",
    "        linked_dic.append([])\n",
    "    for link in list_tree:\n",
    "        #link = list(map(int,sys.stdin.readline().rstrip().split()))\n",
    "        #link = list(map(int,input().split()))\n",
    "        linked_dic[link[0]].append(link[1])\n",
    "        linked_dic[link[1]].append(link[0])\n",
    "    return linked_dic\n",
    "\n",
    "def count_node(now_node, parent_node, count = 0):\n",
    "    global total\n",
    "    children_list = linked_dic[now_node]\n",
    "    if children_list == [parent_node]:\n",
    "        total = total + count\n",
    "    else:\n",
    "        count = count + 1\n",
    "        for child in children_list:\n",
    "            if child == parent_node:\n",
    "                continue\n",
    "            else:\n",
    "                count_node(child, now_node, count = count)\n",
    "\n",
    "linked_dic = get_input_make_dic()\n",
    "total = 0\n",
    "count_node(1, None, count = 0)\n",
    "\n",
    "\n",
    "if total % 2 == 0:\n",
    "    print('No')\n",
    "else:\n",
    "    print('Yes')"
   ]
  },
  {
   "cell_type": "code",
   "execution_count": null,
   "metadata": {},
   "outputs": [],
   "source": []
  }
 ],
 "metadata": {
  "kernelspec": {
   "display_name": "Python 3.7.4 64-bit",
   "language": "python",
   "name": "python_defaultSpec_1596034494000"
  },
  "language_info": {
   "codemirror_mode": {
    "name": "ipython",
    "version": 3
   },
   "file_extension": ".py",
   "mimetype": "text/x-python",
   "name": "python",
   "nbconvert_exporter": "python",
   "pygments_lexer": "ipython3",
   "version": "3.7.4-final"
  }
 },
 "nbformat": 4,
 "nbformat_minor": 2
}