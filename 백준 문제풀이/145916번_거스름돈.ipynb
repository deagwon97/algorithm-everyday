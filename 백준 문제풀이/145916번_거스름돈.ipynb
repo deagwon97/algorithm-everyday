{
 "metadata": {
  "language_info": {
   "codemirror_mode": {
    "name": "ipython",
    "version": 3
   },
   "file_extension": ".py",
   "mimetype": "text/x-python",
   "name": "python",
   "nbconvert_exporter": "python",
   "pygments_lexer": "ipython3",
   "version": "3.8.5-final"
  },
  "orig_nbformat": 2,
  "kernelspec": {
   "name": "python_defaultSpec_1599630254941",
   "display_name": "Python 3.8.5 64-bit ('deep': conda)"
  }
 },
 "nbformat": 4,
 "nbformat_minor": 2,
 "cells": [
  {
   "cell_type": "markdown",
   "metadata": {},
   "source": [
    "* 난이도 : silver5\n",
    "* 걸린 시간 :\n",
    "* 문제 요약\n",
    "    1. "
   ]
  },
  {
   "cell_type": "code",
   "execution_count": 20,
   "metadata": {
    "tags": []
   },
   "outputs": [
    {
     "output_type": "stream",
     "name": "stdout",
     "text": "2\n"
    }
   ],
   "source": [
    "# 거스름 돈의 액수 입력\n",
    "n = int(input())\n",
    "if (n == 1) or (n == 3):\n",
    "    print(-1)\n",
    "elif n < 5:\n",
    "    print(n//2)\n",
    "else:\n",
    "    share = (n%5)\n",
    "    result = 0\n",
    "    if share % 2 == 0: # 짝수일 때\n",
    "        print((n//5) + (share//2))\n",
    "    else:# 홀 수일 때 \n",
    "        print((n//5)-1 + (share + 5)//2)"
   ]
  }
 ]
}