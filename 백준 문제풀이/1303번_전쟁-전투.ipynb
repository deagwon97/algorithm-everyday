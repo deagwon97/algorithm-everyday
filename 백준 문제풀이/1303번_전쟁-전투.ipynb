{
 "metadata": {
  "language_info": {
   "codemirror_mode": {
    "name": "ipython",
    "version": 3
   },
   "file_extension": ".py",
   "mimetype": "text/x-python",
   "name": "python",
   "nbconvert_exporter": "python",
   "pygments_lexer": "ipython3",
   "version": 3
  },
  "orig_nbformat": 2,
  "kernelspec": {
   "name": "python_defaultSpec_1596437820964",
   "display_name": "Python 3.7.4 64-bit"
  }
 },
 "nbformat": 4,
 "nbformat_minor": 2,
 "cells": [
  {
   "cell_type": "markdown",
   "metadata": {},
   "source": [
    "* 난이도 : silver1\n",
    "* 걸린 시간 :\n",
    "* 문제 요약  \n",
    "    1.\n",
    "        -\n",
    "* 아이디어  \n",
    "        - \n",
    "\n",
    "* 기타\n",
    "        -"
   ]
  },
  {
   "cell_type": "code",
   "execution_count": 51,
   "metadata": {},
   "outputs": [],
   "source": [
    "N, M = list(map(int, input().split()))\n",
    "\n",
    "input_list = []\n",
    "link_list_n = []\n",
    "for i in range(M):\n",
    "    #input_list.append(list(map(str, list(input().split()))))\n",
    "    if i != M - 1:\n",
    "        link_list.append(list([0 for i in range(N-1)]))\n"
   ]
  },
  {
   "cell_type": "code",
   "execution_count": 107,
   "metadata": {},
   "outputs": [],
   "source": [
    "N, M = 6, 5\n",
    "input_list = [['o', 'x', 'o', 'o', 'o', 'o'],\n",
    "              ['o', 'x', 'x', 'x', 'x', 'o'],\n",
    "              ['x', 'x', 'x', 'o', 'o', 'o'],\n",
    "              ['o', 'o', 'x', 'x', 'o', 'o'],\n",
    "              ['x', 'x', 'o', 'x', 'o', 'o']]"
   ]
  },
  {
   "cell_type": "code",
   "execution_count": 108,
   "metadata": {},
   "outputs": [],
   "source": [
    "link_list_n = []\n",
    "for i in range(M):\n",
    "    link_list_n.append(list([0 for i in range(N-1)]))\n",
    "\n",
    "link_list_m = []\n",
    "for i in range(M-1):\n",
    "    link_list_m.append(list([0 for i in range(N)]))\n",
    "\n",
    "\n",
    "for row in range(M):\n",
    "        for col in range(N):\n",
    "            if col == 0:\n",
    "                pass\n",
    "            else:\n",
    "                if input_list[row][col] == input_list[row][col-1]: link_list_n[row][col-1] = 1\n",
    "                else: link_list_n[row][col-1] = 0\n",
    "\n",
    "            if row == 0:\n",
    "                pass\n",
    "            else:\n",
    "                if input_list[row][col] == input_list[row-1][col]: link_list_m[row-1][col] = 1\n",
    "                else: link_list_m[row-1][col] = 0"
   ]
  },
  {
   "cell_type": "code",
   "execution_count": 110,
   "metadata": {},
   "outputs": [
    {
     "output_type": "execute_result",
     "data": {
      "text/plain": "[[0, 0, 1, 1, 1],\n [0, 1, 1, 1, 0],\n [1, 1, 0, 1, 1],\n [1, 0, 1, 0, 1],\n [1, 0, 0, 0, 1]]"
     },
     "metadata": {},
     "execution_count": 110
    }
   ],
   "source": [
    "link_list_n"
   ]
  },
  {
   "cell_type": "code",
   "execution_count": 111,
   "metadata": {},
   "outputs": [
    {
     "output_type": "execute_result",
     "data": {
      "text/plain": "[[1, 1, 0, 0, 0, 1],\n [0, 1, 1, 0, 0, 1],\n [0, 0, 1, 0, 1, 1],\n [0, 0, 0, 1, 1, 1]]"
     },
     "metadata": {},
     "execution_count": 111
    }
   ],
   "source": [
    "link_list_m"
   ]
  },
  {
   "cell_type": "code",
   "execution_count": 90,
   "metadata": {},
   "outputs": [],
   "source": [
    "class group():\n",
    "    group_locs = []\n",
    "    group_name = None\n",
    "    group_power = 0\n",
    "\n",
    "    def __init__(self, group_name):\n",
    "        self.group_name = group_name\n",
    "    def append_loc(self, loc):\n",
    "        self.group_locs.append(loc)\n",
    "    def cal_power(self):\n",
    "\n",
    "        self.group_power = len(group_locs) ** 2"
   ]
  },
  {
   "cell_type": "code",
   "execution_count": 129,
   "metadata": {
    "tags": []
   },
   "outputs": [],
   "source": [
    "groups = []\n",
    "\n",
    "for row in range(M):\n",
    "    #줄 별로 그룹 생성, 연결, 업데이트\n",
    "    # 여기는 연결\n",
    "    groups = []\n",
    "    for col in range(N-1):\n",
    "        if col == 0:\n",
    "            pass\n",
    "        else:\n",
    "            if link_list_n[row][col-1] == 1:\n",
    "                groups[-1].append_loc([row, col])\n",
    "            elif link_list_n[row][col-1] == 0:\n",
    "                groups.append(group(input_list[row][col]))\n",
    "                groups[-1].append_loc([row, col])\n",
    "\n",
    "    for col in range(N):\n",
    "        if row == 0:\n",
    "            pass\n",
    "        else:\n",
    "            if link_list_n[row-1][col] == 1:\n",
    "                groups[-1].append_loc([row, col])\n",
    "            elif link_list_n[row-1][col] == 0:\n",
    "                groups.append(group(input_list[row][col]))\n",
    "                groups[-1].append_loc([row, col])\n",
    "    break\n",
    "\n"
   ]
  },
  {
   "cell_type": "code",
   "execution_count": 130,
   "metadata": {},
   "outputs": [
    {
     "output_type": "execute_result",
     "data": {
      "text/plain": "[<__main__.group at 0x17dde057548>, <__main__.group at 0x17dde057a88>]"
     },
     "metadata": {},
     "execution_count": 130
    }
   ],
   "source": [
    "groups"
   ]
  },
  {
   "cell_type": "code",
   "execution_count": 118,
   "metadata": {},
   "outputs": [],
   "source": [
    "N, M = 6, 5\n",
    "input_list = [['o', 'x', 'o', 'o', 'o', 'o'],\n",
    "              ['o', 'x', 'x', 'x', 'x', 'o'],\n",
    "              ['x', 'x', 'x', 'o', 'o', 'o'],\n",
    "              ['o', 'o', 'x', 'x', 'o', 'o'],\n",
    "              ['x', 'x', 'o', 'x', 'o', 'o']]"
   ]
  },
  {
   "cell_type": "code",
   "execution_count": 119,
   "metadata": {},
   "outputs": [],
   "source": [
    "link_list[-1].append(1)"
   ]
  },
  {
   "cell_type": "code",
   "execution_count": 2,
   "metadata": {},
   "outputs": [
    {
     "output_type": "execute_result",
     "data": {
      "text/plain": "5"
     },
     "metadata": {},
     "execution_count": 2
    }
   ],
   "source": [
    "white_count = 0\n",
    "black_count = 0\n",
    "\n",
    "white_temp = 0\n",
    "black_temp = 0\n",
    "\n",
    "near_list = []\n",
    "\n",
    "for row in range(M):\n",
    "    for col in range(N):\n",
    "\n",
    "        while(near_list != []):\n",
    "            \n",
    "            if input_list[row-1][col-1]:\n",
    "                near_list.append([row-1,col-1])\n",
    "            if input_list[row+1][col+1]:\n",
    "                near_list.append([row+1,col+1])\n",
    "            if input_list[row-1][col+1]:\n",
    "                near_list.append([row-1,col+1])\n",
    "            if input_list[row+1][col-1]:\n",
    "                near_list.append([row+1,col-1])\n",
    "\n",
    "            for near in near_list:\n",
    "                row, col = near\n",
    "        \n"
   ]
  },
  {
   "cell_type": "code",
   "execution_count": 3,
   "metadata": {},
   "outputs": [
    {
     "output_type": "execute_result",
     "data": {
      "text/plain": "4"
     },
     "metadata": {},
     "execution_count": 3
    }
   ],
   "source": [
    "black_count"
   ]
  },
  {
   "cell_type": "code",
   "execution_count": null,
   "metadata": {},
   "outputs": [],
   "source": []
  }
 ]
}