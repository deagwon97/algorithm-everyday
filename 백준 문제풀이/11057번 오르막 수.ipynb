{
 "metadata": {
  "language_info": {
   "codemirror_mode": {
    "name": "ipython",
    "version": 3
   },
   "file_extension": ".py",
   "mimetype": "text/x-python",
   "name": "python",
   "nbconvert_exporter": "python",
   "pygments_lexer": "ipython3",
   "version": "3.8.5-final"
  },
  "orig_nbformat": 2,
  "kernelspec": {
   "name": "Python 3.8.5 64-bit ('deep': conda)",
   "display_name": "Python 3.8.5 64-bit ('deep': conda)",
   "metadata": {
    "interpreter": {
     "hash": "e3dd400f5d87c1a87f15209f9ca1847d91223dd67820b2a3322b88f3be052679"
    }
   }
  }
 },
 "nbformat": 4,
 "nbformat_minor": 2,
 "cells": [
  {
   "source": [
    "* 난이도 : silver1\n",
    "* 걸린 시간 : 측정 x\n",
    "* 문제 요약\n",
    "* 기타 :\n",
    "    "
   ],
   "cell_type": "markdown",
   "metadata": {}
  },
  {
   "cell_type": "code",
   "execution_count": 88,
   "metadata": {},
   "outputs": [
    {
     "output_type": "stream",
     "name": "stdout",
     "text": [
      "5441\n"
     ]
    }
   ],
   "source": [
    "N = int(input())\n",
    "number_list = []\n",
    "for list_num in range(N):\n",
    "    number_list.append([])\n",
    "number_list[0] = [1,1,1,1,1,1,1,1,1,1]\n",
    "\n",
    "def sum_until(n, list):\n",
    "    add = 0\n",
    "    for i in range(n):\n",
    "        add += list[i]\n",
    "    return add\n",
    "\n",
    "def fill_num(loc):\n",
    "    for idx in range(1, 11):\n",
    "        number_list[loc].append(sum_until(idx, number_list[loc-1]))\n",
    "\n",
    "for box in range(1, N):\n",
    "    fill_num(box)\n",
    "print(sum(number_list[-1])%10007)"
   ]
  }
 ]
}