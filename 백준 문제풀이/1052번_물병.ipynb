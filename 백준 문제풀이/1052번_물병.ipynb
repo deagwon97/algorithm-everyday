{
 "cells": [
  {
   "cell_type": "markdown",
   "metadata": {},
   "source": [
    "* 난이도 : silver1\n",
    "* 걸린 시간 : 측정 x\n",
    "* 문제 요약\n",
    "    1. 재귀함수의 초기 조건을 찾는 것이 핵심\n",
    "* 기타 :\n",
    "    "
   ]
  },
  {
   "cell_type": "code",
   "execution_count": 136,
   "metadata": {
    "scrolled": true
   },
   "outputs": [
    {
     "name": "stdout",
     "output_type": "stream",
     "text": [
      "3 1\n",
      "1\n"
     ]
    }
   ],
   "source": [
    "def find_2k(num):\n",
    "    k = 0\n",
    "    while(num - 2**k >= 0):\n",
    "        k = k + 1\n",
    "    return k - 1\n",
    "\n",
    "def find_M(N, K):\n",
    "    if K == 0:\n",
    "        return -1\n",
    "    \n",
    "    N_list = [N]\n",
    "    k_list = []\n",
    "    add_m_list = []\n",
    "    \n",
    "    for i in range(N):\n",
    "        k_list.append(find_2k(N_list[-1]))\n",
    "        N_list.append(N_list[-1] - 2**k_list[i]) \n",
    "        if N_list[-1] <= 0:\n",
    "            break\n",
    "    for i in range(len(k_list)):\n",
    "        add_m_list.append(2**k_list[i])\n",
    "        \n",
    "    for i in range(len(add_m_list)-1):    \n",
    "        add_m_list[i] = add_m_list[i] - add_m_list[i + 1]* 2\n",
    "        \n",
    "    for i in range(len(add_m_list)-1,0,-1):\n",
    "        add_m_list[i-1] = add_m_list[i-1] + add_m_list[i]\n",
    "    if K >= len(add_m_list):\n",
    "        return 0\n",
    "    else:\n",
    "        return add_m_list[K-1]\n",
    "    \n",
    "N, K = list(map(int, input().split()))\n",
    "print(find_M(N, K))"
   ]
  }
 ],
 "metadata": {
  "kernelspec": {
   "display_name": "Python 3",
   "language": "python",
   "name": "python3"
  },
  "language_info": {
   "codemirror_mode": {
    "name": "ipython",
    "version": 3
   },
   "file_extension": ".py",
   "mimetype": "text/x-python",
   "name": "python",
   "nbconvert_exporter": "python",
   "pygments_lexer": "ipython3",
   "version": "3.7.4"
  }
 },
 "nbformat": 4,
 "nbformat_minor": 2
}