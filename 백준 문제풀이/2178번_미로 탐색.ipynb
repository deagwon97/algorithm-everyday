{
 "metadata": {
  "language_info": {
   "codemirror_mode": {
    "name": "ipython",
    "version": 3
   },
   "file_extension": ".py",
   "mimetype": "text/x-python",
   "name": "python",
   "nbconvert_exporter": "python",
   "pygments_lexer": "ipython3",
   "version": "3.8.5-final"
  },
  "orig_nbformat": 2,
  "kernelspec": {
   "name": "python_defaultSpec_1599184920226",
   "display_name": "Python 3.8.5 64-bit ('deep': conda)"
  }
 },
 "nbformat": 4,
 "nbformat_minor": 2,
 "cells": [
  {
   "cell_type": "markdown",
   "metadata": {},
   "source": [
    "* 난이도 : silver1\n",
    "* 걸린 시간 :\n",
    "* 문제 요약\n",
    "    1. "
   ]
  },
  {
   "cell_type": "code",
   "execution_count": 11,
   "metadata": {},
   "outputs": [],
   "source": [
    "# N : 행의 개수\n",
    "# M : 열의 개수\n",
    "\n",
    "N, M = list(map(int, input().split()))\n",
    "maze = []\n",
    "\n",
    "for row in range(N):\n",
    "    maze.append(str(input()))"
   ]
  },
  {
   "cell_type": "code",
   "execution_count": 13,
   "metadata": {},
   "outputs": [
    {
     "output_type": "execute_result",
     "data": {
      "text/plain": "['11111', '11111', '11011', '10110', '10111']"
     },
     "metadata": {},
     "execution_count": 13
    }
   ],
   "source": [
    "maze = "
   ]
  },
  {
   "cell_type": "code",
   "execution_count": 12,
   "metadata": {},
   "outputs": [
    {
     "output_type": "execute_result",
     "data": {
      "text/plain": "1"
     },
     "metadata": {},
     "execution_count": 12
    }
   ],
   "source": [
    "int(maze[0][0])"
   ]
  },
  {
   "cell_type": "code",
   "execution_count": 14,
   "metadata": {},
   "outputs": [],
   "source": [
    "N = 4\n",
    "M = 6\n",
    "maze = ['110110',\n",
    "        '110110',\n",
    "        '111111',\n",
    "        '111101']"
   ]
  },
  {
   "cell_type": "code",
   "execution_count": 81,
   "metadata": {
    "tags": []
   },
   "outputs": [
    {
     "output_type": "stream",
     "name": "stdout",
     "text": "38\n"
    }
   ],
   "source": [
    "N = 4\n",
    "M = 6\n",
    "maze = ['110110',\n",
    "        '110110',\n",
    "        '111111',\n",
    "        '111101']\n",
    "\n",
    "N, M = 7, 7\n",
    "maze = ['1011111',\n",
    "        '1110001',\n",
    "        '1000001',\n",
    "        '1000001',\n",
    "        '1000001',\n",
    "        '1000001',\n",
    "        '1111111']\n",
    "\n",
    "\n",
    "N, M = 2, 25\n",
    "maze = ['1011101110111011101110111',\n",
    "        '1110111011101110111011101']\n",
    "\n",
    "maze_matrix = []\n",
    "for row in range(N):\n",
    "    maze_matrix.append([int(col) for col in maze[row]])\n",
    "maze = maze_matrix\n",
    "\n",
    "'''\n",
    "# N : 행의 개수\n",
    "# M : 열의 개수\n",
    "N, M = list(map(int, input().split()))\n",
    "maze = []\n",
    "for row in range(N):\n",
    "    maze.append([int(col) for col in str(input())])\n",
    "'''\n",
    "\n",
    "# move_list 설정\n",
    "move_list = [[ 1, 0], [-1, 0],\n",
    "             [ 0, 1], [ 0,-1]]\n",
    "\n",
    "# 초기값 설정\n",
    "now_loc = [0,0]\n",
    "queue = [now_loc,-1]\n",
    "step_count = 0\n",
    "\n",
    "while True:\n",
    "    now_loc = queue.pop(0)\n",
    "    if now_loc == -1:\n",
    "        step_count += 1\n",
    "        queue.append(-1)\n",
    "        continue\n",
    "\n",
    "    # maze의 현재 위치는 0로 변경 -> 다시 방문하지 못하도록\n",
    "    maze[now_loc[0]][now_loc[1]] = 0\n",
    "    \n",
    "    # 끝에 도달했다면 break\n",
    "    if now_loc == [N-1, M-1]:\n",
    "        step_count += 1\n",
    "        break\n",
    "    \n",
    "    # 현재 위치에서 상하좌우로 1씩 탐색\n",
    "    for move_row, move_col in move_list:\n",
    "        next_row = now_loc[0] + move_row\n",
    "        next_col = now_loc[1] + move_col\n",
    "        # 다음 위치(next_loc)가 미로속에 존재할 때\n",
    "        \n",
    "        if (next_row >= 0) and (next_col >= 0) and\\\n",
    "                (next_row < N) and (next_col < M):\n",
    "            # 이동가능한 공간이면서\n",
    "            # 이전에 방문하지 않았던 곳 일 때\n",
    "            if (maze[next_row][next_col] == 1):\n",
    "                # Queue에 좌표를 추가 -> 다음에 방문\n",
    "                queue.append([next_row, next_col])\n",
    "\n",
    "print(step_count)    "
   ]
  },
  {
   "cell_type": "code",
   "execution_count": 58,
   "metadata": {},
   "outputs": [
    {
     "output_type": "execute_result",
     "data": {
      "text/plain": "[0, 1, 1, 0, 1, 1, 1, 0, 1, 1, 1, 0, 1, 1, 1, 0, 1, 1, 1, 0, 1, 1, 1, 0, 1]"
     },
     "metadata": {},
     "execution_count": 58
    }
   ],
   "source": [
    "maze[1]\n"
   ]
  },
  {
   "cell_type": "code",
   "execution_count": 54,
   "metadata": {},
   "outputs": [
    {
     "output_type": "execute_result",
     "data": {
      "text/plain": "[[1, 0, 1, 1, 1, 0, 1, 1, 1, 0, 1, 1, 1, 0, 1, 1, 1, 0, 1, 1, 1, 0, 1, 1, 1],\n [1, 1, 1, 0, 1, 1, 1, 0, 1, 1, 1, 0, 1, 1, 1, 0, 1, 1, 1, 0, 1, 1, 1, 0, 1]]"
     },
     "metadata": {},
     "execution_count": 54
    }
   ],
   "source": [
    "N, M = 2, 25\n",
    "maze = ['1011101110111011101110111',\n",
    "        '1110111011101110111011101']\n",
    "\n",
    "maze_matrix = []\n",
    "for row in range(N):\n",
    "    maze_matrix.append([int(col) for col in maze[row]])\n",
    "maze = maze_matrix\n",
    "maze"
   ]
  },
  {
   "cell_type": "code",
   "execution_count": 83,
   "metadata": {},
   "outputs": [
    {
     "output_type": "error",
     "ename": "ValueError",
     "evalue": "empty separator",
     "traceback": [
      "\u001b[1;31m---------------------------------------------------------------------------\u001b[0m",
      "\u001b[1;31mValueError\u001b[0m                                Traceback (most recent call last)",
      "\u001b[1;32m<ipython-input-83-ee745cc1ff13>\u001b[0m in \u001b[0;36m<module>\u001b[1;34m\u001b[0m\n\u001b[0;32m      2\u001b[0m \u001b[1;32mimport\u001b[0m \u001b[0mcollections\u001b[0m\u001b[1;33m\u001b[0m\u001b[1;33m\u001b[0m\u001b[0m\n\u001b[0;32m      3\u001b[0m \u001b[0mN\u001b[0m \u001b[1;33m=\u001b[0m \u001b[0msys\u001b[0m\u001b[1;33m.\u001b[0m\u001b[0mstdin\u001b[0m\u001b[1;33m.\u001b[0m\u001b[0mreadline\u001b[0m\u001b[1;33m(\u001b[0m\u001b[1;33m)\u001b[0m\u001b[1;33m.\u001b[0m\u001b[0mrstrip\u001b[0m\u001b[1;33m(\u001b[0m\u001b[1;33m)\u001b[0m\u001b[1;33m\u001b[0m\u001b[1;33m\u001b[0m\u001b[0m\n\u001b[1;32m----> 4\u001b[1;33m \u001b[0ma\u001b[0m\u001b[1;33m,\u001b[0m \u001b[0mb\u001b[0m\u001b[1;33m,\u001b[0m \u001b[0mc\u001b[0m \u001b[1;33m=\u001b[0m \u001b[0mmap\u001b[0m\u001b[1;33m(\u001b[0m\u001b[0mint\u001b[0m\u001b[1;33m,\u001b[0m \u001b[0mN\u001b[0m\u001b[1;33m.\u001b[0m\u001b[0msplit\u001b[0m\u001b[1;33m(\u001b[0m\u001b[1;34m\"\"\u001b[0m\u001b[1;33m)\u001b[0m\u001b[1;33m)\u001b[0m\u001b[1;33m\u001b[0m\u001b[1;33m\u001b[0m\u001b[0m\n\u001b[0m",
      "\u001b[1;31mValueError\u001b[0m: empty separator"
     ]
    }
   ],
   "source": [
    "\n",
    "# N : 행의 개수\n",
    "# M : 열의 개수\n",
    "import sys\n",
    "import collections\n",
    "\n",
    "\n",
    "N, M = list(map(int, input().split()))\n",
    "\n",
    "maze = [[0]*(M+2)]\n",
    "for row in range(N):\n",
    "    #maze.append([int(col) for col in '0' + sys.stdin.readline().rstrip() + '0'])\n",
    "    maze.append([0] + list(map(int, list(sys.stdin.readline().rstrip()))) + [0])\n",
    "maze.append([0]*(M+2))\n",
    "# sys.stdin.readline().rstrip()-> 입력받은 문자를 character 단위로 split\n",
    "    \n",
    "# move_list 설정\n",
    "move_list = [[ 1, 0], [-1, 0],\n",
    "             [ 0, 1], [ 0,-1]]\n",
    "\n",
    "# 초기값 설정\n",
    "# 초기 위치\n",
    "now_loc = [1,1]\n",
    "# 초기 queue\n",
    "queue = [now_loc,-1]\n",
    "\n",
    "# 초기 step\n",
    "step_count = 0\n",
    "\n",
    "\n",
    "while True:\n",
    "    now_loc = queue.pop(0)\n",
    "    if now_loc == -1:\n",
    "        step_count += 1\n",
    "        queue.append(-1)\n",
    "        continue\n",
    "\n",
    "    # maze의 현재 위치는 0로 변경 -> 다시 방문하지 못하도록\n",
    "    maze[now_loc[0]][now_loc[1]] = 0\n",
    "    \n",
    "    # 끝에 도달했다면 break\n",
    "    if now_loc == [N, M]:\n",
    "        step_count += 1\n",
    "        break\n",
    "\n",
    "    # 현재 위치에서 상하좌우로 1씩 탐색\n",
    "    for move_row, move_col in move_list:\n",
    "        if (maze[now_loc[0] + move_row][now_loc[1] + move_col] == 1):\n",
    "            queue.append([now_loc[0] + move_row, now_loc[1] + move_col])\n",
    "\n",
    "print(step_count)\n"
   ]
  },
  {
   "cell_type": "code",
   "execution_count": null,
   "metadata": {},
   "outputs": [],
   "source": []
  }
 ]
}