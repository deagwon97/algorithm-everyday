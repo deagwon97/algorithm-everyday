{
 "metadata": {
  "language_info": {
   "codemirror_mode": {
    "name": "ipython",
    "version": 3
   },
   "file_extension": ".py",
   "mimetype": "text/x-python",
   "name": "python",
   "nbconvert_exporter": "python",
   "pygments_lexer": "ipython3",
   "version": "3.8.5-final"
  },
  "orig_nbformat": 2,
  "kernelspec": {
   "name": "python_defaultSpec_1599122016958",
   "display_name": "Python 3.8.5 64-bit ('deep': conda)"
  }
 },
 "nbformat": 4,
 "nbformat_minor": 2,
 "cells": [
  {
   "cell_type": "markdown",
   "metadata": {},
   "source": [
    "* 난이도 : silver1\n",
    "* 걸린 시간 :\n",
    "* 문제 요약\n",
    "    1. "
   ]
  },
  {
   "cell_type": "code",
   "execution_count": 11,
   "metadata": {},
   "outputs": [],
   "source": [
    "# N : 행의 개수\n",
    "# M : 열의 개수\n",
    "\n",
    "N, M = list(map(int, input().split()))\n",
    "maze = []\n",
    "\n",
    "for row in range(N):\n",
    "    maze.append(str(input()))"
   ]
  },
  {
   "cell_type": "code",
   "execution_count": 13,
   "metadata": {},
   "outputs": [
    {
     "output_type": "execute_result",
     "data": {
      "text/plain": "['11111', '11111', '11011', '10110', '10111']"
     },
     "metadata": {},
     "execution_count": 13
    }
   ],
   "source": [
    "maze = "
   ]
  },
  {
   "cell_type": "code",
   "execution_count": 12,
   "metadata": {},
   "outputs": [
    {
     "output_type": "execute_result",
     "data": {
      "text/plain": "1"
     },
     "metadata": {},
     "execution_count": 12
    }
   ],
   "source": [
    "int(maze[0][0])"
   ]
  },
  {
   "cell_type": "code",
   "execution_count": 14,
   "metadata": {},
   "outputs": [],
   "source": [
    "N = 4\n",
    "M = 6\n",
    "maze = ['110110',\n",
    "        '110110',\n",
    "        '111111',\n",
    "        '111101']"
   ]
  },
  {
   "cell_type": "code",
   "execution_count": 23,
   "metadata": {
    "tags": []
   },
   "outputs": [
    {
     "output_type": "error",
     "ename": "KeyboardInterrupt",
     "evalue": "",
     "traceback": [
      "\u001b[1;31m---------------------------------------------------------------------------\u001b[0m",
      "\u001b[1;31mKeyboardInterrupt\u001b[0m                         Traceback (most recent call last)",
      "\u001b[1;32m<ipython-input-23-2b3baa7e9e0a>\u001b[0m in \u001b[0;36m<module>\u001b[1;34m\u001b[0m\n\u001b[0;32m     51\u001b[0m     \u001b[0mnow_loc\u001b[0m \u001b[1;33m=\u001b[0m \u001b[0mqueue\u001b[0m\u001b[1;33m.\u001b[0m\u001b[0mpop\u001b[0m\u001b[1;33m(\u001b[0m\u001b[1;36m0\u001b[0m\u001b[1;33m)\u001b[0m\u001b[1;33m\u001b[0m\u001b[1;33m\u001b[0m\u001b[0m\n\u001b[0;32m     52\u001b[0m     \u001b[1;32mif\u001b[0m \u001b[0mnow_loc\u001b[0m \u001b[1;33m==\u001b[0m \u001b[1;33m-\u001b[0m\u001b[1;36m1\u001b[0m\u001b[1;33m:\u001b[0m\u001b[1;33m\u001b[0m\u001b[1;33m\u001b[0m\u001b[0m\n\u001b[1;32m---> 53\u001b[1;33m         \u001b[0mstep_count\u001b[0m \u001b[1;33m+=\u001b[0m \u001b[1;36m1\u001b[0m\u001b[1;33m\u001b[0m\u001b[1;33m\u001b[0m\u001b[0m\n\u001b[0m\u001b[0;32m     54\u001b[0m         \u001b[0mqueue\u001b[0m\u001b[1;33m.\u001b[0m\u001b[0mappend\u001b[0m\u001b[1;33m(\u001b[0m\u001b[1;33m-\u001b[0m\u001b[1;36m1\u001b[0m\u001b[1;33m)\u001b[0m\u001b[1;33m\u001b[0m\u001b[1;33m\u001b[0m\u001b[0m\n\u001b[0;32m     55\u001b[0m         \u001b[1;32mcontinue\u001b[0m\u001b[1;33m\u001b[0m\u001b[1;33m\u001b[0m\u001b[0m\n",
      "\u001b[1;31mKeyboardInterrupt\u001b[0m: "
     ]
    }
   ],
   "source": [
    "N = 4\n",
    "M = 6\n",
    "maze = ['110110',\n",
    "        '110110',\n",
    "        '111111',\n",
    "        '111101']\n",
    "\n",
    "N, M = 7, 7\n",
    "maze = ['1011111',\n",
    "'1110001',\n",
    "'1000001',\n",
    "'1000001',\n",
    "'1000001',\n",
    "'1000001',\n",
    "'1111111']\n",
    "\n",
    "\n",
    "N, M = 2, 25\n",
    "maze = ['1011101110111011101110111',\n",
    "        '1110111011101110111011101']\n",
    "\n",
    "''' \n",
    "# N : 행의 개수\n",
    "# M : 열의 개수\n",
    "\n",
    "N, M = list(map(int, input().split()))\n",
    "maze = []\n",
    "\n",
    "for row in range(N):\n",
    "    maze.append(str(input()))\n",
    "'''\n",
    "\n",
    "move_list = [[ 1, 0], [-1, 0],\n",
    "             [ 0, 1], [ 0,-1]]\n",
    "\n",
    "\n",
    "# visited_matrix 생성 모두 '0'으로 채워진 matrix\n",
    "row = []\n",
    "for col_num in range(M):\n",
    "        row.append(0)\n",
    "visited_matrix = []\n",
    "for row_num in range(N):\n",
    "    visited_matrix.append(row)\n",
    "\n",
    "# 초기값 설정\n",
    "now_loc = [0,0]\n",
    "queue = [now_loc,-1]\n",
    "step_count = 0\n",
    "\n",
    "while True:\n",
    "    now_loc = queue.pop(0)\n",
    "    if now_loc == -1:\n",
    "        step_count += 1\n",
    "        queue.append(-1)\n",
    "        continue\n",
    "\n",
    "    # 방문 위치는 1로 변경\n",
    "    visited_matrix[now_loc[0]][now_loc[1]] = 1\n",
    "    \n",
    "    # 끝에 도달했다면 break\n",
    "    if now_loc == [N-1, M-1]:\n",
    "        step_count += 1\n",
    "        break\n",
    "\n",
    "    # 8방향 탐색 후 1이 있는 칸은 queue에 추가\n",
    "    for move_row, move_col in move_list:\n",
    "        next_row = now_loc[0] + move_row\n",
    "        next_col = now_loc[1] + move_col\n",
    "        if (next_row >= 0) and (next_col >= 0) and\\\n",
    "                (next_row < N) and (next_col < M):\n",
    "            if (int(maze[next_row][next_col]) == 1) and\\\n",
    "                (visited_matrix[next_row][next_col] == 0):\n",
    "                queue.append([next_row, next_col])\n",
    "\n",
    "print(step_count)\n",
    "\n",
    "    "
   ]
  },
  {
   "cell_type": "code",
   "execution_count": 32,
   "metadata": {},
   "outputs": [
    {
     "output_type": "execute_result",
     "data": {
      "text/plain": "-1"
     },
     "metadata": {},
     "execution_count": 32
    }
   ],
   "source": [
    "now_loc"
   ]
  },
  {
   "cell_type": "code",
   "execution_count": 36,
   "metadata": {},
   "outputs": [
    {
     "output_type": "execute_result",
     "data": {
      "text/plain": "[[0,\n  '0',\n  '0',\n  '0',\n  '0',\n  '0',\n  '0',\n  '0',\n  '0',\n  '0',\n  '0',\n  '0',\n  '0',\n  '0',\n  '0',\n  '0',\n  '0',\n  '0',\n  '0',\n  '0',\n  '0',\n  '0',\n  '0',\n  '0',\n  '0'],\n [0,\n  '0',\n  '0',\n  '0',\n  '0',\n  '0',\n  '0',\n  '0',\n  '0',\n  '0',\n  '0',\n  '0',\n  '0',\n  '0',\n  '0',\n  '0',\n  '0',\n  '0',\n  '0',\n  '0',\n  '0',\n  '0',\n  '0',\n  '0',\n  '0']]"
     },
     "metadata": {},
     "execution_count": 36
    }
   ],
   "source": [
    "now_loc = [0,0]\n",
    "visited_matrix[now_loc[0]][now_loc[1]] = 0\n",
    "visited_matrix"
   ]
  },
  {
   "cell_type": "code",
   "execution_count": null,
   "metadata": {},
   "outputs": [],
   "source": []
  },
  {
   "cell_type": "code",
   "execution_count": 37,
   "metadata": {},
   "outputs": [
    {
     "output_type": "execute_result",
     "data": {
      "text/plain": "[[0, 0, 0, 0, 0, 0, 0, 0, 0, 0, 0, 0, 0, 0, 0, 0, 0, 0, 0, 0, 0, 0, 0, 0, 0],\n [0, 0, 0, 0, 0, 0, 0, 0, 0, 0, 0, 0, 0, 0, 0, 0, 0, 0, 0, 0, 0, 0, 0, 0, 0]]"
     },
     "metadata": {},
     "execution_count": 37
    }
   ],
   "source": [
    "row = []\n",
    "for col_num in range(M):\n",
    "        row.append(0)\n",
    "visited_matrix = []\n",
    "for row_num in range(N):\n",
    "    visited_matrix.append(row)\n",
    "visited_matrix"
   ]
  },
  {
   "cell_type": "code",
   "execution_count": 49,
   "metadata": {},
   "outputs": [],
   "source": [
    "visited_matrix[1][3] = 1"
   ]
  },
  {
   "cell_type": "code",
   "execution_count": 50,
   "metadata": {},
   "outputs": [
    {
     "output_type": "execute_result",
     "data": {
      "text/plain": "[[0, 1, 0, 1, 0, 0, 0, 0, 0, 0, 0, 0, 0, 0, 0, 0, 0, 0, 0, 0, 0, 0, 0, 0, 0],\n [0, 1, 0, 1, 0, 0, 0, 0, 0, 0, 0, 0, 0, 0, 0, 0, 0, 0, 0, 0, 0, 0, 0, 0, 0]]"
     },
     "metadata": {},
     "execution_count": 50
    }
   ],
   "source": [
    "visited_matrix"
   ]
  },
  {
   "cell_type": "code",
   "execution_count": null,
   "metadata": {},
   "outputs": [],
   "source": []
  }
 ]
}