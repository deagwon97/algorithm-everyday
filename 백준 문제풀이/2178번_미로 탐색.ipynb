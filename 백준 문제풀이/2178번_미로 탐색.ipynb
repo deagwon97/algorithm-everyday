{
 "metadata": {
  "language_info": {
   "codemirror_mode": {
    "name": "ipython",
    "version": 3
   },
   "file_extension": ".py",
   "mimetype": "text/x-python",
   "name": "python",
   "nbconvert_exporter": "python",
   "pygments_lexer": "ipython3",
   "version": "3.8.5-final"
  },
  "orig_nbformat": 2,
  "kernelspec": {
   "name": "python_defaultSpec_1599107767908",
   "display_name": "Python 3.8.5 64-bit ('deep': conda)"
  }
 },
 "nbformat": 4,
 "nbformat_minor": 2,
 "cells": [
  {
   "cell_type": "markdown",
   "metadata": {},
   "source": [
    "* 난이도 : silver1\n",
    "* 걸린 시간 :\n",
    "* 문제 요약\n",
    "    1. "
   ]
  },
  {
   "cell_type": "code",
   "execution_count": 11,
   "metadata": {},
   "outputs": [],
   "source": [
    "# N : 행의 개수\n",
    "# M : 열의 개수\n",
    "\n",
    "N, M = list(map(int, input().split()))\n",
    "maze = []\n",
    "\n",
    "for row in range(N):\n",
    "    maze.append(str(input()))"
   ]
  },
  {
   "cell_type": "code",
   "execution_count": 13,
   "metadata": {},
   "outputs": [
    {
     "output_type": "execute_result",
     "data": {
      "text/plain": "['11111', '11111', '11011', '10110', '10111']"
     },
     "metadata": {},
     "execution_count": 13
    }
   ],
   "source": [
    "maze = "
   ]
  },
  {
   "cell_type": "code",
   "execution_count": 12,
   "metadata": {},
   "outputs": [
    {
     "output_type": "execute_result",
     "data": {
      "text/plain": "1"
     },
     "metadata": {},
     "execution_count": 12
    }
   ],
   "source": [
    "int(maze[0][0])"
   ]
  },
  {
   "cell_type": "code",
   "execution_count": 14,
   "metadata": {},
   "outputs": [],
   "source": [
    "N = 4\n",
    "M = 6\n",
    "maze = ['110110',\n",
    "        '110110',\n",
    "        '111111',\n",
    "        '111101']"
   ]
  },
  {
   "cell_type": "code",
   "execution_count": 21,
   "metadata": {
    "tags": []
   },
   "outputs": [
    {
     "output_type": "stream",
     "name": "stdout",
     "text": "68\n"
    }
   ],
   "source": [
    "\n",
    "N = 4\n",
    "M = 6\n",
    "maze = ['110110',\n",
    "        '110110',\n",
    "        '111111',\n",
    "        '111101']\n",
    "\n",
    "\n",
    "now_loc = [0,0]\n",
    "move_list = [[ 1, 1], [ 1,-1], [ 1, 0],\n",
    "             [-1, 1], [-1,-1], [-1, 0],\n",
    "             [ 0, 1], [ 0,-1]]\n",
    "\n",
    "visited_list = [now_loc]\n",
    "queue = [now_loc]\n",
    "\n",
    "step_count = 0\n",
    "while len(queue) != 0:\n",
    "    now_loc = queue.pop(0)\n",
    "    if now_loc == -1:\n",
    "        step_count += 1\n",
    "        continue\n",
    "    # 끝에 도달했다면 break\n",
    "    if now_loc == [N-1, M-1]:\n",
    "        break\n",
    "\n",
    "    # 8방향 탐색 후 1이 있는 칸은 queue에 추가\n",
    "    for move_row, move_col in move_list:\n",
    "        next_row = now_loc[0] + move_row\n",
    "        next_col = now_loc[1] + move_col\n",
    "        if (next_row >= 0) and (next_col >= 0) and\\\n",
    "                (next_row < N) and (next_col < M):\n",
    "            if (int(maze[next_row][next_col]) == 1) and\\\n",
    "                ([next_row, next_col] not in visited_list):\n",
    "                queue.append([next_row, next_col])\n",
    "    \n",
    "    queue.append(-1)\n",
    "    # 한칸 이동했으므로 step_count + 1\n",
    "\n",
    "print(step_count)\n",
    "\n",
    "\n",
    "    "
   ]
  },
  {
   "cell_type": "code",
   "execution_count": null,
   "metadata": {},
   "outputs": [],
   "source": []
  }
 ]
}