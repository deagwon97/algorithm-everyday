{
 "metadata": {
  "language_info": {
   "codemirror_mode": {
    "name": "ipython",
    "version": 3
   },
   "file_extension": ".py",
   "mimetype": "text/x-python",
   "name": "python",
   "nbconvert_exporter": "python",
   "pygments_lexer": "ipython3",
   "version": 3
  },
  "orig_nbformat": 2,
  "kernelspec": {
   "name": "python_defaultSpec_1595831832207",
   "display_name": "Python 3.7.4 64-bit ('py3.7': conda)"
  }
 },
 "nbformat": 4,
 "nbformat_minor": 2,
 "cells": [
  {
   "cell_type": "markdown",
   "metadata": {},
   "source": [
    "* 난이도 : glod5\n",
    "* 걸린 시간 : \n",
    "* 문제 요약\n",
    "    \n",
    "        \n",
    "* 기타 :"
   ]
  },
  {
   "cell_type": "code",
   "execution_count": 6,
   "metadata": {},
   "outputs": [],
   "source": [
    "N, M = list(map(int, input().split()))\n",
    "\n",
    "research_map = []\n",
    "\n",
    "for n in range(N):\n",
    "    research_map.append(list(map(int, input().split())))"
   ]
  },
  {
   "cell_type": "code",
   "execution_count": 8,
   "metadata": {},
   "outputs": [],
   "source": [
    "N, M = 7 ,7\n",
    "research_map = [[2, 0, 0, 0, 1, 1, 0],\n",
    "                [0, 0, 1, 0, 1, 2, 0],\n",
    "                [0, 1, 1, 0, 1, 0, 0],\n",
    "                [0, 1, 0, 0, 0, 0, 0],\n",
    "                [0, 0, 0, 0, 0, 1, 1],\n",
    "                [0, 1, 0, 0, 0, 0, 0],\n",
    "                [0, 1, 0, 0, 0, 0, 0]]"
   ]
  },
  {
   "cell_type": "code",
   "execution_count": 11,
   "metadata": {},
   "outputs": [],
   "source": [
    "def find_virus_loc(research_map, N, M):\n",
    "    virus_loc = []\n",
    "    for n in range(N):\n",
    "        for m in range(M):\n",
    "            if research_map[n][m] == 2:\n",
    "                virus_loc.append([n,m])\n",
    "            else:\n",
    "                pass\n",
    "    return virus_loc"
   ]
  },
  {
   "cell_type": "code",
   "execution_count": 12,
   "metadata": {},
   "outputs": [
    {
     "output_type": "execute_result",
     "data": {
      "text/plain": "[[0, 0], [1, 5]]"
     },
     "metadata": {},
     "execution_count": 12
    }
   ],
   "source": [
    "find_virus_loc(research_map, 7, 7)"
   ]
  },
  {
   "cell_type": "code",
   "execution_count": null,
   "metadata": {},
   "outputs": [],
   "source": [
    "def find_infected_area(research_map, N, M, virus_loc):\n",
    "    research_map[virus_loc[0]][virus_loc[1]] = 3\n",
    "    "
   ]
  }
 ]
}