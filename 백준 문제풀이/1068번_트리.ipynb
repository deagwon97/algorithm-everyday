{
 "cells": [
  {
   "cell_type": "markdown",
   "metadata": {},
   "source": [
    "* 난이도 : silver1\n",
    "* 걸린 시간 : 측정 x\n",
    "* 문제 요약\n",
    "    1. 트리를 잘랐을 때, leaf node의 수를 구하는 것\n",
    "* 기타 :\n",
    "    트리를 잘랐을 때, 잘린 부분을 기준으로 트리를 분리해 주는 함수를 짜는 것이 핵심\n",
    "    "
   ]
  },
  {
   "cell_type": "code",
   "execution_count": 80,
   "metadata": {},
   "outputs": [
    {
     "name": "stdout",
     "output_type": "stream",
     "text": [
      "9\n",
      "-1 0 0 1 2 2 3 3 5\n",
      "6\n",
      "3\n"
     ]
    }
   ],
   "source": [
    "# 입력\n",
    "N = int(input())\n",
    "mother_node_list = list(map(int, input().split()))\n",
    "remove_n = int(input())\n",
    "\n",
    "# mother_node를 list로 만드는 것보다 노드별 son_node_dic를 만드는 것이 더 편해 보여서 son_dic 생성\n",
    "son_node_dic = {}\n",
    "for node in range(N):\n",
    "    son_list = []\n",
    "    for son_node in range(len(mother_node_list)):\n",
    "        if node == mother_node_list[son_node]:\n",
    "            son_list.append(son_node)\n",
    "        else:\n",
    "            continue\n",
    "    son_node_dic[node] = son_list\n",
    "\n",
    "# 재귀함수와 son_node_dic을 이용하여 tree를 잘랐을 때 잘린 부분의 아랬 부분을 전부 제거하는 함수 생성\n",
    "# 단 가장 처음 제거하는 node의 부모 노드 son_node_dic에서는 자식노드가 제거되지 않음.\n",
    "# 밑의 코드를 통해서 예외 처리\n",
    "def cut_tree(remove_n):\n",
    "    remove_son_list = son_node_dic[remove_n]\n",
    "    del son_node_dic[remove_n]\n",
    "    if len(remove_son_list) > 0:\n",
    "        for rs in remove_son_list:\n",
    "            cut_tree(rs)\n",
    "\n",
    "cut_tree(remove_n) # 재귀함수 실행\n",
    "\n",
    "leaf_count = 0\n",
    "# son_node_dic의 value들 중에서 길이가 0 이라는 것은 해당 key node가 leaf node임을 의미하므로 leaf_count++\n",
    "for son_list in son_node_dic:\n",
    "    if len(son_node_dic[son_list]) == 0:\n",
    "        leaf_count = leaf_count + 1\n",
    "    elif remove_n in son_node_dic[son_list]: #제거되지 못한 노드에 대해서 예외 처리\n",
    "        if len(son_node_dic[son_list]) == 1:\n",
    "            leaf_count = leaf_count + 1\n",
    "    else:\n",
    "        continue\n",
    "        \n",
    "print(leaf_count)"
   ]
  }
 ],
 "metadata": {
  "kernelspec": {
   "display_name": "Python 3",
   "language": "python",
   "name": "python3"
  },
  "language_info": {
   "codemirror_mode": {
    "name": "ipython",
    "version": 3
   },
   "file_extension": ".py",
   "mimetype": "text/x-python",
   "name": "python",
   "nbconvert_exporter": "python",
   "pygments_lexer": "ipython3",
   "version": "3.7.4"
  }
 },
 "nbformat": 4,
 "nbformat_minor": 2
}