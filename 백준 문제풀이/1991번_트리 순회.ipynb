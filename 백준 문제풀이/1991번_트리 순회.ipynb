{
 "metadata": {
  "language_info": {
   "codemirror_mode": {
    "name": "ipython",
    "version": 3
   },
   "file_extension": ".py",
   "mimetype": "text/x-python",
   "name": "python",
   "nbconvert_exporter": "python",
   "pygments_lexer": "ipython3",
   "version": 3
  },
  "orig_nbformat": 2,
  "kernelspec": {
   "name": "python_defaultSpec_1595910102624",
   "display_name": "Python 3.7.4 64-bit ('py3.7': conda)"
  }
 },
 "nbformat": 4,
 "nbformat_minor": 2,
 "cells": [
  {
   "cell_type": "markdown",
   "metadata": {},
   "source": [
    "* 난이도 : silver1\n",
    "* 걸린 시간 : \n",
    "* 문제 요약\n",
    "    1. \n",
    "        \n",
    "        \n",
    "* 기타 :"
   ]
  },
  {
   "cell_type": "code",
   "execution_count": 60,
   "metadata": {},
   "outputs": [],
   "source": [
    "class node():\n",
    "    node_name = None\n",
    "    left_child = None\n",
    "    right_child = None\n",
    "    parant_node = None\n",
    "\n",
    "    def __init__(self, node_name):\n",
    "        self.node_name = node_name\n",
    "\n",
    "    def set_left(self, left_child):\n",
    "        self.left_child = left_child\n",
    "\n",
    "    def set_right(self, right_child):\n",
    "        self.right_child = right_child\n",
    "    \n",
    "    def set_parent(self, parant_node):\n",
    "        self.parant_node = parant_node\n",
    "\n"
   ]
  },
  {
   "cell_type": "code",
   "execution_count": 61,
   "metadata": {},
   "outputs": [],
   "source": [
    "N = int(input())\n",
    "node_dic = {}\n",
    "for i in range(1, N + 1):\n",
    "    now_input = list(input().split())\n",
    "    node_dic[now_input[0]] = node(now_input[0])\n",
    "    node_dic[now_input[0]].set_left(now_input[1])\n",
    "    node_dic[now_input[0]].set_right(now_input[2])\n",
    "\n",
    "for key in node_dic.keys():\n",
    "    left = node_dic[key].left_child\n",
    "    if left != '.':\n",
    "        node_dic[left].set_parent(key)\n",
    "\n",
    "    right = node_dic[key].right_child\n",
    "    if right != '.':\n",
    "        node_dic[right].set_parent(key)"
   ]
  },
  {
   "cell_type": "code",
   "execution_count": 55,
   "metadata": {},
   "outputs": [
    {
     "output_type": "execute_result",
     "data": {
      "text/plain": "{'a': <__main__.node at 0x2153cde50c8>,\n 'b': <__main__.node at 0x2153cc7d388>,\n 'c': <__main__.node at 0x2153cde5f88>,\n 'e': <__main__.node at 0x2153d34c588>,\n 'f': <__main__.node at 0x2153d34cf08>,\n 'd': <__main__.node at 0x2153d34cb08>,\n 'g': <__main__.node at 0x2153d34c748>}"
     },
     "metadata": {},
     "execution_count": 55
    }
   ],
   "source": [
    "node_dic"
   ]
  },
  {
   "cell_type": "code",
   "execution_count": null,
   "metadata": {},
   "outputs": [],
   "source": [
    "now = 'A'\n",
    "\n",
    "def find_left(now):\n",
    "    \n"
   ]
  }
 ]
}