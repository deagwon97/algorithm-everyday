{
 "metadata": {
  "language_info": {
   "codemirror_mode": {
    "name": "ipython",
    "version": 3
   },
   "file_extension": ".py",
   "mimetype": "text/x-python",
   "name": "python",
   "nbconvert_exporter": "python",
   "pygments_lexer": "ipython3",
   "version": "3.8.5-final"
  },
  "orig_nbformat": 2,
  "kernelspec": {
   "name": "python_defaultSpec_1598415256850",
   "display_name": "Python 3.8.5 64-bit ('deep': conda)"
  }
 },
 "nbformat": 4,
 "nbformat_minor": 2,
 "cells": [
  {
   "cell_type": "markdown",
   "metadata": {},
   "source": [
    "* 난이도 : silver2\n",
    "* 걸린 시간 :\n",
    "* 문제 요약\n",
    "    1.\n",
    "* 기타 :"
   ]
  },
  {
   "cell_type": "code",
   "execution_count": 69,
   "metadata": {
    "tags": []
   },
   "outputs": [
    {
     "output_type": "stream",
     "name": "stdout",
     "text": "[3, 1, 4, 2, 5]\n3 1 2 5 4\n3 1 4 2 5\n"
    }
   ],
   "source": [
    "# N : 정점의 개수\n",
    "# M : 간선의 개수\n",
    "# V : 탐색을 시작할 정점의 번호\n",
    "N, M, V = list(map(int, input().split()))\n",
    " \n",
    "# 연결 리스트 입력\n",
    "links_list = []\n",
    "for link in range(M):\n",
    "    links_list.append(list(map(int, input().split())))\n",
    "\n",
    "# 인접 딕셔너리로 변환\n",
    "link_dic = {}\n",
    "for node in range(1, N + 1):\n",
    "    link_dic[node] = []\n",
    "for link in links_list:\n",
    "    link_dic[link[1]].append(link[0])\n",
    "    link_dic[link[0]].append(link[1])\n",
    "\n",
    "# DFS 방문\n",
    "stack = []\n",
    "head = V\n",
    "stack.append(head)\n",
    "dfs_list = []\n",
    "visit_list = []\n",
    "while stack != []:\n",
    "    node = stack.pop()\n",
    "    if node in dfs_list:\n",
    "        continue\n",
    "    dfs_list.append(node)\n",
    "    link_dic[node].sort(reverse = True)\n",
    "    for near_node in link_dic[node]:\n",
    "        if near_node not in dfs_list:\n",
    "            stack.append(near_node)\n",
    "\n",
    "# BFS 방문\n",
    "stack = []\n",
    "head = V\n",
    "stack.append(head)\n",
    "bfs_list = []\n",
    "visit_list = []\n",
    "while stack != []:\n",
    "    node = stack.pop(0)\n",
    "    if node in bfs_list:\n",
    "        continue\n",
    "    bfs_list.append(node)\n",
    "    link_dic[node].sort(reverse = False)\n",
    "    for near_node in link_dic[node]:\n",
    "        if near_node not in bfs_list:\n",
    "            stack.append(near_node)\n",
    "\n",
    "\n",
    "# DFS 출력\n",
    "dfs_list = [str(i) for i in dfs_list]\n",
    "print(\" \".join(dfs_list))\n",
    "\n",
    "# BFS 출력\n",
    "bfs_list = [str(i) for i in bfs_list]\n",
    "print(\" \".join(bfs_list))"
   ]
  }
 ]
}