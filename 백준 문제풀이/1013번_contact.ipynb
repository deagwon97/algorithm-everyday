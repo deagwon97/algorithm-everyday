{
 "cells": [
  {
   "cell_type": "markdown",
   "metadata": {},
   "source": [
    "* 난이도 : silver1\n",
    "* 걸린 시간 : 측정 x\n",
    "* 문제 요약\n",
    "    1. 0과 1이 반복해서 나열되는 배열속에서 특정 패턴을 찾기\n",
    "* 기타 :\n",
    "    처음과 끝부분의 패턴을 잘 확인해야한다."
   ]
  },
  {
   "cell_type": "code",
   "execution_count": 23,
   "metadata": {},
   "outputs": [
    {
     "name": "stdout",
     "output_type": "stream",
     "text": [
      "1\n",
      "1000000000000\n",
      "NO\n"
     ]
    }
   ],
   "source": [
    "def is_B(list_, s):\n",
    "    if len(list_) - s < 4:\n",
    "        return False, None\n",
    "    \n",
    "    elif list_[s] == 1:\n",
    "        if (list_[s+1] == 0) & (list_[s+2] ==0):\n",
    "            index = s+3\n",
    "            while(list_[index] == 0):\n",
    "                index  = index + 1\n",
    "                if index > len(list_) - 1:\n",
    "                        return False, None\n",
    "            if list_[index] == 1:\n",
    "                while(list_[index] == 1):\n",
    "                    index = index + 1\n",
    "                    if index > len(list_) - 1:\n",
    "                        break\n",
    "                return True, index - 1\n",
    "    return False, None\n",
    "    \n",
    "def is_pattern(list_, s):\n",
    "    if s >= len(list_) - 1:\n",
    "        return False\n",
    "    \n",
    "    elif (list_[s] == 0) and (list_[s+1] == 1):\n",
    "        if s + 1 == len(list_) -1:\n",
    "            return True\n",
    "        else:\n",
    "            return is_pattern(list_, s+2)\n",
    "            \n",
    "    elif list_[s] == 1:\n",
    "        is_b, index = is_B(list_, s)\n",
    "        if is_b:\n",
    "            if index  == len(list_) - 1:\n",
    "                return True\n",
    "            else:\n",
    "                if (list_[index] == 1) and (list_[index - 1] == 1):\n",
    "                    return is_pattern(list_, index + 1) or is_pattern(list_, index)\n",
    "                else:\n",
    "                    return is_pattern(list_, index + 1)\n",
    "    return False\n",
    "    \n",
    "num = int(input())\n",
    "for i in range(num):\n",
    "    n_list = list(map(int,input()))\n",
    "    is_patt = is_pattern(n_list, 0)\n",
    "    if is_patt:\n",
    "        print('YES')\n",
    "    else:\n",
    "        print('NO')\n",
    "\n"
   ]
  }
 ],
 "metadata": {
  "kernelspec": {
   "display_name": "Python 3",
   "language": "python",
   "name": "python3"
  },
  "language_info": {
   "codemirror_mode": {
    "name": "ipython",
    "version": 3
   },
   "file_extension": ".py",
   "mimetype": "text/x-python",
   "name": "python",
   "nbconvert_exporter": "python",
   "pygments_lexer": "ipython3",
   "version": "3.7.4"
  }
 },
 "nbformat": 4,
 "nbformat_minor": 2
}