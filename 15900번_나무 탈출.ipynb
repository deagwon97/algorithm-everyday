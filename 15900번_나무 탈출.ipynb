{
 "metadata": {
  "language_info": {
   "codemirror_mode": {
    "name": "ipython",
    "version": 3
   },
   "file_extension": ".py",
   "mimetype": "text/x-python",
   "name": "python",
   "nbconvert_exporter": "python",
   "pygments_lexer": "ipython3",
   "version": 3
  },
  "orig_nbformat": 2,
  "kernelspec": {
   "name": "python_defaultSpec_1595471768453",
   "display_name": "Python 3.7.4 64-bit ('py3.7': conda)"
  }
 },
 "nbformat": 4,
 "nbformat_minor": 2,
 "cells": [
  {
   "cell_type": "markdown",
   "metadata": {},
   "source": [
    "* 난이도 : silver1\n",
    "* 걸린 시간 :\n",
    "* 문제 요약\n",
    "    1.\n",
    "* 기타 :"
   ]
  },
  {
   "cell_type": "code",
   "execution_count": 45,
   "metadata": {
    "tags": []
   },
   "outputs": [
    {
     "output_type": "execute_result",
     "data": {
      "text/plain": "{1: [4, 3, 8],\n 2: [3],\n 3: [2, 1],\n 4: [7, 1, 6],\n 5: [6],\n 6: [5, 4],\n 7: [4],\n 8: [1]}"
     },
     "metadata": {},
     "execution_count": 45
    }
   ],
   "source": [
    "def get_input():\n",
    "    N = int(input())\n",
    "    for i in range(N-1):\n",
    "        linked_list.append(list(map(int, input().split())))\n",
    "    return N, linked_list\n",
    "\n",
    "def make_tree_dic(linked_list, N):\n",
    "    linked_dic = {}\n",
    "    for i in range(1, N+1):\n",
    "        linked_dic[i] = []\n",
    "    for link in linked_list:\n",
    "        linked_dic[link[0]].append(link[1])\n",
    "    for link in linked_list:\n",
    "        linked_dic[link[1]].append(link[0])\n",
    "    return linked_dic\n",
    "\n",
    "\n",
    "'''N, linked_list = get_input()'''\n",
    "##예제 입력\n",
    "N = 8\n",
    "linked_list = [[7,4],[2,3],[8,1],[1,4],[6,5],[1,3],[6,4]]\n",
    "'''N = 4\n",
    "linked_list = [[1, 2], [2, 3], [2, 4]]'''\n",
    "##\n",
    "\n",
    "linked_dic = make_tree_dic(linked_list, N)\n",
    "linked_dic"
   ]
  },
  {
   "cell_type": "code",
   "execution_count": 8,
   "metadata": {},
   "outputs": [
    {
     "output_type": "execute_result",
     "data": {
      "text/plain": "[1, 1, 1, 2, 3, 3, 4, 4, 4, 5, 6, 6, 7, 8]"
     },
     "metadata": {},
     "execution_count": 8
    }
   ],
   "source": [
    "links =[]\n",
    "for link in linked_list:\n",
    "    links.append(link[0])\n",
    "    links.append(link[1])\n",
    "links.sort()\n",
    "for i in range(lens(links) - 1):\n",
    "    if links[i] == linkes[i + 1]\n",
    "i = 0\n",
    "new = True\n",
    "while(i < lens(links) - 1):\n",
    "    if links[i] == linkes[i + 1]:\n",
    "        \n",
    "\n"
   ]
  },
  {
   "cell_type": "code",
   "execution_count": null,
   "metadata": {},
   "outputs": [],
   "source": [
    "def make_tree(linked_dic):\n",
    "    del_list = []\n",
    "    for i in linked_dic[1]:\n",
    "        linked_dic[i]\n",
    "    return tree_dic"
   ]
  },
  {
   "cell_type": "code",
   "execution_count": 79,
   "metadata": {},
   "outputs": [],
   "source": [
    "class Node():\n",
    "    node_number = None\n",
    "    parent_node = None \n",
    "    children_list = []\n",
    "\n",
    "    def __init__(self, node_number):\n",
    "        self.node_number = node_number\n",
    "\n",
    "    def set_parent_node(self,\n",
    "                 parent_node):\n",
    "        self.parent_node = parent_node\n",
    "\n",
    "    def set_children_list(self,\n",
    "                 children_list):\n",
    "        self.children_list = children_list\n",
    "    \n",
    "    \n",
    "\n",
    "    # 여기다가 카운트 하는 함수를 넣는게 어떨까"
   ]
  },
  {
   "cell_type": "code",
   "execution_count": 85,
   "metadata": {
    "tags": []
   },
   "outputs": [
    {
     "output_type": "stream",
     "name": "stdout",
     "text": "[[7, 4], [2, 3], [8, 1], [1, 4], [6, 5], [1, 3], [6, 4]]\n"
    },
    {
     "output_type": "execute_result",
     "data": {
      "text/plain": "([[7, 4], [2, 3], [6, 5], [6, 4]], [8, 4, 3])"
     },
     "metadata": {},
     "execution_count": 85
    }
   ],
   "source": [
    "def find_children(linked_list, parent):\n",
    "    children_list = []\n",
    "    del_list = []\n",
    "\n",
    "    linked_index = 0\n",
    "    while(linked_index < len(linked_list)):\n",
    "        if parent == linked_list[linked_index][0]:\n",
    "            children_list.append(linked_list[linked_index][1])   \n",
    "            del linked_list[linked_index]\n",
    "        elif parent == linked_list[linked_index][1]:\n",
    "            children_list.append(linked_list[linked_index][0]) \n",
    "            del linked_list[linked_index]\n",
    "        else:\n",
    "            linked_index += 1\n",
    "    return linked_list, children_list\n",
    "\n",
    "N = 8\n",
    "linked_list = [[7,4],[2,3],[8,1],[1,4],[6,5],[1,3],[6,4]]\n",
    "print(linked_list)\n",
    "find_children(linked_list.copy(), 1)\n"
   ]
  },
  {
   "cell_type": "code",
   "execution_count": 89,
   "metadata": {
    "tags": []
   },
   "outputs": [
    {
     "output_type": "stream",
     "name": "stdout",
     "text": "1\nNone\n[8, 4, 3]\n2\n3\n[]\n3\n1\n[2]\n4\n1\n[7, 6]\n5\n6\n[]\n6\n4\n[5]\n7\n4\n[]\n8\n1\n[]\n"
    }
   ],
   "source": [
    "N = 8\n",
    "linked_list = [[7,4],[2,3],[8,1],[1,4],[6,5],[1,3],[6,4]]\n",
    "\n",
    "node_classes = [None]\n",
    "for node in range(1, N+1):\n",
    "    node_classes.append(Node(node))\n",
    "\n",
    "class Node():\n",
    "    node_number = None\n",
    "    parent_node = None \n",
    "    children_list = []\n",
    "    def __init__(self, node_number):\n",
    "        self.node_number = node_number\n",
    "\n",
    "    def set_parent_node(self,\n",
    "                 parent_node):\n",
    "        self.parent_node = parent_node\n",
    "\n",
    "    def set_children_list(self,\n",
    "                 children_list):\n",
    "        self.children_list = children_list\n",
    "\n",
    "def find_children(linked_list, parent):\n",
    "    children_list = []\n",
    "    del_list = []\n",
    "\n",
    "    linked_index = 0\n",
    "    while(linked_index < len(linked_list)):\n",
    "        if parent == linked_list[linked_index][0]:\n",
    "            children_list.append(linked_list[linked_index][1])   \n",
    "            del linked_list[linked_index]\n",
    "        elif parent == linked_list[linked_index][1]:\n",
    "            children_list.append(linked_list[linked_index][0]) \n",
    "            del linked_list[linked_index]\n",
    "        else:\n",
    "            linked_index += 1\n",
    "    return linked_list, children_list\n",
    "\n",
    "def make_tree(linked_list, now_node, parent_node):\n",
    "    node_classes[now_node].set_parent_node(parent_node)\n",
    "    linked_list, children_list = find_children(linked_list, now_node)\n",
    "    node_classes[now_node].set_children_list(children_list)\n",
    "    if children_list == []:\n",
    "        pass\n",
    "        #return None\n",
    "    else:\n",
    "        for children in children_list:\n",
    "            make_tree(linked_list, children, now_node)\n",
    "        #return node_list\n",
    "\n",
    "# \n",
    "make_tree(linked_list, 1, None)\n",
    "\n",
    "for node in range(1, N+ 1):\n",
    "    print(node_classes[node].node_number)\n",
    "    print(node_classes[node].parent_node)\n",
    "    print(node_classes[node].children_list)"
   ]
  },
  {
   "cell_type": "code",
   "execution_count": 90,
   "metadata": {},
   "outputs": [
    {
     "output_type": "execute_result",
     "data": {
      "text/plain": "[2, 5, 7, 8]"
     },
     "metadata": {},
     "execution_count": 90
    }
   ],
   "source": [
    "leaf_list = []\n",
    "for node in range(1, N + 1):\n",
    "    if node_classes[node].children_list == []:\n",
    "        leaf_list.append(node)\n",
    "leaf_list"
   ]
  },
  {
   "cell_type": "code",
   "execution_count": null,
   "metadata": {},
   "outputs": [],
   "source": [
    "def reverse_sum(node_classes, leaf_list, count):\n",
    "    for node in leaf_list:\n",
    "        count += 1\n",
    "        node_classes[node].parent_node"
   ]
  },
  {
   "cell_type": "code",
   "execution_count": null,
   "metadata": {},
   "outputs": [],
   "source": []
  },
  {
   "cell_type": "code",
   "execution_count": null,
   "metadata": {},
   "outputs": [],
   "source": []
  },
  {
   "cell_type": "code",
   "execution_count": null,
   "metadata": {},
   "outputs": [],
   "source": []
  },
  {
   "cell_type": "code",
   "execution_count": 3,
   "metadata": {
    "tags": []
   },
   "outputs": [
    {
     "output_type": "stream",
     "name": "stdout",
     "text": "No\n"
    }
   ],
   "source": [
    "def get_input():\n",
    "    N = int(input())\n",
    "    linked_list = []\n",
    "    for i in range(N-1):\n",
    "        linked_list.append(list(map(int, input().split())))\n",
    "    return N, linked_list\n",
    "\n",
    "def make_tree_dic(linked_list, N):\n",
    "    linked_dic = {}\n",
    "    for i in range(1, N+1):\n",
    "        linked_dic[i] = []\n",
    "\n",
    "    for link in linked_list:\n",
    "        linked_dic[link[0]].append(link[1])\n",
    "        \n",
    "    for link in linked_list:\n",
    "        linked_dic[link[1]].append(link[0])\n",
    "    return linked_dic\n",
    "\n",
    "def find_next(linked_dic, now_node, del_list):\n",
    "    del_list.append(now_node)\n",
    "    count = 0\n",
    "    for next_node in linked_dic[now_node]:\n",
    "        if next_node not in del_list:\n",
    "            count += 1 + find_next(linked_dic, next_node, del_list)\n",
    "        else:\n",
    "            count += 1\n",
    "    return count\n",
    "\n",
    "N, linked_list= get_input()\n",
    "linked_dic = make_tree_dic(linked_list, N)\n",
    "\n",
    "\n",
    "if find_next(linked_dic, 1, []) % 2 == 0:\n",
    "    print('No')\n",
    "else:\n",
    "    print('YES')"
   ]
  },
  {
   "cell_type": "code",
   "execution_count": null,
   "metadata": {},
   "outputs": [],
   "source": []
  }
 ]
}