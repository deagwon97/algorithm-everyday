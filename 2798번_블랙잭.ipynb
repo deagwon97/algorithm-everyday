{
 "metadata": {
  "language_info": {
   "codemirror_mode": {
    "name": "ipython",
    "version": 3
   },
   "file_extension": ".py",
   "mimetype": "text/x-python",
   "name": "python",
   "nbconvert_exporter": "python",
   "pygments_lexer": "ipython3",
   "version": 3
  },
  "orig_nbformat": 2,
  "kernelspec": {
   "name": "python_defaultSpec_1595311742301",
   "display_name": "Python 3.7.4 64-bit ('py3.7': conda)"
  }
 },
 "nbformat": 4,
 "nbformat_minor": 2,
 "cells": [
  {
   "cell_type": "markdown",
   "metadata": {},
   "source": [
    "* 난이도 : bronze2\n",
    "* 걸린 시간 : 측정 x\n",
    "* 문제 요약\n",
    "    1. 입력받은 배열에서 서로다은 3개의 원소를 고르기\n",
    "    2. 3 원소들의 합이 M보다 작거나 같으면서 M에 가장 가까운 경우를 찾기\n",
    "* 기타 :\n",
    "    자주 등장하는 실수가 있었음."
   ]
  },
  {
   "cell_type": "code",
   "execution_count": 30,
   "metadata": {
    "tags": []
   },
   "outputs": [
    {
     "output_type": "stream",
     "name": "stdout",
     "text": "497\n"
    }
   ],
   "source": [
    "N, M = list(map(int, input().split()))\n",
    "cards = list(map(int, input().split()))\n",
    "\n",
    "sum_cards = 0\n",
    "\n",
    "# 서로 다른 3개 카드의 조합을 찾는 반복문\n",
    "for i in range(N - 2):\n",
    "    for j in range(i+1, N - 1):\n",
    "        # 자주 실수하는 부분 *****************\n",
    "        '''\n",
    "        서로 다른 조합을 찾는 반복문의 시작점은\n",
    "        range(i, N - 1)가 아니라\n",
    "        ragne(i + 1, N - 1)이다.\n",
    "        '''\n",
    "        # ***********************************\n",
    "        for k in range(j+1, N):\n",
    "            temp = (cards[i] + cards[j] + cards[k])\n",
    "            if M >= temp and ((M - sum_cards) > (M - temp)):\n",
    "            # temp가 M보다 작거나 같아야 한다.\n",
    "            # 새로운 조합의 temp와 M의 차이가 기존의 M, sum_cards의 차이보다\n",
    "            # 작을 때 sum_cards를 temp로 update\n",
    "                sum_cards = cards[i] + cards[j] + cards[k]\n",
    "            else:\n",
    "                continue\n",
    "print(sum_cards)\n"
   ]
  },
  {
   "cell_type": "code",
   "execution_count": null,
   "metadata": {},
   "outputs": [],
   "source": []
  }
 ]
}