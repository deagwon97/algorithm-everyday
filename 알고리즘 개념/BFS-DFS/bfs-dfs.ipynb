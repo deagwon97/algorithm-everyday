{
 "metadata": {
  "language_info": {
   "codemirror_mode": {
    "name": "ipython",
    "version": 3
   },
   "file_extension": ".py",
   "mimetype": "text/x-python",
   "name": "python",
   "nbconvert_exporter": "python",
   "pygments_lexer": "ipython3",
   "version": "3.7.4-final"
  },
  "orig_nbformat": 2,
  "kernelspec": {
   "name": "python_defaultSpec_1597816810796",
   "display_name": "Python 3.7.4 64-bit ('base': conda)"
  }
 },
 "nbformat": 4,
 "nbformat_minor": 2,
 "cells": [
  {
   "cell_type": "code",
   "execution_count": 1,
   "metadata": {},
   "outputs": [],
   "source": [
    "import numpy as np"
   ]
  },
  {
   "cell_type": "code",
   "execution_count": 1,
   "metadata": {},
   "outputs": [],
   "source": [
    "tree = {1:[2,3,4],\n",
    "        2:[1,5,6],\n",
    "        3:[1,7,8],\n",
    "        4:[1,9,10],\n",
    "        5:[2],\n",
    "        6:[2],\n",
    "        7:[3,11,12,13],\n",
    "        8:[3],\n",
    "        9:[4],\n",
    "        10:[4],\n",
    "        11:[7],\n",
    "        12:[7,14],\n",
    "        13:[7],\n",
    "        14:[12]}"
   ]
  },
  {
   "cell_type": "code",
   "execution_count": 56,
   "metadata": {
    "tags": []
   },
   "outputs": [
    {
     "output_type": "stream",
     "name": "stdout",
     "text": "1\n2\n3\n4\n5\n6\n7\n8\n9\n10\n11\n12\n13\n14\n"
    }
   ],
   "source": [
    "# BFS\n",
    "class Queue:\n",
    "    def __init__(self):\n",
    "        self.items = []\n",
    "    def dequeue(self):\n",
    "        return self.items.pop(0)\n",
    "    def queue(self, item):\n",
    "        self.items.append(item)\n",
    "\n",
    "Q = Queue()\n",
    "\n",
    "head = 1\n",
    "visit_nodes = []\n",
    "i = 0\n",
    "\n",
    "Q.queue(head)\n",
    "while len(Q.items) != 0:\n",
    "    current_node = Q.dequeue()\n",
    "    visit_nodes.append(current_node)\n",
    "    print(current_node)\n",
    "    child_nodes = tree[current_node]\n",
    "    for child in child_nodes:\n",
    "        if child not in visit_nodes:\n",
    "            Q.queue(child)\n"
   ]
  },
  {
   "cell_type": "code",
   "execution_count": 57,
   "metadata": {
    "tags": []
   },
   "outputs": [
    {
     "output_type": "stream",
     "name": "stdout",
     "text": "1\n4\n10\n9\n3\n8\n7\n13\n12\n14\n11\n2\n6\n5\n"
    }
   ],
   "source": [
    "# DFS by stack \n",
    "\n",
    "stack = []\n",
    "head = 1\n",
    "visit_nodes = []\n",
    "i = 0\n",
    "\n",
    "stack.append(head)\n",
    "\n",
    "while len(stack) != 0:\n",
    "    current_node = stack.pop()\n",
    "    visit_nodes.append(current_node)\n",
    "    print(current_node)\n",
    "    child_nodes = tree[current_node]\n",
    "    for child in child_nodes:\n",
    "        if child not in visit_nodes:\n",
    "            stack.append(child)\n"
   ]
  },
  {
   "cell_type": "code",
   "execution_count": 61,
   "metadata": {
    "tags": []
   },
   "outputs": [
    {
     "output_type": "stream",
     "name": "stdout",
     "text": "1\n2\n5\n6\n3\n7\n11\n12\n14\n13\n8\n4\n9\n10\n"
    }
   ],
   "source": [
    "# DFS by recursive function\n",
    "visit_nodes = []\n",
    "\n",
    "def dfs(node):\n",
    "    print(node)\n",
    "    visit_nodes.append(node)\n",
    "    if len(tree[node]) == 1:\n",
    "        return None\n",
    "    cild_nodes = tree[node]\n",
    "    for child in cild_nodes:\n",
    "        if child not in visit_nodes:\n",
    "            dfs(child)\n",
    "dfs(1)"
   ]
  }
 ]
}