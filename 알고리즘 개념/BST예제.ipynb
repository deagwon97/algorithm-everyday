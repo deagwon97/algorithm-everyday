{
 "metadata": {
  "language_info": {
   "codemirror_mode": {
    "name": "ipython",
    "version": 3
   },
   "file_extension": ".py",
   "mimetype": "text/x-python",
   "name": "python",
   "nbconvert_exporter": "python",
   "pygments_lexer": "ipython3",
   "version": "3.7.4-final"
  },
  "orig_nbformat": 2,
  "kernelspec": {
   "name": "python_defaultSpec_1596978713627",
   "display_name": "Python 3.7.4 64-bit ('py3.7': conda)"
  }
 },
 "nbformat": 4,
 "nbformat_minor": 2,
 "cells": [
  {
   "cell_type": "markdown",
   "metadata": {},
   "source": [
    "- 이진 트리: 노드의 최대 Branch가 2인 트리\n",
    "- 이진 탐색 트리 (Binary Search Tree, BST): 이진 트리에 다음과 같은 추가적인 조건이 있는 트리\n",
    "  - 왼쪽 노드는 해당 노드보다 작은 값, 오른쪽 노드는 해당 노드보다 큰 값을 가지고 있음!\n",
    "  \n",
    "<img src=\"https://www.mathwarehouse.com/programming/images/binary-search-tree/binary-search-tree-insertion-animation.gif\" />"
   ]
  },
  {
   "cell_type": "code",
   "execution_count": 1,
   "metadata": {},
   "outputs": [],
   "source": [
    "class Node:\n",
    "    def __init__(self, node_value):\n",
    "        self.node_value = node_value\n",
    "        self.left = None\n",
    "        self.right = None"
   ]
  },
  {
   "cell_type": "code",
   "execution_count": 18,
   "metadata": {},
   "outputs": [],
   "source": [
    "class Tree:\n",
    "    def __init__(self, head):\n",
    "        self.head = head\n",
    "    \n",
    "    def insert(self, value):\n",
    "        # value를 입력으로 받으면 적절한 노드의 left or right에 값을 추가\n",
    "        # 만약 이미 존재한다면 print('이미 해당 노드를 갖고 있습니다.')\n",
    "        self.current_node = self.head\n",
    "        while True:\n",
    "            if value < self.current_node.node_value:\n",
    "                if self.current_node.left == None:\n",
    "                    self.current_node.left = Node(value)\n",
    "                    break\n",
    "                else:\n",
    "                    self.current_node = self.current_node.left\n",
    "\n",
    "            elif value > self.current_node.node_value:\n",
    "                if self.current_node.right == None:\n",
    "                    self.current_node.right = Node(value)\n",
    "                    break\n",
    "                else:\n",
    "                    self.current_node = self.current_node.right\n",
    "\n",
    "            else:\n",
    "                print('이미 해당 노드를 갖고 있습니다.')\n",
    "                break\n",
    "\n",
    "    \n",
    "    def search(self, value):\n",
    "        # 트리 속 노드가 존재 한다면 True를 return, 존재하지 않으면 False를 return\n",
    "        self.current_node = self.head\n",
    "        while True:\n",
    "            if value < self.current_node.node_value:\n",
    "                if self.current_node.left == None:\n",
    "                    break\n",
    "                else:\n",
    "                    self.current_node = self.current_node.left\n",
    "\n",
    "            elif value > self.current_node.node_value:\n",
    "                if self.current_node.right == None:\n",
    "                    break\n",
    "                else:\n",
    "                    self.current_node = self.current_node.right\n",
    "\n",
    "            else:\n",
    "                return True\n",
    "        return False\n",
    "\n",
    "    def remove(self, value):\n",
    "        if self.search(value) == False:\n",
    "            print('해당 노드가 존재하지 않습니다.')\n",
    "        else:\n",
    "            \n",
    "             "
   ]
  },
  {
   "cell_type": "code",
   "execution_count": 19,
   "metadata": {
    "tags": []
   },
   "outputs": [
    {
     "output_type": "stream",
     "name": "stdout",
     "text": "이미 해당 노드를 갖고 있습니다.\n"
    }
   ],
   "source": [
    "head = Node(1) # nod_value가 1인 노드 생성\n",
    "BST = Tree(head) # head라는 node를 root로 하는 이진 탐색 트리 생성\n",
    "\n",
    "BST.insert(2) # 이진 탐색 트리에 숫자 2를 추가\n",
    "BST.insert(3) # 이진 탐색 트리에 숫자 3를 추가\n",
    "BST.insert(0) # 이진 탐색 트리에 숫자 0를 추가\n",
    "BST.insert(4) # 이진 탐색 트리에 숫자 4를 추가\n",
    "BST.insert(8) # 이진 탐색 트리에 숫자 8를 추가\n",
    "\n",
    "BST.insert(0) # 이진 탐색 트리에 숫자 0를 추가 -> '이미 해당 노드를 갖고 있습니다.'를 출력해야 함"
   ]
  },
  {
   "cell_type": "code",
   "execution_count": 20,
   "metadata": {},
   "outputs": [
    {
     "output_type": "execute_result",
     "data": {
      "text/plain": "1"
     },
     "metadata": {},
     "execution_count": 20
    }
   ],
   "source": [
    "BST.head.node_value"
   ]
  },
  {
   "cell_type": "code",
   "execution_count": 21,
   "metadata": {},
   "outputs": [
    {
     "output_type": "execute_result",
     "data": {
      "text/plain": "0"
     },
     "metadata": {},
     "execution_count": 21
    }
   ],
   "source": [
    "BST.head.left.node_value\n"
   ]
  },
  {
   "cell_type": "code",
   "execution_count": 22,
   "metadata": {},
   "outputs": [
    {
     "output_type": "execute_result",
     "data": {
      "text/plain": "2"
     },
     "metadata": {},
     "execution_count": 22
    }
   ],
   "source": [
    "BST.head.right.node_value"
   ]
  },
  {
   "cell_type": "code",
   "execution_count": 23,
   "metadata": {},
   "outputs": [
    {
     "output_type": "execute_result",
     "data": {
      "text/plain": "3"
     },
     "metadata": {},
     "execution_count": 23
    }
   ],
   "source": [
    "BST.head.right.right.node_value\n"
   ]
  },
  {
   "cell_type": "code",
   "execution_count": 24,
   "metadata": {
    "tags": []
   },
   "outputs": [
    {
     "output_type": "stream",
     "name": "stdout",
     "text": "True\nFalse\n"
    }
   ],
   "source": [
    "print(BST.search(2)) # 이진 탐색 트리에 숫자 2이 들어 있는지 확인 -> True\n",
    "print(BST.search(5)) # 이진 탐색 트리에 숫자 5가 들어 있는지 확인 -> False\n"
   ]
  },
  {
   "cell_type": "code",
   "execution_count": null,
   "metadata": {},
   "outputs": [],
   "source": []
  },
  {
   "cell_type": "code",
   "execution_count": null,
   "metadata": {},
   "outputs": [],
   "source": []
  },
  {
   "cell_type": "code",
   "execution_count": null,
   "metadata": {},
   "outputs": [],
   "source": []
  },
  {
   "cell_type": "code",
   "execution_count": null,
   "metadata": {},
   "outputs": [],
   "source": []
  }
 ]
}