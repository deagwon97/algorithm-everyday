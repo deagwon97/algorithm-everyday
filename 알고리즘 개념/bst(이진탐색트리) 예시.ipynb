{
 "metadata": {
  "language_info": {
   "codemirror_mode": {
    "name": "ipython",
    "version": 3
   },
   "file_extension": ".py",
   "mimetype": "text/x-python",
   "name": "python",
   "nbconvert_exporter": "python",
   "pygments_lexer": "ipython3",
   "version": "3.7.4-final"
  },
  "orig_nbformat": 2,
  "kernelspec": {
   "name": "python_defaultSpec_1597204147203",
   "display_name": "Python 3.7.4 64-bit ('py3.7': conda)"
  }
 },
 "nbformat": 4,
 "nbformat_minor": 2,
 "cells": [
  {
   "cell_type": "markdown",
   "metadata": {},
   "source": [
    "- 이진 트리: 노드의 최대 Branch가 2인 트리\n",
    "- 이진 탐색 트리 (Binary Search Tree, BST): 이진 트리에 다음과 같은 추가적인 조건이 있는 트리\n",
    "  - 왼쪽 노드는 해당 노드보다 작은 값, 오른쪽 노드는 해당 노드보다 큰 값을 가지고 있음!\n",
    "  \n",
    "<img src=\"https://www.mathwarehouse.com/programming/images/binary-search-tree/binary-search-tree-insertion-animation.gif\" />"
   ]
  },
  {
   "cell_type": "code",
   "execution_count": 1,
   "metadata": {},
   "outputs": [],
   "source": [
    "class Node:\n",
    "    def __init__(self, node_value):\n",
    "        self.node_value = node_value\n",
    "        self.left = None\n",
    "        self.right = None"
   ]
  },
  {
   "cell_type": "markdown",
   "metadata": {},
   "source": [
    "# 클래스란?\n",
    " - 일종의 새로운 데이터 타입이다.  \n",
    " - 변수, 함수의 묶음으로 이루어진다.  \n",
    " - 이러한 타입을 갖는 객체를 여러개 만들 수 있다.  \n",
    "\n",
    "## 1. int와 Node로 예시   \n",
    "\n",
    "### 1) int   \n",
    "int(정수형)이라는 데이터 타입이 있고    \n",
    "이런 타입을 갖는 객체는 다음과 같이 만들 수 있다.    \n",
    "```\n",
    "    a = 137\n",
    "```\n",
    "\n",
    "변수 a의 이름은 'a'이며, 타입은 int, 값은 137을 갖는다.   \n",
    "\n",
    "이때 단순히\n",
    "```\n",
    "    print(a)\n",
    "```\n",
    "를 실행하면 a에 저장된 값인 137이 출력 된다. 즉 a는 기본적으로 자신의 주소에 저장된 값을 반환한다.\n",
    "\n",
    "\n",
    "### 2) Node  \n",
    "우리가 새롭게 Node라는 class를 만든다고 하자.  \n",
    "이는 Node라는 타입을 새롭게 정의 한다는 뜻이다.    \n",
    "다음과 같이 정의 할 수 있다.\n",
    "\n",
    "```python3\n",
    "    class Node:\n",
    "        def__init__(self, node_value):\n",
    "            self.node_value = node_value:\n",
    "            self.left = None\n",
    "            self.right = None\n",
    "```\n",
    "이렇게 정의된 타입을 갖는 객체를 다음과 같이 만들 수 있다.\n",
    "\n",
    "```\n",
    "    node = Node(1)\n",
    "```\n",
    "변수 node의 이름은 'node'이며,\n",
    " 타입은 Node, 값은 node_value = 1, left = None, right = None 을 갖는다.\n",
    "\n",
    "이때 단순히\n",
    "```\n",
    "    print(node)\n",
    "```\n",
    "를 실행하면 node에 저장된 값이 아니라 node의 주소를 반환한다.  \n",
    "다시말해서 우리가 만든 객체 node는 자신의 주소를 반환한다.\n",
    "\n",
    "\n",
    "## 2. class의 self를 이해해 보자.  \n",
    "우리가 만드는 class는 int와 다르게 여러개의 변수와, 함수들의 묶음 이다.  \n",
    "2개의 노드를 만들었다고 해보자.  \n",
    "```\n",
    "    head = node(1)\n",
    "    child = node(2)\n",
    "```\n",
    "이제 head라는 변수에는 'node(1)'의 주소가,     \n",
    "child라는 변수에는 'node(2)'의 주소가 저장되어 있다.  \n",
    "\n",
    "우리는 node(1)의 주소에 해당된 곳을 찾아가서 node(1)의 값을 수정할 수 있다.  \n",
    "```\n",
    "    head.right = child\n",
    "```\n",
    "이렇게하면 node(1)속 right라는 변수에 node(2)의 주소가 저장된다.    \n",
    "\n",
    "node(1)속 right라는 변수에 접근하는 것은 head.right라는 방식을 통해서 실행하였다.  \n",
    "\n",
    " self.~ 는 가 의미하는 것은 현재 객체의 주소에 ~ 성분으로 접근해라는 의미이다.    \n",
    "  \n",
    "이제 클래스 속에서 함수를 만들어 보면서 self를 이해해 보자.  \n",
    "```\n",
    "    class Node:\n",
    "        def __init__(self, node_value):\n",
    "            self.node_value = node_value\n",
    "            self.left = None\n",
    "            self.right = None\n",
    "\n",
    "        def double_left(self):\n",
    "            self.left = self.left * 2\n",
    "```\n",
    "Node라는 클래스에 double_left 라는 함수가 생성되었다.  \n",
    "\n",
    "이제 인스턴스를 만들고 double_left함수를 실행해 보자  \n",
    "\n",
    "```\n",
    "    head = Node(1)\n",
    "    head.left = 2 # head라는 인스턴스의 주소에 접근하여 left변수에 2를 저장\n",
    "    head.double_left() # head라는 인스턴스의 주소에 접근하여 double_left라는 함수를 실행\n",
    "```\n",
    "즉 self.~ 의 의미는 생성된 인스턴스의 주소에 접근하여 ~ (변수, 함수)를 찾아가라는 의미이다."
   ]
  },
  {
   "cell_type": "code",
   "execution_count": 176,
   "metadata": {},
   "outputs": [],
   "source": [
    "class Tree:\n",
    "    def __init__(self, head):\n",
    "        self.head = head\n",
    "\n",
    "    def insert(self, value):\n",
    "        # value를 입력으로 받으면 적절한 노드의 left or right에 값을 추가\n",
    "        # 만약 이미 존재한다면 print('이미 해당 노드를 갖고 있습니다.')\n",
    "        self.current_node = self.head\n",
    "        while True:\n",
    "            if value < self.current_node.node_value:\n",
    "                if self.current_node.left == None:\n",
    "                    self.current_node.left = Node(value)\n",
    "                    break\n",
    "                else:\n",
    "                    self.current_node = self.current_node.left\n",
    "\n",
    "            elif value > self.current_node.node_value:\n",
    "                if self.current_node.right == None:\n",
    "                    self.current_node.right = Node(value)\n",
    "                    break\n",
    "                else:\n",
    "                    self.current_node = self.current_node.right\n",
    "            else:\n",
    "                print('이미 해당 노드를 갖고 있습니다.')\n",
    "                break\n",
    " \n",
    "\n",
    "\n",
    "    def search(self, value):\n",
    "        # 트리 속 노드가 존재 한다면 True를 return, 존재하지 않으면 False를 return\n",
    "        self.current_node = self.head\n",
    "        while True:\n",
    "            if value < self.current_node.node_value:\n",
    "                if self.current_node.left == None:\n",
    "                    break\n",
    "                else:\n",
    "                    self.current_node = self.current_node.left\n",
    "\n",
    "            elif value > self.current_node.node_value:\n",
    "                if self.current_node.right == None:\n",
    "                    break\n",
    "                else:\n",
    "                    self.current_node = self.current_node.right\n",
    "            else:\n",
    "                return True\n",
    "        return False\n",
    "\n",
    "    def remove(self, value):\n",
    "        self.current_node = self.head\n",
    "        self.parent_node = None\n",
    "        \n",
    "        # value에 해당하는 노드 찾기\n",
    "        while True:\n",
    "            if value < self.current_node.node_value:\n",
    "                if self.current_node.left == None:\n",
    "                    print('해당 노드가 존재하지 않습니다.')\n",
    "                    break\n",
    "                else:\n",
    "                    self.parent_node = self.current_node # self.parrent_node라는 변수에 self.current_node의 주소를 저장한다.\n",
    "                    self.current_node = self.current_node.left # current_node에는 self.current_node.left의 주소가 저장된다.\n",
    "\n",
    "            elif value > self.current_node.node_value:\n",
    "                if self.current_node.right == None:\n",
    "                    print('해당 노드가 존재하지 않습니다.')\n",
    "                    break\n",
    "                else:\n",
    "                    #self.parent_node = self.current_node # self.parrent_node라는 변수에 self.current_node의 주소를 저장한다.\n",
    "                    self.current_node = self.current_node\n",
    "            else:\n",
    "                # self.current_node에는 value에 해당하는 노드가\n",
    "                # self.parent_node에는 value의 부모에 해당하는 노드가 저장\n",
    "                break\n",
    "\n",
    "        # 자식노드가 하나도 없을 때\n",
    "        if (self.current_node.left == None) and (self.current_node.right == None):\n",
    "            if self.parent_node.node_value < value:\n",
    "                self.parent_node.right = None # self.parent_node에 저장된 주소에 접근하여 right값을 제거\n",
    "            elif self.parent_node.node_value > value:\n",
    "                self.parent_node.left = None\n",
    "        \n",
    "        # 자식 노드가 하나일 때\n",
    "        elif ((self.current_node.left == None) and (self.current_node.right != None)):\n",
    "            if self.parent_node.node_value < value:\n",
    "                self.parent_node.right = self.current_node.right \n",
    "            elif self.parent_node.node_value > value:\n",
    "                self.parent_node.left = self.current_node.right\n",
    "        elif ((self.current_node.left != None) and (self.current_node.right == None)):\n",
    "            if self.parent_node.node_value < value:\n",
    "                self.parent_node.right = self.current_node.left \n",
    "            elif self.parent_node.node_value > value:\n",
    "                self.parent_node.left = self.current_node.left\n",
    "\n",
    "        #자식이 둘 일 때\n",
    "        elif ((self.current_node.left != None) and (self.current_node.right != None)):\n",
    "            self.parent = self.parent_node\n",
    "            self.left_node = self.current_node.right\n",
    "            while True:\n",
    "                if self.left_node.left != None:\n",
    "                    self.parent = self.left_node\n",
    "                    self.left_node = self.left_node.left\n",
    "                else:\n",
    "                    break\n",
    "            #print(self.parent)# 오른쪽 아래 트리의 가장 왼쪽 노드의 부모\n",
    "            #print(self.left_node)# 오른쪽 아래 트리의 가장 왼쪽 노드\n",
    "\n",
    "            # left_node의 오른쪽 자식이 없을 때\n",
    "            if self.left_node.right == None:\n",
    "                self.parent.left = None\n",
    "            # left_nodr의 왼쪽 자식이 있을 때\n",
    "            elif self.left_node.right != None:\n",
    "                self.parent.left = self.left_node.right\n",
    "            \n",
    "            if self.parent_node.node_value > self.left_node.node_value:\n",
    "                self.parent_node.left = self.left_node\n",
    "            else:\n",
    "                self.parent_node.right = self.left_node\n",
    "\n",
    "            self.left_node.left = self.current_node.left\n",
    "\n",
    "            if self.left_node != self.current_node.right:\n",
    "                self.left_node.right = self.current_node.right # 예외처리 할 것\n",
    "            else:\n",
    "                self.left_node.right = None\n"
   ]
  },
  {
   "cell_type": "markdown",
   "metadata": {},
   "source": [
    "### 인스턴스(특정 클래스를 데이터 타입으로 갖는 변수)는 자신의 주소를 반환한다."
   ]
  },
  {
   "cell_type": "code",
   "execution_count": 127,
   "metadata": {
    "tags": []
   },
   "outputs": [
    {
     "output_type": "stream",
     "name": "stdout",
     "text": "None\n7\n"
    }
   ],
   "source": [
    "# 파이썬에서 인스턴스는 자신의 주소를 반환한다.\n",
    "a = None\n",
    "b = Node(1) # Node(1)이라는 객체가 생성되면서 b에는 그 주소가 저장\n",
    "print(b.right) # b에 저장된 주소로 가서 그 객체의 right를 출력\n",
    "a = b # b속에 있는 주소값을 a에도 저장\n",
    "a.right = 7 # a에 저장되어 있는 주소로 가서 그 객체의 right값을 7로 수정\n",
    "print(b.right) # b에 저장되어 있는 주소로 가서 그 객체의 right를 출력\n",
    "\n",
    "# 위의 원리를 이용하여 트리의 노드를 제거할 수 있다."
   ]
  },
  {
   "cell_type": "markdown",
   "metadata": {},
   "source": [
    "## insert 동작 확인"
   ]
  },
  {
   "cell_type": "code",
   "execution_count": 9,
   "metadata": {
    "tags": []
   },
   "outputs": [],
   "source": [
    "head = Node(1) # nod_value가 1인 노드 생성\n",
    "BST = Tree(head) # head라는 node를 root로 하는 이진 탐색 트리 생성\n",
    "\n",
    "BST.insert(2) # 이진 탐색 트리에 숫자 2를 추가\n",
    "BST.insert(3) # 이진 탐색 트리에 숫자 3를 추가\n",
    "BST.insert(0) # 이진 탐색 트리에 숫자 0를 추가\n",
    "BST.insert(4) # 이진 탐색 트리에 숫자 4를 추가\n",
    "BST.insert(8) # 이진 탐색 트리에 숫자 8를 추가"
   ]
  },
  {
   "cell_type": "code",
   "execution_count": 10,
   "metadata": {
    "tags": []
   },
   "outputs": [
    {
     "output_type": "stream",
     "name": "stdout",
     "text": "이미 해당 노드를 갖고 있습니다.\n"
    }
   ],
   "source": [
    "BST.insert(0) # 이진 탐색 트리에 숫자 0를 추가 -> '이미 해당 노드를 갖고 있습니다.'를 출력해야 함"
   ]
  },
  {
   "cell_type": "markdown",
   "metadata": {},
   "source": [
    "## 트리 구성 확인"
   ]
  },
  {
   "cell_type": "code",
   "execution_count": 11,
   "metadata": {
    "tags": []
   },
   "outputs": [
    {
     "output_type": "stream",
     "name": "stdout",
     "text": "1\n2\n3\n0\nNone\n"
    }
   ],
   "source": [
    "print(BST.head.node_value) # head의 값\n",
    "print(BST.head.right.node_value) # head의 오른쪽 자식 노드의 값\n",
    "print(BST.head.right.right.node_value)# head의 오른쪽 자식, 오른쪽 자식 노드의 값\n",
    "print(BST.head.left.node_value) # head의 왼쪽 자식 노드의 값\n",
    "print(BST.head.left.left)# head의 왼쪽 자식, 왼쪽 자식 노드 -> 존재하지 않음 None을 반환"
   ]
  },
  {
   "cell_type": "markdown",
   "metadata": {},
   "source": [
    "## search 동작 확인"
   ]
  },
  {
   "cell_type": "code",
   "execution_count": 142,
   "metadata": {
    "tags": []
   },
   "outputs": [
    {
     "output_type": "stream",
     "name": "stdout",
     "text": "True\nFalse\n"
    }
   ],
   "source": [
    "print(BST.search(2)) # 이진 탐색 트리에 숫자 2이 들어 있는지 확인 -> True\n",
    "print(BST.search(5)) # 이진 탐색 트리에 숫자 5가 들어 있는지 확인 -> False"
   ]
  },
  {
   "cell_type": "markdown",
   "metadata": {},
   "source": [
    "## remove 동작 확인"
   ]
  },
  {
   "cell_type": "markdown",
   "metadata": {},
   "source": [
    "### 자식 노드가 0개 일때"
   ]
  },
  {
   "cell_type": "code",
   "execution_count": 143,
   "metadata": {
    "tags": []
   },
   "outputs": [
    {
     "output_type": "stream",
     "name": "stdout",
     "text": "<__main__.Node object at 0x0000023F8446EC08>\n"
    }
   ],
   "source": [
    "print(BST.head.right.right.right.right)#BST의 head로부터 오른쪽 아래, 오른쪽 아래, 오른쪽 아래, 오른쪽 아래에 노드가 존재"
   ]
  },
  {
   "cell_type": "code",
   "execution_count": 144,
   "metadata": {
    "tags": []
   },
   "outputs": [
    {
     "output_type": "stream",
     "name": "stdout",
     "text": "<__main__.Node object at 0x0000023F8446EC08>\n8\nNone\nNone\n"
    }
   ],
   "source": [
    "print(BST.head.right.right.right.right) #BST의 head로부터 오른쪽 아래, 오른쪽 아래, 오른쪽 아래, 오른쪽 아래에 노드가 존재\n",
    "\n",
    "print(BST.head.right.right.right.right.node_value) # 그 노드의 값은 8\n",
    "\n",
    "print(BST.remove(8)) # 숫자 8을 갖는 노드를 BST에서 제거\n",
    "\n",
    "#BST의 head로부터 오른쪽 아래, 오른쪽 아래, 오른쪽 아래, 오른쪽 아래에 노드가 제거 되어 None을 반환\n",
    "print(BST.head.right.right.right.right)"
   ]
  },
  {
   "cell_type": "markdown",
   "metadata": {},
   "source": [
    "### 자식 노드가 1개 일때"
   ]
  },
  {
   "cell_type": "code",
   "execution_count": 159,
   "metadata": {
    "tags": []
   },
   "outputs": [
    {
     "output_type": "stream",
     "name": "stdout",
     "text": "8\nNone\n4\n---remove---\nFalse\n8\n"
    }
   ],
   "source": [
    "print(BST.head.right.right.right.right.node_value) #BST의 head로부터 오른쪽 아래, 오른쪽 아래, 오른쪽 아래, 오른쪽 아래에 노드가 존재 그 값은 8\n",
    "print(BST.head.right.right.right.left) #BST의 head로부터 오른쪽 아래, 오른쪽 아래, 오른쪽 아래, 왼쪽 아래에 노드가 없음\n",
    "print(BST.head.right.right.right.node_value) ##BST의 head로부터 오른쪽 아래, 오른쪽 아래, 오른쪽 아래의 노드는 값이 4이며 자식으로 8번 노드를 갖음\n",
    "\n",
    "# 4라는 값은 갖는 노드는 자식이 1개 이다. 이 노드를 제거\n",
    "print('---remove---')\n",
    "BST.remove(4)\n",
    "\n",
    "print(BST.search(4)) # False가 출력되므로 4라는 노드는 제거되었다.\n",
    "\n",
    "print(BST.head.right.right.right.node_value) ##BST의 원래 4번 노드가 있던 자리가 8번 노드로 대체됨."
   ]
  },
  {
   "cell_type": "markdown",
   "metadata": {},
   "source": [
    "### 자식 노드가 2개 일때"
   ]
  },
  {
   "cell_type": "code",
   "execution_count": 177,
   "metadata": {},
   "outputs": [],
   "source": [
    "head = Node(10) # nod_value가 1인 노드 생성\n",
    "BST = Tree(head) # head라는 node를 root로 하는 이진 탐색 트리 생성\n",
    "\n",
    "BST.insert(5) # 이진 탐색 트리에 숫자 2를 추가\n",
    "BST.insert(15) # 이진 탐색 트리에 숫자 3를 추가\n",
    "BST.insert(3) # 이진 탐색 트리에 숫자 0를 추가\n",
    "BST.insert(6) # 이진 탐색 트리에 숫자 4를 추가\n",
    "BST.insert(12) # 이진 탐색 트리에 숫자 8를 추가\n",
    "\n",
    "\n",
    "BST.insert(19) # 이진 탐색 트리에 숫자 2를 추가\n",
    "#BST.insert(5.5) # 이진 탐색 트리에 숫자 3를 추가\n",
    "#BST.insert(6.5) # 이진 탐색 트리에 숫자 0를 추가\n",
    "#BST.insert(5.9)\n",
    "#BST.insert(6.25) # 이진 탐색 트리에 숫자 4를 추가\n",
    " # 이진 탐색 트리에 숫자 8를 추가"
   ]
  },
  {
   "cell_type": "code",
   "execution_count": 178,
   "metadata": {},
   "outputs": [
    {
     "output_type": "execute_result",
     "data": {
      "text/plain": "6"
     },
     "metadata": {},
     "execution_count": 178
    }
   ],
   "source": [
    "BST.head.left.right.node_value"
   ]
  },
  {
   "cell_type": "code",
   "execution_count": 179,
   "metadata": {
    "tags": []
   },
   "outputs": [],
   "source": [
    "BST.remove(5)"
   ]
  },
  {
   "cell_type": "code",
   "execution_count": null,
   "metadata": {},
   "outputs": [],
   "source": []
  }
 ]
}