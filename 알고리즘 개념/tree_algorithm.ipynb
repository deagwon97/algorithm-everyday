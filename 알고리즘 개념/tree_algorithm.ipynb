{
 "metadata": {
  "language_info": {
   "codemirror_mode": {
    "name": "ipython",
    "version": 3
   },
   "file_extension": ".py",
   "mimetype": "text/x-python",
   "name": "python",
   "nbconvert_exporter": "python",
   "pygments_lexer": "ipython3",
   "version": 3
  },
  "orig_nbformat": 2,
  "kernelspec": {
   "name": "python_defaultSpec_1596681402829",
   "display_name": "Python 3.7.4 64-bit ('py3.7': conda)"
  }
 },
 "nbformat": 4,
 "nbformat_minor": 2,
 "cells": [
  {
   "cell_type": "markdown",
   "metadata": {},
   "source": [
    "## 트리의 표현"
   ]
  },
  {
   "cell_type": "markdown",
   "metadata": {},
   "source": [
    "<img src=\"http://www.fun-coding.org/00_Images/tree.png\" width=\"600\" />"
   ]
  },
  {
   "cell_type": "markdown",
   "metadata": {},
   "source": [
    "### 그래프를 표현방법 3가지를 통해 트리를 표현\n",
    "1. 간선 리스트 (Edge List)와 Root Node\n",
    "2. 인접 행렬(Adjacency Matrix)과 Root Node\n",
    "3. 인접 리스트(Adjacency list)와 Root Node"
   ]
  },
  {
   "cell_type": "code",
   "execution_count": 1,
   "metadata": {},
   "outputs": [],
   "source": [
    "# 간선 리스트 (Edge List)와 Root Node\n",
    "root_node = 10\n",
    "edge_list = [[10,5],[5,3],[5,6],[10,15],[15,19]]"
   ]
  },
  {
   "cell_type": "code",
   "execution_count": 45,
   "metadata": {},
   "outputs": [
    {
     "output_type": "execute_result",
     "data": {
      "text/plain": "    3   5   6   10  15  19\n3    0   1   0   0   0   0\n5    1   0   1   0   0   0\n6    0   1   0   0   0   0\n10   0   1   0   0   1   0\n15   0   0   0   1   0   1\n19   0   0   0   0   1   0",
      "text/html": "<div>\n<style scoped>\n    .dataframe tbody tr th:only-of-type {\n        vertical-align: middle;\n    }\n\n    .dataframe tbody tr th {\n        vertical-align: top;\n    }\n\n    .dataframe thead th {\n        text-align: right;\n    }\n</style>\n<table border=\"1\" class=\"dataframe\">\n  <thead>\n    <tr style=\"text-align: right;\">\n      <th></th>\n      <th>3</th>\n      <th>5</th>\n      <th>6</th>\n      <th>10</th>\n      <th>15</th>\n      <th>19</th>\n    </tr>\n  </thead>\n  <tbody>\n    <tr>\n      <th>3</th>\n      <td>0</td>\n      <td>1</td>\n      <td>0</td>\n      <td>0</td>\n      <td>0</td>\n      <td>0</td>\n    </tr>\n    <tr>\n      <th>5</th>\n      <td>1</td>\n      <td>0</td>\n      <td>1</td>\n      <td>0</td>\n      <td>0</td>\n      <td>0</td>\n    </tr>\n    <tr>\n      <th>6</th>\n      <td>0</td>\n      <td>1</td>\n      <td>0</td>\n      <td>0</td>\n      <td>0</td>\n      <td>0</td>\n    </tr>\n    <tr>\n      <th>10</th>\n      <td>0</td>\n      <td>1</td>\n      <td>0</td>\n      <td>0</td>\n      <td>1</td>\n      <td>0</td>\n    </tr>\n    <tr>\n      <th>15</th>\n      <td>0</td>\n      <td>0</td>\n      <td>0</td>\n      <td>1</td>\n      <td>0</td>\n      <td>1</td>\n    </tr>\n    <tr>\n      <th>19</th>\n      <td>0</td>\n      <td>0</td>\n      <td>0</td>\n      <td>0</td>\n      <td>1</td>\n      <td>0</td>\n    </tr>\n  </tbody>\n</table>\n</div>"
     },
     "metadata": {},
     "execution_count": 45
    }
   ],
   "source": [
    "# 인접 행렬(Adjacency Matrix)과 Root Node\n",
    "import pandas as pd\n",
    "root_node = 10\n",
    "adjacency_matrix = pd.DataFrame([[0,1,0,0,0,0],\n",
    "                                 [1,0,1,0,0,0],\n",
    "                                 [0,1,0,0,0,0],\n",
    "                                 [0,1,0,0,1,0],\n",
    "                                 [0,0,0,1,0,1],\n",
    "                                 [0,0,0,0,1,0]])\n",
    "adjacency_matrix.columns = [3,5,6,10,15,19]\n",
    "adjacency_matrix.index = [3,5,6,10,15,19]\n",
    "adjacency_matrix"
   ]
  },
  {
   "cell_type": "code",
   "execution_count": 48,
   "metadata": {},
   "outputs": [
    {
     "output_type": "execute_result",
     "data": {
      "text/plain": "{3: [5], 5: [3, 6, 10], 6: [5], 10: [5, 15], 15: [10, 19], 19: [15]}"
     },
     "metadata": {},
     "execution_count": 48
    }
   ],
   "source": [
    "# 인접 리스트(Adjacency list)와 Root Node\n",
    "\n",
    "root_node = 10\n",
    "adjacency_list = {3:[5],\n",
    "                  5:[3,6,10],\n",
    "                  6:[5],\n",
    "                  10:[5,15],\n",
    "                  15:[10,19],\n",
    "                  19:[15]}\n",
    "# 인접리스트는 본인 노드를 head로, 인접한 노드들을 tail로 하는 linked list로 표현하는 것.\n",
    "# 여기서는 그냥 딕셔너리도 표현함.\n",
    "adjacency_list"
   ]
  },
  {
   "cell_type": "markdown",
   "metadata": {},
   "source": [
    "### Node 객체로 표현\n",
    "1. self_node\n",
    "2. parent_node\n",
    "3. child_node"
   ]
  },
  {
   "cell_type": "code",
   "execution_count": 49,
   "metadata": {},
   "outputs": [],
   "source": [
    "class Node():\n",
    "    def __init__(self, self_node):\n",
    "        self.self_node = self_node\n",
    "        self.parent_node = None\n",
    "        self.child_node_list = []"
   ]
  },
  {
   "cell_type": "code",
   "execution_count": 54,
   "metadata": {
    "tags": []
   },
   "outputs": [
    {
     "output_type": "stream",
     "name": "stdout",
     "text": "3\nNone\n[5]\n"
    }
   ],
   "source": [
    "root = Node(3)\n",
    "root.parent_node = None\n",
    "root.child_node_list = [5]\n",
    "\n",
    "print(root.self_node)\n",
    "print(root.parent_node)\n",
    "print(root.child_node_list)"
   ]
  },
  {
   "cell_type": "code",
   "execution_count": null,
   "metadata": {},
   "outputs": [],
   "source": []
  }
 ]
}