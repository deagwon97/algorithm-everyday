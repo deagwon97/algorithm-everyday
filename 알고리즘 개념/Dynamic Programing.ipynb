{
 "metadata": {
  "language_info": {
   "codemirror_mode": {
    "name": "ipython",
    "version": 3
   },
   "file_extension": ".py",
   "mimetype": "text/x-python",
   "name": "python",
   "nbconvert_exporter": "python",
   "pygments_lexer": "ipython3",
   "version": "3.8.5-final"
  },
  "orig_nbformat": 2,
  "kernelspec": {
   "name": "python_defaultSpec_1599629137016",
   "display_name": "Python 3.8.5 64-bit ('deep': conda)"
  }
 },
 "nbformat": 4,
 "nbformat_minor": 2,
 "cells": [
  {
   "cell_type": "markdown",
   "metadata": {},
   "source": [
    "# Dynamic Programing\n",
    "\n",
    "입력 크기가 작은 부분 문제들을 먼저 해결  \n",
    "작은 문제의 해를 활용하여 보다 큰 크기의 부분 문제를 해결하는 알고리즘  \n",
    "상향식 접근법  \n",
    "Memorization 기법을 사용함  \n",
    "\n"
   ]
  },
  {
   "cell_type": "markdown",
   "metadata": {},
   "source": [
    "### 피보나치 수열\n",
    "<img src=\"https://www.fun-coding.org/00_Images/Fibonacci.png\" />"
   ]
  },
  {
   "cell_type": "code",
   "execution_count": null,
   "metadata": {},
   "outputs": [],
   "source": [
    "#재귀 함수로 구현\n",
    "def fibo(num):\n",
    "    if num <=1:\n",
    "        return num\n",
    "    return fibo(num - 1) + fibo(num - 2)"
   ]
  },
  {
   "cell_type": "code",
   "execution_count": 2,
   "metadata": {},
   "outputs": [
    {
     "output_type": "execute_result",
     "data": {
      "text/plain": "3"
     },
     "metadata": {},
     "execution_count": 2
    }
   ],
   "source": [
    "fibo(4)"
   ]
  },
  {
   "cell_type": "code",
   "execution_count": 6,
   "metadata": {},
   "outputs": [],
   "source": [
    "# 다이나믹 프로그래밍으로 구현\n",
    "def fibo_dp(num):\n",
    "    cache = [0 for index in range(num + 1)]\n",
    "    cache[1] = 1\n",
    "    for index in range(2, len(cache)):\n",
    "        cache[index] = cache[index - 1] + cache[index - 2]\n",
    "    return cache[-1]\n"
   ]
  },
  {
   "cell_type": "code",
   "execution_count": 7,
   "metadata": {},
   "outputs": [
    {
     "output_type": "execute_result",
     "data": {
      "text/plain": "3"
     },
     "metadata": {},
     "execution_count": 7
    }
   ],
   "source": [
    "fibo_dp(4)"
   ]
  }
 ]
}