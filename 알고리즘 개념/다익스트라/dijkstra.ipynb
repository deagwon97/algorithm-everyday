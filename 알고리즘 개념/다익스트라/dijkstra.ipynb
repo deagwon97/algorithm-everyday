{
 "metadata": {
  "language_info": {
   "codemirror_mode": {
    "name": "ipython",
    "version": 3
   },
   "file_extension": ".py",
   "mimetype": "text/x-python",
   "name": "python",
   "nbconvert_exporter": "python",
   "pygments_lexer": "ipython3",
   "version": "3.8.5-final"
  },
  "orig_nbformat": 2,
  "kernelspec": {
   "name": "Python 3.8.5 64-bit ('deep': conda)",
   "display_name": "Python 3.8.5 64-bit ('deep': conda)",
   "metadata": {
    "interpreter": {
     "hash": "e3dd400f5d87c1a87f15209f9ca1847d91223dd67820b2a3322b88f3be052679"
    }
   }
  }
 },
 "nbformat": 4,
 "nbformat_minor": 2,
 "cells": [
  {
   "cell_type": "code",
   "execution_count": 5,
   "metadata": {},
   "outputs": [],
   "source": [
    "# 최단경로 찾기\n",
    "# 1번 노드에서 3번 노드까지 가는 길의 최단길이는??"
   ]
  },
  {
   "cell_type": "code",
   "execution_count": 18,
   "metadata": {},
   "outputs": [],
   "source": [
    "V, E = 5, 6 # 노드의 수, 간선의 수\n",
    "start = 1 # 출발노드\n",
    "# 단, 연걸된 간선의 최대 길이는 10\n",
    "links = [[5, 1, 1], # [노드A, 노드B, AB사이거리]\n",
    "        [1, 2, 2], # 1번과 2번 노드 사이의 거리는 2\n",
    "        [1, 3, 3], # 1번과 3번 노드 사이의 거리는 3\n",
    "        [2, 3, 4],\n",
    "        [2, 4, 5],\n",
    "        [3, 4, 6]]"
   ]
  },
  {
   "cell_type": "code",
   "execution_count": 25,
   "metadata": {},
   "outputs": [
    {
     "output_type": "execute_result",
     "data": {
      "text/plain": [
       "[[100, 100, 100, 100, 100, 100],\n",
       " [100, 100, 100, 100, 100, 100],\n",
       " [100, 100, 100, 100, 100, 100],\n",
       " [100, 100, 100, 100, 100, 100],\n",
       " [100, 100, 100, 100, 100, 100],\n",
       " [100, 100, 100, 100, 100, 100]]"
      ]
     },
     "metadata": {},
     "execution_count": 25
    }
   ],
   "source": [
    "# 1. 인접 행렬 만들기\n",
    "# 100으로 초기화된 V*V 크기의 행렬 생성\n",
    "adj_matrix = [[100 for i in range(V+1)] for j in range(V+1)]\n",
    "adj_matrix"
   ]
  },
  {
   "cell_type": "code",
   "execution_count": 28,
   "metadata": {},
   "outputs": [
    {
     "output_type": "execute_result",
     "data": {
      "text/plain": [
       "[[100, 100, 100, 100, 100, 100],\n",
       " [100, 100, 2, 3, 100, 1],\n",
       " [100, 2, 100, 4, 5, 100],\n",
       " [100, 3, 4, 100, 6, 100],\n",
       " [100, 100, 5, 6, 100, 100],\n",
       " [100, 1, 100, 100, 100, 100]]"
      ]
     },
     "metadata": {},
     "execution_count": 28
    }
   ],
   "source": [
    "# 2. 연결된 간선의 길이를 link를 이용하여 업데이트\n",
    "for link in links:\n",
    "    adj_matrix[link[0]][link[1]] = link[2]\n",
    "    adj_matrix[link[1]][link[0]] = link[2]\n",
    "adj_matrix"
   ]
  },
  {
   "cell_type": "code",
   "execution_count": null,
   "metadata": {},
   "outputs": [],
   "source": [
    "# 출발하기\n",
    "node = start\n",
    "while(True):\n",
    "    for near in adj_matrix[node]:\n",
    "        if near == 100:\n",
    "            continue\n",
    "        dis = 0\n",
    "        step = start\n",
    "        while(True):\n",
    "            adj_matrix[]"
   ]
  },
  {
   "cell_type": "code",
   "execution_count": 34,
   "metadata": {},
   "outputs": [],
   "source": [
    "V = 6\n",
    "inf = 100000 # 충분히 큰 숫자\n",
    "\n",
    "graph = [[0,  2,   5, 1,   inf, inf],\n",
    "         [2,  0,   3, 2,   inf, inf],\n",
    "         [5,  3,   0, 3,   1,   5  ],\n",
    "         [1,  2,   3, 0,   1,   inf],\n",
    "         [inf,inf, 1, 1,   0,   2  ],\n",
    "         [inf,inf, 5, inf, 2,   0  ]]\n",
    "\n",
    "visit = [False for i in range(V)] # node의 방문 여부를 확인 True/False\n",
    "dis = [inf for i in range(V)] # start에서 node 까지의 최단 거리를 기록\n",
    "\n",
    "def getSmallIndex():\n",
    "    # 거리가 최소인 정점을 반환\n",
    "    # 현재까지 업데이트된 dis를 기준으로 start에서 가장 가까운 노드의 인덱스 찾기\n",
    "    min = inf\n",
    "    index = 0\n",
    "    for i in range(V):\n",
    "        if(dis[i]<min) and (not visit[i]):\n",
    "        # 이전에 방문하지 않았으면서 dis속 가장 작은 수의 인덱스 찾기\n",
    "            min = dis[i]\n",
    "            index = i\n",
    "    return index\n",
    "\n",
    "def dijkstra(start):\n",
    "    # 1. start에서 특정 노드까지의 거리를 업데이트\n",
    "    for i in range(V):\n",
    "        dis[i] = graph[start][i]\n",
    "    visit[start] = True # start를 방문 처리\n",
    "\n",
    "\n",
    "    # 2. \n",
    "    for i in range (V - 1): # V-1번 반복 # 자기 자신과 마지막 인덱스 제외\n",
    "        current = getSmallIndex() # start에서 가장가까운 노드 반환\n",
    "        visit[current] = True # 반환된 노드는 방문처리\n",
    "        \n",
    "        # current노드에서 j노드로 가는 경로의 거리 비교\n",
    "        for j in range(V):\n",
    "            if not visit[j]:\n",
    "                if dis[current] + graph[current][j] < dis[j]:\n",
    "                    dis[j] = dis[current] + graph[current][j]"
   ]
  },
  {
   "cell_type": "code",
   "execution_count": 35,
   "metadata": {},
   "outputs": [
    {
     "output_type": "stream",
     "name": "stdout",
     "text": [
      "0\n2\n3\n1\n2\n4\n"
     ]
    }
   ],
   "source": [
    "dijkstra(0)\n",
    "for i in range(V):\n",
    "    print(dis[i])"
   ]
  },
  {
   "cell_type": "code",
   "execution_count": 37,
   "metadata": {},
   "outputs": [],
   "source": []
  },
  {
   "cell_type": "code",
   "execution_count": null,
   "metadata": {},
   "outputs": [],
   "source": [
    "queue = p[heapq\n",
    "heapq.heappush(queue, [])"
   ]
  },
  {
   "cell_type": "code",
   "execution_count": 42,
   "metadata": {},
   "outputs": [
    {
     "output_type": "stream",
     "name": "stdout",
     "text": [
      "[[1, 'C'], [5, 'B'], [2, 'A'], [7, 'D']]\n[1, 'C']\n[2, 'A']\n[5, 'B']\n[7, 'D']\n"
     ]
    }
   ],
   "source": [
    "# 우선순위 큐란?\n",
    "# 넣는 순서에 상관없이 우선순위에 따라 pop하는 자료구조\n",
    "\n",
    "import heapq\n",
    "\n",
    "queue = []\n",
    "\n",
    "heapq.heappush(queue, [2, 'A'])\n",
    "heapq.heappush(queue, [5, 'B'])\n",
    "heapq.heappush(queue, [1, 'C'])\n",
    "heapq.heappush(queue, [7, 'D'])\n",
    "print (queue)\n",
    "for index in range(len(queue)):\n",
    "    print (heapq.heappop(queue))"
   ]
  },
  {
   "cell_type": "code",
   "execution_count": 59,
   "metadata": {},
   "outputs": [],
   "source": [
    "V = 6\n",
    "inf = 100000 # 충분히 큰 숫자\n",
    "\n",
    "graph = [[0,  2,   5, 1,   inf, inf],\n",
    "         [2,  0,   3, 2,   inf, inf],\n",
    "         [5,  3,   0, 3,   1,   5  ],\n",
    "         [1,  2,   3, 0,   1,   inf],\n",
    "         [inf,inf, 1, 1,   0,   2  ],\n",
    "         [inf,inf, 5, inf, 2,   0  ]]\n",
    "\n",
    "visit = [False for i in range(V)] # node의 방문 여부를 확인 True/False\n",
    "dis = [inf for i in range(V)] # start에서 node 까지의 최단 거리를 기록\n",
    "\n",
    "adj_list = {i:{j:graph[i][j] for j in range(V)} for i in range(V)}"
   ]
  },
  {
   "cell_type": "code",
   "execution_count": 60,
   "metadata": {},
   "outputs": [
    {
     "output_type": "execute_result",
     "data": {
      "text/plain": [
       "{0: {0: 0, 1: 2, 2: 5, 3: 1, 4: 100000, 5: 100000},\n",
       " 1: {0: 2, 1: 0, 2: 3, 3: 2, 4: 100000, 5: 100000},\n",
       " 2: {0: 5, 1: 3, 2: 0, 3: 3, 4: 1, 5: 5},\n",
       " 3: {0: 1, 1: 2, 2: 3, 3: 0, 4: 1, 5: 100000},\n",
       " 4: {0: 100000, 1: 100000, 2: 1, 3: 1, 4: 0, 5: 2},\n",
       " 5: {0: 100000, 1: 100000, 2: 5, 3: 100000, 4: 2, 5: 0}}"
      ]
     },
     "metadata": {},
     "execution_count": 60
    }
   ],
   "source": [
    "adj_list"
   ]
  },
  {
   "cell_type": "code",
   "execution_count": 46,
   "metadata": {},
   "outputs": [],
   "source": [
    "def dijkstra(start):\n",
    "    # 1. start에서 특정 노드까지의 거리를 업데이트\n",
    "    dis[start] = 0\n",
    "    \n",
    "    queue = []\n",
    "    heapq.heappush(queue, [start, 0])\n",
    "\n",
    "    while queue:\n",
    "        current, distance = heapq.heappop(queue)\n",
    "        if dis[current] < distance:\n",
    "            continue\n",
    "        for i in range(V):\n",
    "            next = graph[current][i][0]\n",
    "            next_dis = distance + graph[current][i][1]\n",
    "\n",
    "    for i in range(V):\n",
    "        dis[i] = graph[start][i]\n",
    "    visit[start] = True # start를 방문 처리\n",
    "\n",
    "\n",
    "    # 2. \n",
    "    for i in range (V - 1): # V-1번 반복 # 자기 자신과 마지막 인덱스 제외\n",
    "        current = getSmallIndex() # start에서 가장가까운 노드 반환\n",
    "        visit[current] = True # 반환된 노드는 방문처리\n",
    "        \n",
    "        # current노드에서 j노드로 가는 경로의 거리 비교\n",
    "        for j in range(V):\n",
    "            if not visit[j]:\n",
    "                if dis[current] + graph[current][j] < dis[j]:\n",
    "                    dis[j] = dis[current] + graph[current][j]"
   ]
  },
  {
   "cell_type": "code",
   "execution_count": null,
   "metadata": {},
   "outputs": [],
   "source": [
    "\n",
    "\n",
    "\n",
    "\n"
   ]
  },
  {
   "cell_type": "code",
   "execution_count": 80,
   "metadata": {},
   "outputs": [
    {
     "output_type": "stream",
     "name": "stdout",
     "text": [
      "4\n"
     ]
    }
   ],
   "source": [
    "#3과 5를 가장 적게 사용하여 N을 만들기\n",
    "N = int(input())\n",
    "def coin_dp(N):\n",
    "    if N == 4:\n",
    "        return -1\n",
    "    elif N == 3 or N == 5:\n",
    "        return 1\n",
    "    else:\n",
    "        cache = [99999 for _ in range(N+1)]\n",
    "        cache[1] = 99999\n",
    "        cache[2] = 99999\n",
    "        cache[3] = 1\n",
    "        cache[4] = 99999\n",
    "        cache[5] = 1\n",
    "        for index in range(6, len(cache)):\n",
    "            if cache[index - 3] == 99999 and cache[index - 5] == 99999:\n",
    "                cache[index] = 99999             \n",
    "            else:\n",
    "                cache[index] = min(cache[index - 3], cache[index - 5]) + 1\n",
    "        \n",
    "        if cache[-1] == 99999:\n",
    "            return -1\n",
    "        else:\n",
    "            return cache[-1] \n",
    "print(coin_dp(N))\n"
   ]
  },
  {
   "cell_type": "code",
   "execution_count": 77,
   "metadata": {},
   "outputs": [
    {
     "output_type": "execute_result",
     "data": {
      "text/plain": [
       "4"
      ]
     },
     "metadata": {},
     "execution_count": 77
    }
   ],
   "source": [
    "coin_dp(18)"
   ]
  },
  {
   "cell_type": "code",
   "execution_count": null,
   "metadata": {},
   "outputs": [],
   "source": []
  },
  {
   "cell_type": "code",
   "execution_count": 4,
   "metadata": {},
   "outputs": [
    {
     "output_type": "stream",
     "name": "stdout",
     "text": [
      "3\n5\n7\n11\n13\n17\n19\n23\n29\n31\n37\n41\n43\n47\n53\n59\n61\n67\n71\n73\n79\n83\n89\n97\n101\n103\n107\n109\n113\n127\n131\n137\n139\n149\n151\n157\n163\n167\n173\n179\n181\n191\n193\n197\n199\n211\n223\n227\n229\n233\n239\n241\n251\n257\n263\n269\n271\n277\n281\n283\n293\n307\n311\n313\n317\n331\n337\n347\n349\n353\n359\n367\n373\n379\n383\n389\n397\n401\n409\n419\n421\n431\n433\n439\n443\n449\n457\n461\n463\n467\n479\n487\n491\n499\n503\n509\n521\n523\n541\n547\n557\n563\n569\n571\n577\n587\n593\n599\n601\n607\n613\n617\n619\n631\n641\n643\n647\n653\n659\n661\n673\n677\n683\n691\n701\n709\n719\n727\n733\n739\n743\n751\n757\n761\n769\n773\n787\n797\n809\n811\n821\n823\n827\n829\n839\n853\n857\n859\n863\n877\n881\n883\n887\n907\n911\n919\n929\n937\n941\n947\n953\n967\n971\n977\n983\n991\n997\n"
     ]
    }
   ],
   "source": [
    "#소수 판별 1000보다 작은 소수를 출력\n",
    "\n",
    "prime_list = [2]\n",
    "\n",
    "def find_prime(N, prime_list):\n",
    "    for n in prime_list:\n",
    "        if N % n == 0:\n",
    "            return False\n",
    "    return True\n",
    "\n",
    "\n",
    "for num in range(3, 1001):\n",
    "    result = find_prime(num, prime_list)\n",
    "    if result == True:\n",
    "        prime_list.append(num)\n",
    "        print(num)"
   ]
  },
  {
   "cell_type": "code",
   "execution_count": null,
   "metadata": {},
   "outputs": [],
   "source": []
  }
 ]
}