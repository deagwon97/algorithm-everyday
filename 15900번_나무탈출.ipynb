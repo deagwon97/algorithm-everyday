{
 "cells": [
  {
   "cell_type": "markdown",
   "metadata": {},
   "source": [
    "* 난이도 : silver1\n",
    "* 걸린 시간 :\n",
    "* 문제 요약\n",
    "    1. input\n",
    "        - Node의 갯수를 N\n",
    "        - 노드간의 연결을 list로 입력받는다. ex) ```[[1,2], [1,3], [2,3], [3,4]]```\n",
    "        - 1번 노드가 트의 최상위 노드이다.\n",
    "    2. Output\n",
    "        - leaf노드마다 최상위 노드로 움직일 때 걸리는 최단 step들을 구하여 합한다.\n",
    "        - 합이 홀수면 NO, 짝수면 YES를 출력한다.\n",
    "* 아이디어  \n",
    "        - "
   ]
  },
  {
   "cell_type": "code",
   "execution_count": 69,
   "metadata": {
    "tags": []
   },
   "outputs": [
    {
     "output_type": "stream",
     "name": "stdout",
     "text": "Yes\n"
    }
   ],
   "source": [
    "def get_input_make_dic():\n",
    "    linked_dic = {}\n",
    "    N = int(input())\n",
    "    for i in range(1, N+1):\n",
    "        linked_dic[i] = []\n",
    "    for i in range(N-1):\n",
    "        link = list(map(int, input().split()))\n",
    "        linked_dic[link[0]].append(link[1])\n",
    "        linked_dic[link[1]].append(link[0])\n",
    "    return linked_dic\n",
    "\n",
    "def count_node(now_node, parent_node, count = 0):\n",
    "    global total\n",
    "    children_list = linked_dic[now_node]\n",
    "    if children_list == [parent_node]:\n",
    "        total = total + count\n",
    "    else:\n",
    "        count = count + 1\n",
    "        for child in children_list:\n",
    "            if child == parent_node:\n",
    "                continue\n",
    "            else:\n",
    "                count_node(child, now_node, count = count)\n",
    "\n",
    "linked_dic = get_input_make_dic()\n",
    "total = 0\n",
    "count_node(1, None, count = 0)\n",
    "if total % 2 == 0:\n",
    "    print('No')\n",
    "else:\n",
    "    print('Yes')"
   ]
  }
 ],
 "metadata": {
  "kernelspec": {
   "display_name": "Python 3.7.4 64-bit",
   "language": "python",
   "name": "python_defaultSpec_1596016803968"
  },
  "language_info": {
   "codemirror_mode": {
    "name": "ipython",
    "version": 3
   },
   "file_extension": ".py",
   "mimetype": "text/x-python",
   "name": "python",
   "nbconvert_exporter": "python",
   "pygments_lexer": "ipython3",
   "version": "3.7.4-final"
  }
 },
 "nbformat": 4,
 "nbformat_minor": 2
}