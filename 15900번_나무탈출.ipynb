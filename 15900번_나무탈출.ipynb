{
 "cells": [
  {
   "cell_type": "markdown",
   "metadata": {},
   "source": [
    "* 난이도 : silver1\n",
    "* 걸린 시간 :\n",
    "* 문제 요약\n",
    "    1. input\n",
    "        - Node의 갯수를 N\n",
    "        - 노드간의 연결을 list로 입력받는다. ex) ```[[1,2], [1,3], [2,3], [3,4]]```\n",
    "        - 1번 노드가 트의 최상위 노드이다.\n",
    "    2. Output\n",
    "        - leaf노드마다 최상위 노드로 움직일 때 걸리는 최단 step들을 구하여 합한다.\n",
    "        - 합이 홀수면 NO, 짝수면 YES를 출력한다.\n",
    "* 아이디어  \n",
    "        - 입력 받은 linked_list와 1이 최상위 노드라는 정보를 이용하여 Tree를 복원한다.\n",
    "        - Node별로 Node 객체를 생성하여 노드간 접근이 용이하게 한다."
   ]
  },
  {
   "cell_type": "code",
   "execution_count": null,
   "metadata": {},
   "outputs": [],
   "source": []
  },
  {
   "cell_type": "code",
   "execution_count": null,
   "metadata": {},
   "outputs": [],
   "source": []
  },
  {
   "cell_type": "code",
   "execution_count": null,
   "metadata": {},
   "outputs": [],
   "source": []
  },
  {
   "cell_type": "code",
   "execution_count": 1,
   "metadata": {
    "tags": []
   },
   "outputs": [
    {
     "output_type": "execute_result",
     "data": {
      "text/plain": "{1: [8, 4, 3],\n 2: [3],\n 3: [2, 1],\n 4: [7, 1, 6],\n 5: [6],\n 6: [5, 4],\n 7: [4],\n 8: [1]}"
     },
     "metadata": {},
     "execution_count": 1
    }
   ],
   "source": [
    "def get_input():\n",
    "    N = int(input())\n",
    "    for i in range(N-1):\n",
    "        linked_list.append(list(map(int, input().split())))\n",
    "    return N, linked_list\n",
    "\n",
    "def make_tree_dic(linked_list, N):\n",
    "    linked_dic = {}\n",
    "    for i in range(1, N+1):\n",
    "        linked_dic[i] = []\n",
    "    for link in linked_list:\n",
    "        linked_dic[link[0]].append(link[1])\n",
    "        linked_dic[link[1]].append(link[0])\n",
    "        \n",
    "    return linked_dic\n",
    "\n",
    "\n",
    "'''N, linked_list = get_input()'''\n",
    "##예제 입력\n",
    "N = 8\n",
    "linked_list = [[7,4],[2,3],[8,1],[1,4],[6,5],[1,3],[6,4]]\n",
    "'''N = 4\n",
    "linked_list = [[1, 2], [2, 3], [2, 4]]'''\n",
    "##\n",
    "\n",
    "linked_dic = make_tree_dic(linked_list, N)\n",
    "linked_dic"
   ]
  },
  {
   "cell_type": "code",
   "execution_count": 13,
   "metadata": {},
   "outputs": [
    {
     "output_type": "execute_result",
     "data": {
      "text/plain": "{1: [8, 4, 3],\n 2: [3],\n 3: [2, 1],\n 4: [7, 1, 6],\n 5: [6],\n 6: [5, 4],\n 7: [4],\n 8: [1]}"
     },
     "metadata": {},
     "execution_count": 13
    }
   ],
   "source": [
    "linked_dic"
   ]
  },
  {
   "cell_type": "code",
   "execution_count": 28,
   "metadata": {},
   "outputs": [
    {
     "output_type": "execute_result",
     "data": {
      "text/plain": "8"
     },
     "metadata": {},
     "execution_count": 28
    }
   ],
   "source": [
    "\n",
    "total_count = 0\n",
    "\n",
    "def count_step(del_node, parent_node, linked_dic, count):\n",
    "    global total_count\n",
    "\n",
    "\n",
    "    children_list = linked_dic[parent_node]\n",
    "\n",
    "    if (len(children_list) == 1) and (children_list[0] == del_node):\n",
    "        total_count += count\n",
    "    else:\n",
    "        for child in children_list:\n",
    "            if child == del_node:\n",
    "                pass\n",
    "            else:\n",
    "                count_step(parent_node, child, linked_dic, count + 1)\n",
    "count_step(None, 1, linked_dic, 0)\n",
    "\n",
    "total_count"
   ]
  },
  {
   "cell_type": "code",
   "execution_count": 29,
   "metadata": {
    "tags": []
   },
   "outputs": [
    {
     "output_type": "stream",
     "name": "stdout",
     "text": "Yes\n"
    }
   ],
   "source": [
    "def get_input():\n",
    "    N = int(input())\n",
    "    for i in range(N-1):\n",
    "        linked_list.append(list(map(int, input().split())))\n",
    "    return N, linked_list\n",
    "\n",
    "def make_tree_dic(linked_list, N):\n",
    "    linked_dic = {}\n",
    "    for i in range(1, N+1):\n",
    "        linked_dic[i] = []\n",
    "    for link in linked_list:\n",
    "        linked_dic[link[0]].append(link[1])\n",
    "        linked_dic[link[1]].append(link[0])\n",
    "        \n",
    "    return linked_dic\n",
    "\n",
    "\n",
    "linked_dic = make_tree_dic(linked_list, N)\n",
    "\n",
    "\n",
    "total_count = 0\n",
    "\n",
    "def count_step(del_node, parent_node, linked_dic, count):\n",
    "    global total_count\n",
    "\n",
    "\n",
    "    children_list = linked_dic[parent_node]\n",
    "\n",
    "    if (len(children_list) == 1) and (children_list[0] == del_node):\n",
    "        total_count += count\n",
    "    else:\n",
    "        for child in children_list:\n",
    "            if child == del_node:\n",
    "                pass\n",
    "            else:\n",
    "                count_step(parent_node, child, linked_dic, count + 1)\n",
    "count_step(None, 1, linked_dic, 0)\n",
    "\n",
    "if total_count %2 == 0:\n",
    "    print('Yes')\n",
    "else:\n",
    "    print('No')"
   ]
  },
  {
   "cell_type": "code",
   "execution_count": null,
   "metadata": {},
   "outputs": [],
   "source": []
  },
  {
   "cell_type": "code",
   "execution_count": 2,
   "metadata": {},
   "outputs": [
    {
     "ename": "SyntaxError",
     "evalue": "invalid syntax (<ipython-input-2-0945007677c2>, line 7)",
     "output_type": "error",
     "traceback": [
      "\u001b[1;36m  File \u001b[1;32m\"<ipython-input-2-0945007677c2>\"\u001b[1;36m, line \u001b[1;32m7\u001b[0m\n\u001b[1;33m    if links[i] == linkes[i + 1]\u001b[0m\n\u001b[1;37m                                ^\u001b[0m\n\u001b[1;31mSyntaxError\u001b[0m\u001b[1;31m:\u001b[0m invalid syntax\n"
     ]
    }
   ],
   "source": [
    "links =[]\n",
    "for link in linked_list:\n",
    "    links.append(link[0])\n",
    "    links.append(link[1])\n",
    "links.sort()\n",
    "for i in range(lens(links) - 1):\n",
    "    if links[i] == linkes[i + 1]\n",
    "i = 0\n",
    "new = True\n",
    "while(i < lens(links) - 1):\n",
    "    if links[i] == linkes[i + 1]:\n",
    "        "
   ]
  },
  {
   "cell_type": "code",
   "execution_count": 3,
   "metadata": {},
   "outputs": [],
   "source": [
    "def make_tree(linked_dic):\n",
    "    del_list = []\n",
    "    for i in linked_dic[1]:\n",
    "        linked_dic[i]\n",
    "    return tree_dic"
   ]
  },
  {
   "cell_type": "code",
   "execution_count": 4,
   "metadata": {},
   "outputs": [],
   "source": [
    "class Node():\n",
    "    node_number = None\n",
    "    parent_node = None \n",
    "    children_list = []\n",
    "\n",
    "    def __init__(self, node_number):\n",
    "        self.node_number = node_number\n",
    "\n",
    "    def set_parent_node(self,\n",
    "                 parent_node):\n",
    "        self.parent_node = parent_node\n",
    "\n",
    "    def set_children_list(self,\n",
    "                 children_list):\n",
    "        self.children_list = children_list\n",
    "    \n",
    "    \n",
    "\n",
    "    # 여기다가 카운트 하는 함수를 넣는게 어떨까"
   ]
  },
  {
   "cell_type": "code",
   "execution_count": 5,
   "metadata": {
    "tags": []
   },
   "outputs": [
    {
     "name": "stdout",
     "output_type": "stream",
     "text": [
      "[[7, 4], [2, 3], [8, 1], [1, 4], [6, 5], [1, 3], [6, 4]]\n"
     ]
    },
    {
     "data": {
      "text/plain": [
       "([[7, 4], [2, 3], [6, 5], [6, 4]], [8, 4, 3])"
      ]
     },
     "execution_count": 5,
     "metadata": {},
     "output_type": "execute_result"
    }
   ],
   "source": [
    "def find_children(linked_list, parent):\n",
    "    children_list = []\n",
    "    del_list = []\n",
    "\n",
    "    linked_index = 0\n",
    "    while(linked_index < len(linked_list)):\n",
    "        if parent == linked_list[linked_index][0]:\n",
    "            children_list.append(linked_list[linked_index][1])   \n",
    "            del linked_list[linked_index]\n",
    "        elif parent == linked_list[linked_index][1]:\n",
    "            children_list.append(linked_list[linked_index][0]) \n",
    "            del linked_list[linked_index]\n",
    "        else:\n",
    "            linked_index += 1\n",
    "    return linked_list, children_list\n",
    "\n",
    "N = 8\n",
    "linked_list = [[7,4],[2,3],[8,1],[1,4],[6,5],[1,3],[6,4]]\n",
    "print(linked_list)\n",
    "find_children(linked_list.copy(), 1)\n"
   ]
  },
  {
   "cell_type": "code",
   "execution_count": 6,
   "metadata": {},
   "outputs": [
    {
     "name": "stdout",
     "output_type": "stream",
     "text": [
      "\n"
     ]
    },
    {
     "ename": "ValueError",
     "evalue": "invalid literal for int() with base 10: ''",
     "output_type": "error",
     "traceback": [
      "\u001b[1;31m---------------------------------------------------------------------------\u001b[0m",
      "\u001b[1;31mValueError\u001b[0m                                Traceback (most recent call last)",
      "\u001b[1;32m<ipython-input-6-e55f53f7d297>\u001b[0m in \u001b[0;36m<module>\u001b[1;34m\u001b[0m\n\u001b[0;32m     97\u001b[0m \u001b[1;31m#N = 8\u001b[0m\u001b[1;33m\u001b[0m\u001b[1;33m\u001b[0m\u001b[1;33m\u001b[0m\u001b[0m\n\u001b[0;32m     98\u001b[0m \u001b[1;31m#linked_list = [[7,4],[2,3],[8,1],[1,4],[6,5],[1,3],[6,4]]\u001b[0m\u001b[1;33m\u001b[0m\u001b[1;33m\u001b[0m\u001b[1;33m\u001b[0m\u001b[0m\n\u001b[1;32m---> 99\u001b[1;33m \u001b[0mN\u001b[0m\u001b[1;33m,\u001b[0m \u001b[0mlinked_list\u001b[0m\u001b[1;33m=\u001b[0m \u001b[0mget_input\u001b[0m\u001b[1;33m(\u001b[0m\u001b[1;33m)\u001b[0m\u001b[1;33m\u001b[0m\u001b[1;33m\u001b[0m\u001b[0m\n\u001b[0m\u001b[0;32m    100\u001b[0m \u001b[1;31m# 트리 만들기\u001b[0m\u001b[1;33m\u001b[0m\u001b[1;33m\u001b[0m\u001b[1;33m\u001b[0m\u001b[0m\n\u001b[0;32m    101\u001b[0m \u001b[0mtree\u001b[0m \u001b[1;33m=\u001b[0m \u001b[0mmake_tree\u001b[0m\u001b[1;33m(\u001b[0m\u001b[0mlinked_list\u001b[0m \u001b[1;33m=\u001b[0m \u001b[0mlinked_list\u001b[0m\u001b[1;33m)\u001b[0m\u001b[1;33m\u001b[0m\u001b[1;33m\u001b[0m\u001b[0m\n",
      "\u001b[1;32m<ipython-input-6-e55f53f7d297>\u001b[0m in \u001b[0;36mget_input\u001b[1;34m()\u001b[0m\n\u001b[0;32m      1\u001b[0m \u001b[1;32mdef\u001b[0m \u001b[0mget_input\u001b[0m\u001b[1;33m(\u001b[0m\u001b[1;33m)\u001b[0m\u001b[1;33m:\u001b[0m\u001b[1;33m\u001b[0m\u001b[1;33m\u001b[0m\u001b[0m\n\u001b[1;32m----> 2\u001b[1;33m     \u001b[0mN\u001b[0m \u001b[1;33m=\u001b[0m \u001b[0mint\u001b[0m\u001b[1;33m(\u001b[0m\u001b[0minput\u001b[0m\u001b[1;33m(\u001b[0m\u001b[1;33m)\u001b[0m\u001b[1;33m)\u001b[0m\u001b[1;33m\u001b[0m\u001b[1;33m\u001b[0m\u001b[0m\n\u001b[0m\u001b[0;32m      3\u001b[0m     \u001b[0mlinked_list\u001b[0m \u001b[1;33m=\u001b[0m \u001b[1;33m[\u001b[0m\u001b[1;33m]\u001b[0m\u001b[1;33m\u001b[0m\u001b[1;33m\u001b[0m\u001b[0m\n\u001b[0;32m      4\u001b[0m     \u001b[1;32mfor\u001b[0m \u001b[0mi\u001b[0m \u001b[1;32min\u001b[0m \u001b[0mrange\u001b[0m\u001b[1;33m(\u001b[0m\u001b[0mN\u001b[0m\u001b[1;33m-\u001b[0m\u001b[1;36m1\u001b[0m\u001b[1;33m)\u001b[0m\u001b[1;33m:\u001b[0m\u001b[1;33m\u001b[0m\u001b[1;33m\u001b[0m\u001b[0m\n\u001b[0;32m      5\u001b[0m         \u001b[0mlinked_list\u001b[0m\u001b[1;33m.\u001b[0m\u001b[0mappend\u001b[0m\u001b[1;33m(\u001b[0m\u001b[0mlist\u001b[0m\u001b[1;33m(\u001b[0m\u001b[0mmap\u001b[0m\u001b[1;33m(\u001b[0m\u001b[0mint\u001b[0m\u001b[1;33m,\u001b[0m \u001b[0minput\u001b[0m\u001b[1;33m(\u001b[0m\u001b[1;33m)\u001b[0m\u001b[1;33m.\u001b[0m\u001b[0msplit\u001b[0m\u001b[1;33m(\u001b[0m\u001b[1;33m)\u001b[0m\u001b[1;33m)\u001b[0m\u001b[1;33m)\u001b[0m\u001b[1;33m)\u001b[0m\u001b[1;33m\u001b[0m\u001b[1;33m\u001b[0m\u001b[0m\n",
      "\u001b[1;31mValueError\u001b[0m: invalid literal for int() with base 10: ''"
     ]
    }
   ],
   "source": [
    "def get_input():\n",
    "    N = int(input())\n",
    "    linked_list = []\n",
    "    for i in range(N-1):\n",
    "        linked_list.append(list(map(int, input().split())))\n",
    "    return N, linked_list\n",
    "\n",
    "class Node():\n",
    "    node_number = None\n",
    "    parent_node = None \n",
    "    children_list = []\n",
    "    step = 0\n",
    "\n",
    "    def __init__(self, node_number):\n",
    "        self.node_number = node_number\n",
    "\n",
    "    def set_parent_node(self, parent_node):\n",
    "        self.parent_node = parent_node\n",
    "\n",
    "    def set_children_list(self, children_list):\n",
    "        self.children_list = children_list\n",
    "\n",
    "    def del_child(self, child):\n",
    "        for i in range(len(self.children_list)):\n",
    "            if self.children_list[i] == child:\n",
    "                del self.children_list[i]\n",
    "                break\n",
    "\n",
    "    def puls_step(self, plus):\n",
    "        self.step += plus\n",
    "\n",
    "class make_tree():\n",
    "    node_classes = [None]\n",
    "    linked_list = []\n",
    "\n",
    "    def __init__(self, linked_list):\n",
    "        self.linked_list = linked_list\n",
    "\n",
    "        for node in range(1, N+1):\n",
    "            self.node_classes.append(Node(node))\n",
    "        self.make_tree(1, None)\n",
    "\n",
    "\n",
    "    def find_children(linked_list, parent):\n",
    "        children_list = []\n",
    "        #del_list = []\n",
    "\n",
    "        linked_index = 0\n",
    "        while(linked_index < len(linked_list)):\n",
    "            if parent == linked_list[linked_index][0]:\n",
    "                children_list.append(linked_list[linked_index][1])   \n",
    "                del linked_list[linked_index]\n",
    "            elif parent == linked_list[linked_index][1]:\n",
    "                children_list.append(linked_list[linked_index][0]) \n",
    "                del linked_list[linked_index]\n",
    "            else:\n",
    "                linked_index += 1\n",
    "        return linked_list, children_list\n",
    "\n",
    "\n",
    "    def make_tree_(self, now_node, parent_node):\n",
    "        self.node_classes[now_node].set_parent_node(parent_node)\n",
    "        self.linked_list, children_list = self.find_children(self.linked_list, now_node)\n",
    "        self.node_classes[now_node].set_children_list(children_list)\n",
    "        if children_list == []:\n",
    "            pass\n",
    "        else:\n",
    "            for children in children_list:\n",
    "                self.make_tree_(children, now_node)\n",
    "\n",
    "\n",
    "\n",
    "def find_ancestral(leaf, node_classes):\n",
    "    count = 1\n",
    "    if node_classes[leaf].parent_node == None:\n",
    "        return 0\n",
    "    else:\n",
    "        return count + find_ancestral(node_classes[leaf].parent_node, node_classes)\n",
    "\n",
    "\n",
    "def find_leaf_list(node_classes):\n",
    "    leaf_list = []\n",
    "    for node in range(1, N + 1):\n",
    "        if node_classes[node].children_list == []:\n",
    "            leaf_list.append(node)\n",
    "    return leaf_list\n",
    "\n",
    "def count_total_step(leaf_list, node_classes):\n",
    "    total_count = 0\n",
    "    for leaf in leaf_list:\n",
    "        total_count = find_ancestral(leaf, node_classes) + total_count\n",
    "    return total_count\n",
    "\n",
    "\n",
    "# \n",
    "\n",
    "#N = 8\n",
    "#linked_list = [[7,4],[2,3],[8,1],[1,4],[6,5],[1,3],[6,4]]\n",
    "N, linked_list= get_input()\n",
    "# 트리 만들기\n",
    "tree = make_tree(linked_list = linked_list)\n",
    "node_classes = tree.node_classes\n",
    "\n",
    "\n",
    "leaf_list = find_leaf_list(node_classes)\n",
    "\n",
    "if count_total_step(leaf_list, node_classes) % 2 ==0:\n",
    "    print('No')\n",
    "else:\n",
    "    print('Yes')"
   ]
  },
  {
   "cell_type": "code",
   "execution_count": 10,
   "metadata": {},
   "outputs": [
    {
     "output_type": "execute_result",
     "data": {
      "text/plain": "{1: [2, 3, 4, 5],\n 2: [1],\n 3: [1],\n 4: [1],\n 5: [1, 6, 7, 8],\n 6: [5],\n 7: [5],\n 8: [5]}"
     },
     "metadata": {},
     "execution_count": 10
    }
   ],
   "source": [
    "N, linked_dic = get_input_make_dic()\n",
    "linked_dic"
   ]
  },
  {
   "cell_type": "code",
   "execution_count": 12,
   "metadata": {
    "tags": []
   },
   "outputs": [
    {
     "output_type": "error",
     "ename": "TypeError",
     "evalue": "count_step() takes 3 positional arguments but 4 were given",
     "traceback": [
      "\u001b[1;31m---------------------------------------------------------------------------\u001b[0m",
      "\u001b[1;31mTypeError\u001b[0m                                 Traceback (most recent call last)",
      "\u001b[1;32m<ipython-input-12-a3b960a032ce>\u001b[0m in \u001b[0;36m<module>\u001b[1;34m\u001b[0m\n\u001b[0;32m     28\u001b[0m                 \u001b[0mcount_step\u001b[0m\u001b[1;33m(\u001b[0m\u001b[0mparent_node\u001b[0m\u001b[1;33m,\u001b[0m \u001b[0mchild\u001b[0m\u001b[1;33m,\u001b[0m \u001b[0mcount\u001b[0m \u001b[1;33m+\u001b[0m \u001b[1;36m1\u001b[0m\u001b[1;33m)\u001b[0m\u001b[1;33m\u001b[0m\u001b[1;33m\u001b[0m\u001b[0m\n\u001b[0;32m     29\u001b[0m \u001b[1;33m\u001b[0m\u001b[0m\n\u001b[1;32m---> 30\u001b[1;33m \u001b[0mcount_step\u001b[0m\u001b[1;33m(\u001b[0m\u001b[1;32mNone\u001b[0m\u001b[1;33m,\u001b[0m \u001b[1;36m1\u001b[0m\u001b[1;33m,\u001b[0m \u001b[0mlinked_dic\u001b[0m\u001b[1;33m,\u001b[0m \u001b[1;36m0\u001b[0m\u001b[1;33m)\u001b[0m\u001b[1;33m\u001b[0m\u001b[1;33m\u001b[0m\u001b[0m\n\u001b[0m\u001b[0;32m     31\u001b[0m \u001b[1;33m\u001b[0m\u001b[0m\n\u001b[0;32m     32\u001b[0m \u001b[1;32mif\u001b[0m \u001b[0mtotal_count\u001b[0m \u001b[1;33m%\u001b[0m\u001b[1;36m2\u001b[0m \u001b[1;33m==\u001b[0m \u001b[1;36m0\u001b[0m\u001b[1;33m:\u001b[0m\u001b[1;33m\u001b[0m\u001b[1;33m\u001b[0m\u001b[0m\n",
      "\u001b[1;31mTypeError\u001b[0m: count_step() takes 3 positional arguments but 4 were given"
     ]
    }
   ],
   "source": [
    "def get_input_make_dic():\n",
    "    linked_dic = {}\n",
    "    N = int(input())\n",
    "    for i in range(1, N+1):\n",
    "        linked_dic[i] = []\n",
    "    for i in range(N-1):\n",
    "        link = list(map(int, input().split()))\n",
    "        linked_dic[link[0]].append(link[1])\n",
    "        linked_dic[link[1]].append(link[0])\n",
    "    return N, linked_dic\n",
    "\n",
    "\n",
    "\n",
    "#N, linked_dic = get_input_make_dic()\n",
    "total_count = 0\n",
    "\n",
    "def count_step(del_node, parent_node, count):\n",
    "    global total_count\n",
    "    children_list = linked_dic[parent_node]\n",
    "\n",
    "    if (len(children_list) == 1) and (children_list[0] == del_node):\n",
    "        total_count += count\n",
    "    else:\n",
    "        for child in children_list:\n",
    "            if child == del_node:\n",
    "                pass\n",
    "            else:\n",
    "                count_step(parent_node, child, count + 1)\n",
    "\n",
    "count_step(None, 1, linked_dic, 0)\n",
    "\n",
    "if total_count %2 == 0:\n",
    "    print('No')\n",
    "else:\n",
    "    print('Yes')\n",
    "\n",
    "print('hello')\n"
   ]
  },
  {
   "cell_type": "code",
   "execution_count": null,
   "metadata": {},
   "outputs": [],
   "source": []
  },
  {
   "cell_type": "code",
   "execution_count": null,
   "metadata": {},
   "outputs": [],
   "source": []
  },
  {
   "cell_type": "code",
   "execution_count": null,
   "metadata": {},
   "outputs": [],
   "source": []
  },
  {
   "cell_type": "code",
   "execution_count": null,
   "metadata": {},
   "outputs": [],
   "source": []
  },
  {
   "cell_type": "code",
   "execution_count": null,
   "metadata": {},
   "outputs": [],
   "source": []
  },
  {
   "cell_type": "code",
   "execution_count": 7,
   "metadata": {},
   "outputs": [],
   "source": [
    "\n",
    "N = 8\n",
    "linked_list = [[7,4],[2,3],[8,1],[1,4],[6,5],[1,3],[6,4]]\n",
    "\n",
    "class make_tree():\n",
    "    node_classes = [None]\n",
    "    linked_list = []\n",
    "\n",
    "    def __init__(self, linked_list):\n",
    "        self.linked_list = linked_list\n",
    "\n",
    "        for node in range(1, N+1):\n",
    "            self.node_classes.append(Node(node))\n",
    "        self.make_tree(1, None)\n",
    "\n",
    "    def make_tree(self, now_node, parent_node):\n",
    "        self.node_classes[now_node].set_parent_node(parent_node)\n",
    "        self.linked_list, children_list = find_children(self.linked_list, now_node)\n",
    "        self.node_classes[now_node].set_children_list(children_list)\n",
    "        if children_list == []:\n",
    "            pass\n",
    "\n",
    "        else:\n",
    "            for children in children_list:\n",
    "                self.make_tree(children, now_node)\n",
    "           "
   ]
  },
  {
   "cell_type": "code",
   "execution_count": 3,
   "metadata": {
    "tags": []
   },
   "outputs": [
    {
     "output_type": "error",
     "ename": "ValueError",
     "evalue": "invalid literal for int() with base 10: 'Escape'",
     "traceback": [
      "\u001b[1;31m---------------------------------------------------------------------------\u001b[0m",
      "\u001b[1;31mValueError\u001b[0m                                Traceback (most recent call last)",
      "\u001b[1;32m<ipython-input-3-85402b54ffbe>\u001b[0m in \u001b[0;36m<module>\u001b[1;34m\u001b[0m\n\u001b[0;32m     28\u001b[0m     \u001b[1;32mreturn\u001b[0m \u001b[0mcount\u001b[0m\u001b[1;33m\u001b[0m\u001b[1;33m\u001b[0m\u001b[0m\n\u001b[0;32m     29\u001b[0m \u001b[1;33m\u001b[0m\u001b[0m\n\u001b[1;32m---> 30\u001b[1;33m \u001b[0mN\u001b[0m\u001b[1;33m,\u001b[0m \u001b[0mlinked_list\u001b[0m\u001b[1;33m=\u001b[0m \u001b[0mget_input\u001b[0m\u001b[1;33m(\u001b[0m\u001b[1;33m)\u001b[0m\u001b[1;33m\u001b[0m\u001b[1;33m\u001b[0m\u001b[0m\n\u001b[0m\u001b[0;32m     31\u001b[0m \u001b[0mlinked_dic\u001b[0m \u001b[1;33m=\u001b[0m \u001b[0mmake_tree_dic\u001b[0m\u001b[1;33m(\u001b[0m\u001b[0mlinked_list\u001b[0m\u001b[1;33m,\u001b[0m \u001b[0mN\u001b[0m\u001b[1;33m)\u001b[0m\u001b[1;33m\u001b[0m\u001b[1;33m\u001b[0m\u001b[0m\n\u001b[0;32m     32\u001b[0m \u001b[1;33m\u001b[0m\u001b[0m\n",
      "\u001b[1;32m<ipython-input-3-85402b54ffbe>\u001b[0m in \u001b[0;36mget_input\u001b[1;34m()\u001b[0m\n\u001b[0;32m      1\u001b[0m \u001b[1;32mdef\u001b[0m \u001b[0mget_input\u001b[0m\u001b[1;33m(\u001b[0m\u001b[1;33m)\u001b[0m\u001b[1;33m:\u001b[0m\u001b[1;33m\u001b[0m\u001b[1;33m\u001b[0m\u001b[0m\n\u001b[1;32m----> 2\u001b[1;33m     \u001b[0mN\u001b[0m \u001b[1;33m=\u001b[0m \u001b[0mint\u001b[0m\u001b[1;33m(\u001b[0m\u001b[0minput\u001b[0m\u001b[1;33m(\u001b[0m\u001b[1;33m)\u001b[0m\u001b[1;33m)\u001b[0m\u001b[1;33m\u001b[0m\u001b[1;33m\u001b[0m\u001b[0m\n\u001b[0m\u001b[0;32m      3\u001b[0m     \u001b[0mlinked_list\u001b[0m \u001b[1;33m=\u001b[0m \u001b[1;33m[\u001b[0m\u001b[1;33m]\u001b[0m\u001b[1;33m\u001b[0m\u001b[1;33m\u001b[0m\u001b[0m\n\u001b[0;32m      4\u001b[0m     \u001b[1;32mfor\u001b[0m \u001b[0mi\u001b[0m \u001b[1;32min\u001b[0m \u001b[0mrange\u001b[0m\u001b[1;33m(\u001b[0m\u001b[0mN\u001b[0m\u001b[1;33m-\u001b[0m\u001b[1;36m1\u001b[0m\u001b[1;33m)\u001b[0m\u001b[1;33m:\u001b[0m\u001b[1;33m\u001b[0m\u001b[1;33m\u001b[0m\u001b[0m\n\u001b[0;32m      5\u001b[0m         \u001b[0mlinked_list\u001b[0m\u001b[1;33m.\u001b[0m\u001b[0mappend\u001b[0m\u001b[1;33m(\u001b[0m\u001b[0mlist\u001b[0m\u001b[1;33m(\u001b[0m\u001b[0mmap\u001b[0m\u001b[1;33m(\u001b[0m\u001b[0mint\u001b[0m\u001b[1;33m,\u001b[0m \u001b[0minput\u001b[0m\u001b[1;33m(\u001b[0m\u001b[1;33m)\u001b[0m\u001b[1;33m.\u001b[0m\u001b[0msplit\u001b[0m\u001b[1;33m(\u001b[0m\u001b[1;33m)\u001b[0m\u001b[1;33m)\u001b[0m\u001b[1;33m)\u001b[0m\u001b[1;33m)\u001b[0m\u001b[1;33m\u001b[0m\u001b[1;33m\u001b[0m\u001b[0m\n",
      "\u001b[1;31mValueError\u001b[0m: invalid literal for int() with base 10: 'Escape'"
     ]
    }
   ],
   "source": [
    "def get_input():\n",
    "    N = int(input())\n",
    "    linked_list = []\n",
    "    for i in range(N-1):\n",
    "        linked_list.append(list(map(int, input().split())))\n",
    "    return N, linked_list\n",
    "\n",
    "def make_tree_dic(linked_list, N):\n",
    "    linked_dic = {}\n",
    "    for i in range(1, N+1):\n",
    "        linked_dic[i] = []\n",
    "\n",
    "    for link in linked_list:\n",
    "        linked_dic[link[0]].append(link[1])\n",
    "        \n",
    "    for link in linked_list:\n",
    "        linked_dic[link[1]].append(link[0])\n",
    "    return linked_dic\n",
    "\n",
    "def find_next(linked_dic, now_node, del_list):\n",
    "    del_list.append(now_node)\n",
    "    count = 0\n",
    "    for next_node in linked_dic[now_node]:\n",
    "        if next_node not in del_list:\n",
    "            count += 1 + find_next(linked_dic, next_node, del_list)\n",
    "        else:\n",
    "            count += 1\n",
    "    return count\n",
    "\n",
    "N, linked_list= get_input()\n",
    "linked_dic = make_tree_dic(linked_list, N)\n",
    "\n",
    "\n",
    "if find_next(linked_dic, 1, []) % 2 == 0:\n",
    "    print('No')\n",
    "else:\n",
    "    print('YES')"
   ]
  },
  {
   "cell_type": "code",
   "execution_count": null,
   "metadata": {},
   "outputs": [],
   "source": []
  },
  {
   "cell_type": "code",
   "execution_count": null,
   "metadata": {},
   "outputs": [],
   "source": []
  }
 ],
 "metadata": {
  "kernelspec": {
   "display_name": "Python 3.7.4 64-bit",
   "language": "python",
   "name": "python_defaultSpec_1595737533000"
  },
  "language_info": {
   "codemirror_mode": {
    "name": "ipython",
    "version": 3
   },
   "file_extension": ".py",
   "mimetype": "text/x-python",
   "name": "python",
   "nbconvert_exporter": "python",
   "pygments_lexer": "ipython3",
   "version": "3.7.4-final"
  }
 },
 "nbformat": 4,
 "nbformat_minor": 2
}