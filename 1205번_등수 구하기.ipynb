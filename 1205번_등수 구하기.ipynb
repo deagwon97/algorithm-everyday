{
 "metadata": {
  "language_info": {
   "codemirror_mode": {
    "name": "ipython",
    "version": 3
   },
   "file_extension": ".py",
   "mimetype": "text/x-python",
   "name": "python",
   "nbconvert_exporter": "python",
   "pygments_lexer": "ipython3",
   "version": 3
  },
  "orig_nbformat": 2,
  "kernelspec": {
   "name": "python_defaultSpec_1596261149612",
   "display_name": "Python 3.7.4 64-bit ('py3.7': conda)"
  }
 },
 "nbformat": 4,
 "nbformat_minor": 2,
 "cells": [
  {
   "cell_type": "markdown",
   "metadata": {},
   "source": [
    "* 난이도 : silver4\n",
    "* 걸린 시간 :\n",
    "* 문제 요약\n",
    "    1. input\n",
    "        -\n",
    "* 아이디어  \n",
    "        - \n",
    "\n",
    "* 기타\n",
    "        -"
   ]
  },
  {
   "cell_type": "code",
   "execution_count": 3,
   "metadata": {},
   "outputs": [],
   "source": [
    "N, new_score, P = list(map(int, input().split()))\n",
    "score_list = list(map(int, input().split()))"
   ]
  },
  {
   "cell_type": "code",
   "execution_count": 19,
   "metadata": {},
   "outputs": [],
   "source": [
    "N, new_score, p = [3, 90,10]\n",
    "score_list = [100, 90, 80]"
   ]
  },
  {
   "cell_type": "code",
   "execution_count": 250,
   "metadata": {
    "tags": []
   },
   "outputs": [
    {
     "output_type": "stream",
     "name": "stdout",
     "text": "1\n"
    }
   ],
   "source": [
    "#N, new_score, P = [7, 20, 11]\n",
    "#score_list = [95, 80, 50, 50, 50, 50, 40, 30, 30, 20]\n",
    "\n",
    "\n",
    "#N, new_score, P = [0, 10,10]\n",
    "#score_list = []\n",
    "\n",
    "\n",
    "N, new_score, P = list(map(int, input().split()))\n",
    "if N == 0:\n",
    "    print(1)\n",
    "else:\n",
    "    score_list = list(map(int, input().split()))\n",
    "    score_list = sorted(score_list, reverse= True)\n",
    "    new_score_loc = N + 1\n",
    "    for i  in range(len(score_list)):\n",
    "        if i == 0: # i == 0 일 때\n",
    "            level = 1\n",
    "            if new_score >= score_list[i]:\n",
    "                new_score_loc = i + 1\n",
    "                break\n",
    "            if (len(score_list) == 1) & (new_score < score_list[i]):\n",
    "                level = 2\n",
    "                new_score_loc = i + 1 \n",
    "                break\n",
    "\n",
    "        elif i == len(score_list) - 1:\n",
    "            ## level 설정\n",
    "            if score_list[i-1] > score_list[i]:\n",
    "                level = i + 1\n",
    "\n",
    "            elif score_list[i-1] == score_list[i]:\n",
    "                level = level\n",
    "\n",
    "            # new_level 판단\n",
    "            if new_score < score_list[i]:\n",
    "                level = N + 1\n",
    "\n",
    "            elif new_score == score_list[i]:\n",
    "                level = level\n",
    "        else:\n",
    "            if score_list[i -1] > score_list[i]:\n",
    "                level = i + 1\n",
    "            elif  score_list[i -1] == score_list[i]:\n",
    "                pass\n",
    "            \n",
    "            if new_score > score_list[i+1]:\n",
    "                if new_score < score_list[i]:\n",
    "                    level = i + 2\n",
    "                elif new_score == score_list[i]:\n",
    "                    level = level\n",
    "                new_score_loc = i + 2\n",
    "                break\n",
    "\n",
    "    if new_score <= score_list[-1]:\n",
    "        new_score_loc = len(score_list) + 1\n",
    "        if new_score < score_list[-1]:\n",
    "            level = len(score_list) + 1\n",
    "    if new_score_loc <= P:\n",
    "        print(level)\n",
    "    else:\n",
    "        print(-1)"
   ]
  },
  {
   "cell_type": "code",
   "execution_count": null,
   "metadata": {},
   "outputs": [],
   "source": []
  }
 ]
}