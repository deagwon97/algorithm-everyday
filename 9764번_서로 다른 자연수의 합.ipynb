{
 "cells": [
  {
   "cell_type": "markdown",
   "metadata": {},
   "source": [
    "### 1번 시도. 시간초과.."
   ]
  },
  {
   "cell_type": "code",
   "execution_count": 33,
   "metadata": {},
   "outputs": [],
   "source": [
    "def split_2(N):\n",
    "    count = 0\n",
    "    i = 1\n",
    "    while(i<N-i*1):\n",
    "        count = i\n",
    "        i = i + 1\n",
    "    return count\n",
    "\n",
    "def split_3(N):\n",
    "    count = 0\n",
    "    i = 1\n",
    "    while(3*i < N):\n",
    "        count = count + split_2(N - 3*i)\n",
    "        i = i + 1\n",
    "    return count\n",
    "\n",
    "\n",
    "def split_p(N, p):\n",
    "    count = 0\n",
    "    i = 1\n",
    "    \n",
    "    if p == 1:\n",
    "        return 1\n",
    "    \n",
    "    elif p == 2:  # 재귀함수 종료 조건\n",
    "        return split_2(N)\n",
    "    \n",
    "    else:\n",
    "        while(p*i < N):\n",
    "            count = count + split_p(N - p*i, p - 1)\n",
    "            i = i + 1\n",
    "        return count"
   ]
  },
  {
   "cell_type": "code",
   "execution_count": 59,
   "metadata": {},
   "outputs": [
    {
     "name": "stdout",
     "output_type": "stream",
     "text": [
      "1\n",
      "100\n",
      "3334\n",
      "54822\n",
      "531259\n",
      "3353585\n",
      "14706713\n",
      "46906865\n",
      "112838656\n",
      "211601263\n",
      "320331730\n",
      "407985560\n",
      "459070743\n",
      "480078297\n",
      "485929905\n",
      "486961296\n",
      "487063278\n",
      "487067704\n",
      "487067746\n"
     ]
    }
   ],
   "source": [
    "N = 200\n",
    "count = 0\n",
    "for p in range(1, N):\n",
    "    split_p_counts = split_p(N, p)\n",
    "    if split_p_counts < 1:\n",
    "        break\n",
    "    count = count + split_p_counts\n",
    "    print(count)"
   ]
  },
  {
   "cell_type": "code",
   "execution_count": 60,
   "metadata": {},
   "outputs": [
    {
     "data": {
      "text/plain": [
       "50568"
      ]
     },
     "execution_count": 60,
     "metadata": {},
     "output_type": "execute_result"
    }
   ],
   "source": [
    "487067746 % 100999"
   ]
  },
  {
   "cell_type": "markdown",
   "metadata": {},
   "source": [
    "## 시간을 줄일 수 있는 방법을 생각해봄"
   ]
  },
  {
   "cell_type": "code",
   "execution_count": 67,
   "metadata": {},
   "outputs": [],
   "source": [
    "def split_2(N):\n",
    "    return (N - 1) // 2 ## split_2는 대수적으로 간단하게 표현 가능\n",
    "        # 연산시간을 줄여준다.\n",
    "\n",
    "def split_p(N, p):\n",
    "    count = 0\n",
    "    i = 1\n",
    "    \n",
    "    if p == 1: # 재귀함수 종료 조건\n",
    "        return 1\n",
    "    elif p == 2:  # 재귀함수 종료 조건\n",
    "        return split_2(N)\n",
    "    \n",
    "    else:\n",
    "        while(p*i < N):\n",
    "            count = count + split_p(N - p*i, p - 1)\n",
    "            i = i + 1\n",
    "        return count\n",
    "\n",
    "N = 200\n",
    "count = 0\n",
    "for p in range(1, N):\n",
    "    split_p_counts = split_p(N, p)\n",
    "    if split_p_counts < 1:\n",
    "        break\n",
    "    count = count + split_p_counts\n",
    "    print(count)"
   ]
  },
  {
   "cell_type": "code",
   "execution_count": null,
   "metadata": {},
   "outputs": [],
   "source": [
    "def split_2(N):\n",
    "    return (N - 1) // 2\n",
    "\n",
    "def split_p(N, p):\n",
    "    count = 0\n",
    "    i = 1\n",
    "    if p == 1:\n",
    "        return 1\n",
    "    elif p == 2:  # 재귀함수 종료 조건\n",
    "        return split_2(N)\n",
    "    else:\n",
    "        while(p*i < N):\n",
    "            if N - p*i < ((p-1)*p/2):\n",
    "                break\n",
    "            else:\n",
    "                count = count + split_p(N - p*i, p - 1)\n",
    "                i = i + 1\n",
    "        return count\n",
    "\n",
    "Test_counts = int(input())\n",
    "\n",
    "for i in range(Test_counts):\n",
    "    N = int(input())\n",
    "    count = 0\n",
    "    for p in range(1, N):\n",
    "        split_p_counts = split_p(N, p)\n",
    "        if split_p_counts < 1:\n",
    "            break # 모든 p를 조사하지 않고,\n",
    "                    #split_p_counts가 1인 경우까지만 p를 증가시킴\n",
    "                        # 그 보다 큰 p는 필연적으로 0을 return한다.\n",
    "        count = count + split_p_counts\n",
    "    print(count%100999)"
   ]
  },
  {
   "cell_type": "code",
   "execution_count": 5,
   "metadata": {},
   "outputs": [
    {
     "name": "stdout",
     "output_type": "stream",
     "text": [
      "1\n",
      "100\n",
      "3334\n",
      "54822\n",
      "531259\n",
      "3353585\n",
      "14706713\n",
      "46906865\n",
      "112838656\n",
      "211601263\n",
      "320331730\n",
      "407985560\n",
      "459070743\n",
      "480078297\n",
      "485929905\n",
      "486961296\n",
      "487063278\n",
      "487067704\n",
      "487067746\n"
     ]
    }
   ],
   "source": [
    "count = 0\n",
    "N = 200\n",
    "\n",
    "for p in range(1, N):\n",
    "    split_p_counts = split_p(N, p)\n",
    "    if split_p_counts < 1:\n",
    "        break\n",
    "    count = count + split_p_counts\n",
    "    print(count)"
   ]
  },
  {
   "cell_type": "code",
   "execution_count": 31,
   "metadata": {},
   "outputs": [],
   "source": [
    "def factorial(n):\n",
    "    fac = 1\n",
    "    for i in range(1, n+ 1):\n",
    "        fac = fac * i\n",
    "    return fac\n",
    "\n",
    "def combination(n,k):\n",
    "    return int(factorial(n) / (factorial(n - k) * factorial(k)))\n",
    "    \n",
    "\n",
    "def split_p(N, p):\n",
    "    if p == 1:\n",
    "        return 1\n",
    "    elif p == 2:  # 재귀함수 종료 조건\n",
    "        return split_2(N)\n",
    "    \n",
    "    \n",
    "    new_N = N - ((1 + p) * p / 2 )\n",
    "    if new_N < 0:\n",
    "        return 0\n",
    "    else:\n",
    "        counts = 0\n",
    "        for k in range(p):\n",
    "            element = split_p(new_N, k)\n",
    "            print(element)\n",
    "            if element < 1:\n",
    "                return 0\n",
    "            else:\n",
    "                return combination(p, k) * element\n",
    "                \n",
    "        \n",
    "        "
   ]
  },
  {
   "cell_type": "code",
   "execution_count": 32,
   "metadata": {},
   "outputs": [
    {
     "name": "stdout",
     "output_type": "stream",
     "text": [
      "None\n"
     ]
    },
    {
     "ename": "TypeError",
     "evalue": "'<' not supported between instances of 'NoneType' and 'int'",
     "output_type": "error",
     "traceback": [
      "\u001b[1;31m---------------------------------------------------------------------------\u001b[0m",
      "\u001b[1;31mTypeError\u001b[0m                                 Traceback (most recent call last)",
      "\u001b[1;32m<ipython-input-32-5ebc6744dc78>\u001b[0m in \u001b[0;36m<module>\u001b[1;34m\u001b[0m\n\u001b[1;32m----> 1\u001b[1;33m \u001b[0msplit_p\u001b[0m\u001b[1;33m(\u001b[0m\u001b[1;36m220\u001b[0m\u001b[1;33m,\u001b[0m\u001b[1;36m3\u001b[0m\u001b[1;33m)\u001b[0m\u001b[1;33m\u001b[0m\u001b[1;33m\u001b[0m\u001b[0m\n\u001b[0m",
      "\u001b[1;32m<ipython-input-31-66cfb50a8f1c>\u001b[0m in \u001b[0;36msplit_p\u001b[1;34m(N, p)\u001b[0m\n\u001b[0;32m     24\u001b[0m             \u001b[0melement\u001b[0m \u001b[1;33m=\u001b[0m \u001b[0msplit_p\u001b[0m\u001b[1;33m(\u001b[0m\u001b[0mnew_N\u001b[0m\u001b[1;33m,\u001b[0m \u001b[0mk\u001b[0m\u001b[1;33m)\u001b[0m\u001b[1;33m\u001b[0m\u001b[1;33m\u001b[0m\u001b[0m\n\u001b[0;32m     25\u001b[0m             \u001b[0mprint\u001b[0m\u001b[1;33m(\u001b[0m\u001b[0melement\u001b[0m\u001b[1;33m)\u001b[0m\u001b[1;33m\u001b[0m\u001b[1;33m\u001b[0m\u001b[0m\n\u001b[1;32m---> 26\u001b[1;33m             \u001b[1;32mif\u001b[0m \u001b[0melement\u001b[0m \u001b[1;33m<\u001b[0m \u001b[1;36m1\u001b[0m\u001b[1;33m:\u001b[0m\u001b[1;33m\u001b[0m\u001b[1;33m\u001b[0m\u001b[0m\n\u001b[0m\u001b[0;32m     27\u001b[0m                 \u001b[1;32mreturn\u001b[0m \u001b[0mcounts\u001b[0m\u001b[1;33m\u001b[0m\u001b[1;33m\u001b[0m\u001b[0m\n\u001b[0;32m     28\u001b[0m             \u001b[1;32melse\u001b[0m\u001b[1;33m:\u001b[0m\u001b[1;33m\u001b[0m\u001b[1;33m\u001b[0m\u001b[0m\n",
      "\u001b[1;31mTypeError\u001b[0m: '<' not supported between instances of 'NoneType' and 'int'"
     ]
    }
   ],
   "source": [
    "split_p(220,3)"
   ]
  },
  {
   "cell_type": "code",
   "execution_count": 15,
   "metadata": {},
   "outputs": [
    {
     "data": {
      "text/plain": [
       "3"
      ]
     },
     "execution_count": 15,
     "metadata": {},
     "output_type": "execute_result"
    }
   ],
   "source": [
    "combination(3,2)"
   ]
  },
  {
   "cell_type": "code",
   "execution_count": 9,
   "metadata": {},
   "outputs": [
    {
     "data": {
      "text/plain": [
       "3125"
      ]
     },
     "execution_count": 9,
     "metadata": {},
     "output_type": "execute_result"
    }
   ],
   "source": [
    "factorial(5)"
   ]
  },
  {
   "cell_type": "code",
   "execution_count": null,
   "metadata": {},
   "outputs": [],
   "source": []
  }
 ],
 "metadata": {
  "kernelspec": {
   "display_name": "Python 3",
   "language": "python",
   "name": "python3"
  },
  "language_info": {
   "codemirror_mode": {
    "name": "ipython",
    "version": 3
   },
   "file_extension": ".py",
   "mimetype": "text/x-python",
   "name": "python",
   "nbconvert_exporter": "python",
   "pygments_lexer": "ipython3",
   "version": "3.7.4"
  }
 },
 "nbformat": 4,
 "nbformat_minor": 2
}
