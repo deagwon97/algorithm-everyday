{
 "cells": [
  {
   "cell_type": "markdown",
   "metadata": {},
   "source": [
    "### 1번 시도. 시간초과.."
   ]
  },
  {
   "cell_type": "code",
   "execution_count": 33,
   "metadata": {},
   "outputs": [],
   "source": [
    "def split_2(N):\n",
    "    count = 0\n",
    "    i = 1\n",
    "    while(i<N-i*1):\n",
    "        count = i\n",
    "        i = i + 1\n",
    "    return count\n",
    "\n",
    "def split_3(N):\n",
    "    count = 0\n",
    "    i = 1\n",
    "    while(3*i < N):\n",
    "        count = count + split_2(N - 3*i)\n",
    "        i = i + 1\n",
    "    return count\n",
    "\n",
    "\n",
    "def split_p(N, p):\n",
    "    count = 0\n",
    "    i = 1\n",
    "    \n",
    "    if p == 1:\n",
    "        return 1\n",
    "    \n",
    "    elif p == 2:  # 재귀함수 종료 조건\n",
    "        return split_2(N)\n",
    "    \n",
    "    else:\n",
    "        while(p*i < N):\n",
    "            count = count + split_p(N - p*i, p - 1)\n",
    "            i = i + 1\n",
    "        return count"
   ]
  },
  {
   "cell_type": "code",
   "execution_count": 59,
   "metadata": {},
   "outputs": [
    {
     "name": "stdout",
     "output_type": "stream",
     "text": [
      "1\n",
      "100\n",
      "3334\n",
      "54822\n",
      "531259\n",
      "3353585\n",
      "14706713\n",
      "46906865\n",
      "112838656\n",
      "211601263\n",
      "320331730\n",
      "407985560\n",
      "459070743\n",
      "480078297\n",
      "485929905\n",
      "486961296\n",
      "487063278\n",
      "487067704\n",
      "487067746\n"
     ]
    }
   ],
   "source": [
    "N = 200\n",
    "count = 0\n",
    "for p in range(1, N):\n",
    "    split_p_counts = split_p(N, p)\n",
    "    if split_p_counts < 1:\n",
    "        break\n",
    "    count = count + split_p_counts\n",
    "    print(count)"
   ]
  },
  {
   "cell_type": "code",
   "execution_count": 60,
   "metadata": {},
   "outputs": [
    {
     "data": {
      "text/plain": [
       "50568"
      ]
     },
     "execution_count": 60,
     "metadata": {},
     "output_type": "execute_result"
    }
   ],
   "source": [
    "487067746 % 100999"
   ]
  },
  {
   "cell_type": "markdown",
   "metadata": {},
   "source": [
    "## 시간을 줄일 수 있는 방법을 생각해봄"
   ]
  },
  {
   "cell_type": "code",
   "execution_count": 67,
   "metadata": {},
   "outputs": [],
   "source": [
    "def split_2(N):\n",
    "    return (N - 1) // 2 ## split_2는 대수적으로 간단하게 표현 가능\n",
    "        # 연산시간을 줄여준다.\n",
    "\n",
    "def split_p(N, p):\n",
    "    count = 0\n",
    "    i = 1\n",
    "    \n",
    "    if p == 1: # 재귀함수 종료 조건\n",
    "        return 1\n",
    "    elif p == 2:  # 재귀함수 종료 조건\n",
    "        return split_2(N)\n",
    "    \n",
    "    else:\n",
    "        while(p*i < N):\n",
    "            count = count + split_p(N - p*i, p - 1)\n",
    "            i = i + 1\n",
    "        return count\n",
    "\n",
    "N = 200\n",
    "count = 0\n",
    "for p in range(1, N):\n",
    "    split_p_counts = split_p(N, p)\n",
    "    if split_p_counts < 1:\n",
    "        break\n",
    "    count = count + split_p_counts\n",
    "    print(count)"
   ]
  },
  {
   "cell_type": "code",
   "execution_count": null,
   "metadata": {},
   "outputs": [],
   "source": [
    "def split_2(N):\n",
    "    return (N - 1) // 2\n",
    "\n",
    "def split_p(N, p):\n",
    "    count = 0\n",
    "    i = 1\n",
    "    if p == 1:\n",
    "        return 1\n",
    "    elif p == 2:  # 재귀함수 종료 조건\n",
    "        return split_2(N)\n",
    "    else:\n",
    "        while(p*i < N):\n",
    "            if N - p*i < ((p-1)*p/2):\n",
    "                break\n",
    "            else:\n",
    "                count = count + split_p(N - p*i, p - 1)\n",
    "                i = i + 1\n",
    "        return count\n",
    "\n",
    "Test_counts = int(input())\n",
    "\n",
    "for i in range(Test_counts):\n",
    "    N = int(input())\n",
    "    count = 0\n",
    "    for p in range(1, N):\n",
    "        split_p_counts = split_p(N, p)\n",
    "        if split_p_counts < 1:\n",
    "            break # 모든 p를 조사하지 않고,\n",
    "                    #split_p_counts가 1인 경우까지만 p를 증가시킴\n",
    "                        # 그 보다 큰 p는 필연적으로 0을 return한다.\n",
    "        count = count + split_p_counts\n",
    "    print(count%100999)"
   ]
  },
  {
   "cell_type": "code",
   "execution_count": 32,
   "metadata": {},
   "outputs": [
    {
     "name": "stdout",
     "output_type": "stream",
     "text": [
      "1\n",
      "100\n",
      "4951\n",
      "128541\n",
      "2055706\n",
      "21640975\n",
      "159656202\n",
      "854670562\n",
      "3400881082\n",
      "10257457747\n",
      "23804539933\n",
      "43208798347\n",
      "62940311733\n",
      "76586808975\n",
      "82592409630\n",
      "84125497630\n",
      "84303121705\n",
      "84308528437\n",
      "84308550458\n",
      "39204\n"
     ]
    }
   ],
   "source": [
    "count = 0\n",
    "N = 200\n",
    "\n",
    "for p in range(1, N):\n",
    "    split_p_counts = split_p(N, p)\n",
    "    if split_p_counts < 1:\n",
    "        break\n",
    "    count = count + split_p_counts\n",
    "    print(count)\n",
    "print(count%100999)"
   ]
  },
  {
   "cell_type": "code",
   "execution_count": 29,
   "metadata": {},
   "outputs": [],
   "source": [
    "def factorial(n):\n",
    "    fac = 1\n",
    "    for i in range(1, n+ 1):\n",
    "        fac = fac * i\n",
    "    return fac\n",
    "\n",
    "def combination(n,k):\n",
    "    return int(factorial(n) / (factorial(n - k) * factorial(k)))\n",
    "    \n",
    "def split_2(N):\n",
    "    return int((N - 1) // 2)\n",
    "    \n",
    "\n",
    "def split_p(N, p):\n",
    "    if p == 1:\n",
    "        return 1\n",
    "    elif p == 2:  # 재귀함수 종료 조건\n",
    "        return split_2(N)\n",
    "    \n",
    "    new_N = N - ((1 + p) * p / 2 )\n",
    "    \n",
    "    \n",
    "    if new_N < 0:\n",
    "        return 0\n",
    "    else:\n",
    "        counts = 0\n",
    "        for k in range(1, p + 1):\n",
    "            element = split_p(new_N, k)\n",
    "            if element < 1:\n",
    "                continue\n",
    "            else:\n",
    "                counts = counts + combination(p, k) * element\n",
    "        return counts\n",
    "                \n",
    "        \n",
    "        "
   ]
  },
  {
   "cell_type": "code",
   "execution_count": 33,
   "metadata": {},
   "outputs": [
    {
     "name": "stdout",
     "output_type": "stream",
     "text": [
      "1\n",
      "100\n",
      "4951\n",
      "128541\n",
      "2055706\n",
      "21640975\n",
      "159656202\n",
      "854670562\n",
      "3400881082\n",
      "10257457747\n",
      "23804539933\n",
      "43208798347\n",
      "62940311733\n",
      "76586808975\n",
      "82592409630\n",
      "84125497630\n",
      "84303121705\n",
      "84308528437\n",
      "84308550458\n",
      "39204\n"
     ]
    }
   ],
   "source": [
    "count = 0\n",
    "N = 200\n",
    "\n",
    "for p in range(1, N):\n",
    "    split_p_counts = split_p(N, p)\n",
    "    if split_p_counts < 1:\n",
    "        break\n",
    "    count = count + split_p_counts\n",
    "    print(count)\n",
    "print(count%100999)"
   ]
  },
  {
   "cell_type": "code",
   "execution_count": null,
   "metadata": {},
   "outputs": [],
   "source": [
    "1\n",
    "100\n",
    "3334\n",
    "54822\n",
    "531259\n",
    "3353585\n",
    "14706713\n",
    "46906865\n",
    "112838656\n",
    "211601263\n",
    "320331730\n",
    "407985560\n",
    "459070743\n",
    "480078297\n",
    "485929905\n",
    "486961296\n",
    "487063278\n",
    "487067704\n",
    "487067746"
   ]
  },
  {
   "cell_type": "code",
   "execution_count": 35,
   "metadata": {},
   "outputs": [
    {
     "data": {
      "text/plain": [
       "974135408"
      ]
     },
     "execution_count": 35,
     "metadata": {},
     "output_type": "execute_result"
    }
   ],
   "source": [
    "487067704 * 2"
   ]
  },
  {
   "cell_type": "code",
   "execution_count": 30,
   "metadata": {},
   "outputs": [
    {
     "name": "stdout",
     "output_type": "stream",
     "text": [
      "4851\n"
     ]
    }
   ],
   "source": [
    "print(split_p(200,3))"
   ]
  },
  {
   "cell_type": "code",
   "execution_count": 19,
   "metadata": {},
   "outputs": [
    {
     "data": {
      "text/plain": [
       "1"
      ]
     },
     "execution_count": 19,
     "metadata": {},
     "output_type": "execute_result"
    }
   ],
   "source": [
    "combination(3,0)"
   ]
  },
  {
   "cell_type": "code",
   "execution_count": 9,
   "metadata": {},
   "outputs": [
    {
     "data": {
      "text/plain": [
       "3125"
      ]
     },
     "execution_count": 9,
     "metadata": {},
     "output_type": "execute_result"
    }
   ],
   "source": [
    "factorial(5)"
   ]
  },
  {
   "cell_type": "code",
   "execution_count": 44,
   "metadata": {},
   "outputs": [],
   "source": [
    "def split_p_sa(N, k):\n",
    "    if N == k or k == 1 or N == 1:\n",
    "        return 1\n",
    "    else:\n",
    "        count = 0\n",
    "        for i in range(1, N - k + 1):\n",
    "            count = count + split_p_sa(N - k, i)\n",
    "        return count"
   ]
  },
  {
   "cell_type": "code",
   "execution_count": 45,
   "metadata": {},
   "outputs": [
    {
     "data": {
      "text/plain": [
       "3"
      ]
     },
     "execution_count": 45,
     "metadata": {},
     "output_type": "execute_result"
    }
   ],
   "source": [
    "split_p_sa(5,2)"
   ]
  },
  {
   "cell_type": "markdown",
   "metadata": {},
   "source": [
    "숫자 10을 서로다른 3개의 자연수로 표현하는 방법은?"
   ]
  },
  {
   "cell_type": "code",
   "execution_count": null,
   "metadata": {},
   "outputs": [],
   "source": [
    "10 - 1을 2개의 서로 다른 자연수로 and 1보다 큰\n",
    "\n",
    "10 => 1 2 7\n",
    "10 => 1 3 8\n",
    "10 => 1 4 6\n",
    "\n",
    "10 - 2을 2개의 서로 다른 다연수로 and 2 보다 큰\n",
    "10 => 2 3 5\n",
    "\n",
    "#---------------\n",
    "20 - 1을 2개의 서로다른 자연수로\n",
    "20 => 1 2 17\n",
    "20 => 1 3 16\n",
    "20 => 1 4 15\n",
    ".\n",
    ".\n",
    ".\n",
    "20 => 1 9 10\n",
    "#---------------\n",
    "20 - 2를 2개의 서로다른 자연수로\n",
    "20 => 2 \n",
    "\n",
    "#---------------\n",
    "20 -3 을 2개의 서로다른 자연수로\n",
    "#---------------\n",
    ".\n",
    ".\n",
    ".\n",
    "#---------------"
   ]
  },
  {
   "cell_type": "code",
   "execution_count": 1,
   "metadata": {},
   "outputs": [],
   "source": [
    "def split_km(N, k, m): #\n",
    "    count = 0\n",
    "    N = N - k* m\n",
    "    if N < (k * (k-1) / 2):\n",
    "        return 0\n",
    "    \n",
    "    \n",
    "    \n",
    "    for i in range(1, k):\n",
    "        count = count + split_k(N, k - 1, i)\n",
    "    return count"
   ]
  },
  {
   "cell_type": "code",
   "execution_count": null,
   "metadata": {},
   "outputs": [],
   "source": []
  }
 ],
 "metadata": {
  "kernelspec": {
   "display_name": "Python 3",
   "language": "python",
   "name": "python3"
  },
  "language_info": {
   "codemirror_mode": {
    "name": "ipython",
    "version": 3
   },
   "file_extension": ".py",
   "mimetype": "text/x-python",
   "name": "python",
   "nbconvert_exporter": "python",
   "pygments_lexer": "ipython3",
   "version": "3.7.4"
  }
 },
 "nbformat": 4,
 "nbformat_minor": 2
}
