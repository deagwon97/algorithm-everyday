{
 "metadata": {
  "language_info": {
   "codemirror_mode": {
    "name": "ipython",
    "version": 3
   },
   "file_extension": ".py",
   "mimetype": "text/x-python",
   "name": "python",
   "nbconvert_exporter": "python",
   "pygments_lexer": "ipython3",
   "version": "3.7.4-final"
  },
  "orig_nbformat": 2,
  "kernelspec": {
   "name": "python3",
   "display_name": "Python 3"
  }
 },
 "nbformat": 4,
 "nbformat_minor": 2,
 "cells": [
  {
   "cell_type": "markdown",
   "metadata": {},
   "source": [
    "* 난이도 : silver1\n",
    "* 걸린 시간 : 1시간 29분\n",
    "* 문제 요약\n",
    "    1. 주사위들로 정육면체를 만들었을때 만들어진 정육면체 5면의 숫자합의 합을 구하는 문제이다.\n",
    "    2. 주사위의 숫자들 또한 입력으로 받고, 입력된 순서 따라 주사위 속에서 숫자들의 위치가 달라진다.\n",
    "    3. 합쳐진 정육면체는 면(숫자 1개), 모서리(숫자 2개), 꼭짓점(숫자 3개)로 구성된다. \n",
    "    4. 입력된 숫자 배열로 만들어지는 주사위에서 면, 모서리, 꼭짓점들의 최솟값을 각각 구하는 함수를 만들었다.\n",
    "    5.  N = 1 인 경우와, 그렇지 않은 경우에 대하여 답을 일반화할 수 있다.\n",
    "\n",
    "* 기타 :  \n",
    "    N의 크기에 상관없이 코드가 실행된다.   \n",
    "    시간 복잡도는 O(1)이다.  "
   ]
  },
  {
   "cell_type": "code",
   "execution_count": null,
   "metadata": {
    "tags": []
   },
   "outputs": [],
   "source": [
    "def find_first_min(number_list):\n",
    "    return min(number_list)\n",
    "\n",
    "def find_second_min(number_list):\n",
    "    second_min = 100 #주사위에 쓰여진 수는 50 이하의 자연수\n",
    "    for i in range(5):\n",
    "        for j in range(i + 1, 6):\n",
    "            temp = number_list[i] + number_list[j]\n",
    "            if (temp <= second_min) & (i + j != 5):\n",
    "             # 특이하게도 i와 j를 합하여 5가 되는 경우에는 주사위에서 숫자가 마주보지 못한다.\n",
    "                second_min = temp\n",
    "            else:\n",
    "                pass\n",
    "    return second_min\n",
    "\n",
    "def find_third_min(number_list):\n",
    "    third_min = 150 #주사위에 쓰여진 수는 50 이하의 자연수\n",
    "    for i in [0, 5]:\n",
    "        for j, k  in [[2,1], [1,3], [3,4], [4,2]]: # 모서리로 가능한 경우의 수를 모두 구현\n",
    "                temp = number_list[i] + number_list[j] + number_list[k]\n",
    "                if (temp <= third_min):\n",
    "                    third_min = temp\n",
    "                else:\n",
    "                    pass\n",
    "    return third_min\n",
    "\n",
    "\n",
    "N  = int(input())\n",
    "dice_numbers = list(map(int, input().split()))\n",
    "\n",
    "\n",
    "first_min = find_first_min(dice_numbers)\n",
    "second_min = find_second_min(dice_numbers)\n",
    "third_min  = find_third_min(dice_numbers)\n",
    "\n",
    "\n",
    "if N == 1:\n",
    "    dice_numbers.sort()\n",
    "    print(sum(dice_numbers[:-1]))\n",
    "else:\n",
    "    total_min = first_min * (5*(N **2) - 16*N + 12) \\\n",
    "                    + second_min * (8*N - 12) \\\n",
    "                    + third_min * (4)\n",
    "\n",
    "    print(total_min)\n",
    "\n",
    "\n"
   ]
  }
 ]
}