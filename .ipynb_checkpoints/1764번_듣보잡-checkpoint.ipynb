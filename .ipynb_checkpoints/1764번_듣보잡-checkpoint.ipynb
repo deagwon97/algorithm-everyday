{
 "cells": [
  {
   "cell_type": "markdown",
   "metadata": {},
   "source": [
    "* 난이도 : silver4\n",
    "* 걸린 시간 : 약 1시간 30분\n",
    "* 문제 요약\n",
    "    1. 두 개의 배열에서 중복되는 원소를 찾는 문제를 빠르게 해결하는 것.\n",
    "    2. 이중 반복문을 사용하여 중복되는 원소를 찾는 것이 가장 먼저 떠오르지만 시간 복잡도는 O($N^2$)이다.\n",
    "    3. 두 배열을 합쳐서 정렬한 후, 2번 이상 등장하는 원소를 찾는 방식을 사용하면 시간 복잡도는 (O($Nlog(N)$)이다.\n",
    "        \n",
    "        \n",
    "* 기타 :"
   ]
  },
  {
   "cell_type": "markdown",
   "metadata": {},
   "source": [
    "## sol1. 이중 반복문을 사용하여 중복되는 원소 찾기  $O(N^2)$"
   ]
  },
  {
   "cell_type": "code",
   "execution_count": 10,
   "metadata": {},
   "outputs": [
    {
     "name": "stdout",
     "output_type": "stream",
     "text": [
      "2 1\n",
      "21\n",
      "2312\n",
      "1 2\n",
      "0\n"
     ]
    }
   ],
   "source": [
    "N, M =  list(map(int, input().split()))\n",
    "\n",
    "no_listens = [] \n",
    "no_listens_sees = []\n",
    "\n",
    "for i in range(N):\n",
    "    no_listens.append(input()) # N명의 (듣도 못한)사람들의 이름을 no_listens에 저장.\n",
    "\n",
    "for j in range(M):\n",
    "    no_seen = input()\n",
    "    for no_listen in range(len(no_listens)): # (보도못한)사람의 이름을 입력 받을 때마다 no_listens속에 중복되는 지 확인.\n",
    "        if no_listens[no_listen] == no_seen:\n",
    "            no_listens_sees.append(no_seen) # 중복되는 이름은 no_listens_seas에 append\n",
    "            break # no_listens를 돌다가 중복이 등장하면 break\n",
    "no_listens_sees.sort() # 사전 순으로 정렬\n",
    "\n",
    "\n",
    "print(len(no_listens_sees))\n",
    "for no_listen_see in no_listens_sees:\n",
    "    print(no_listen_see)"
   ]
  },
  {
   "cell_type": "markdown",
   "metadata": {},
   "source": [
    "## sol2. 배열을 합친 후 정렬하여 중복되는 원소 찾기 $O(Nlog(N)$"
   ]
  },
  {
   "cell_type": "code",
   "execution_count": 13,
   "metadata": {},
   "outputs": [
    {
     "name": "stdout",
     "output_type": "stream",
     "text": [
      "3 4\n",
      "ohhenrie\n",
      "charlie\n",
      "baesangwook\n",
      "obama\n",
      "baesangwook\n",
      "ohhenrie\n",
      "clinton\n",
      "['ohhenrie', 'charlie', 'baesangwook', 'obama', 'baesangwook', 'ohhenrie', 'clinton']\n",
      "0\n"
     ]
    }
   ],
   "source": [
    "N, M =  list(map(int, input().split()))\n",
    "no_listens_or_sees = [] # (듣도 못한 사람) or (보도 못한 사람) 중복을 허용하여 모두 추가\n",
    "no_listens_and_sees = [] # (듣도)와 (보도) 둘 다 중복되는 사람을 추가\n",
    "\n",
    "for i in range(N + M):\n",
    "    no_listens_or_sees.append(input())# 일단 중복을 허용하여 다 추가\n",
    "\n",
    "no_listens_or_sees.sort() # 정렬\n",
    "\n",
    "i = 0\n",
    "while(i < len(no_listens_or_sees) - 1):\n",
    "    if no_listens_or_sees[i] == no_listens_or_sees[i + 1]:\n",
    "        no_listens_and_sees.append(no_listens_or_sees[i]) # 중복되는 원소를 발견했을 때는 no_listens_and_sees에 추가 하고\n",
    "        i = i + 2 # 인덱스는 + 2\n",
    "    else:\n",
    "        i = i + 1 # 아닐 때는 인덱스 + 1\n",
    "    \n",
    "print(len(no_listens_and_sees))\n",
    "for no_listen_and_see in no_listens_and_sees:\n",
    "    print(no_listen_and_see)"
   ]
  }
 ],
 "metadata": {
  "kernelspec": {
   "display_name": "Python 3",
   "language": "python",
   "name": "python3"
  },
  "language_info": {
   "codemirror_mode": {
    "name": "ipython",
    "version": 3
   },
   "file_extension": ".py",
   "mimetype": "text/x-python",
   "name": "python",
   "nbconvert_exporter": "python",
   "pygments_lexer": "ipython3",
   "version": "3.7.4"
  }
 },
 "nbformat": 4,
 "nbformat_minor": 2
}
