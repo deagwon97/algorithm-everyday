{
 "metadata": {
  "language_info": {
   "codemirror_mode": {
    "name": "ipython",
    "version": 3
   },
   "file_extension": ".py",
   "mimetype": "text/x-python",
   "name": "python",
   "nbconvert_exporter": "python",
   "pygments_lexer": "ipython3",
   "version": 3
  },
  "orig_nbformat": 2,
  "kernelspec": {
   "name": "python_defaultSpec_1596034718450",
   "display_name": "Python 3.7.4 64-bit ('py3.7': conda)"
  }
 },
 "nbformat": 4,
 "nbformat_minor": 2,
 "cells": [
  {
   "cell_type": "markdown",
   "metadata": {},
   "source": [
    "* 난이도 : silver1\n",
    "* 걸린 시간 : 측정 x\n",
    "* 문제 요약\n",
    "    1. \n",
    "* 기타 :\n",
    "    "
   ]
  },
  {
   "cell_type": "code",
   "execution_count": 3,
   "metadata": {
    "tags": []
   },
   "outputs": [
    {
     "output_type": "stream",
     "name": "stdout",
     "text": "3\n"
    }
   ],
   "source": [
    "import sys\n",
    "from sys import stdin, stdout \n",
    "\n",
    "N, K = list(map(int, input().split()))\n",
    "#one_two_list = list(map(int,sys.stdin.readline().rstrip().split()))\n",
    "one_two_list = list(map(int, input().split()))\n",
    "\n",
    "ones_index = []\n",
    "min_length = N\n",
    "count_one = 0\n",
    "app_K = False\n",
    "\n",
    "for i in range(len(one_two_list)):\n",
    "    if one_two_list[i] == 1:\n",
    "        ones_index.append(i)\n",
    "        count_one += 1\n",
    "        if count_one == K:\n",
    "            app_K= True\n",
    "            new_length = i - ones_index[0] + 1\n",
    "            count_one = count_one - 1\n",
    "            del ones_index[0]\n",
    "            if new_length <= min_length:\n",
    "                min_length = new_length\n",
    "            else:\n",
    "                pass\n",
    "        else:\n",
    "            pass\n",
    "    else:\n",
    "        pass\n",
    "\n",
    "if app_K == False:\n",
    "    min_length = -1\n",
    "\n",
    "print(min_length)"
   ]
  },
  {
   "cell_type": "code",
   "execution_count": 26,
   "metadata": {},
   "outputs": [],
   "source": [
    "N = 1000000\n",
    "list_numbers = []\n",
    "i = 1\n",
    "for n in range(N):\n",
    "    list_numbers.append(i)\n",
    "    if i == 1:\n",
    "        i = 2\n",
    "    else:\n",
    "        i = 1"
   ]
  },
  {
   "cell_type": "code",
   "execution_count": 29,
   "metadata": {
    "tags": []
   },
   "outputs": [],
   "source": [
    "N, K = N, 10\n",
    "#one_two_list = list(map(int,sys.stdin.readline().rstrip().split()))\n",
    "one_two_list = list_numbers\n",
    "\n",
    "ones_index = []\n",
    "min_length = N\n",
    "count_one = 0\n",
    "app_K = False\n",
    "\n",
    "for i in range(len(one_two_list)):\n",
    "    print(ones_index)\n",
    "    print('\\n')\n",
    "    if one_two_list[i] == 1:\n",
    "        ones_index.append(i)\n",
    "        count_one += 1\n",
    "        if count_one == K:\n",
    "            app_K= True\n",
    "            new_length = i - ones_index[0] + 1\n",
    "            count_one = count_one - 1\n",
    "            del ones_index[0]\n",
    "            if new_length <= min_length:\n",
    "                min_length = new_length\n",
    "            else:\n",
    "                pass\n",
    "        else:\n",
    "            pass\n",
    "    else:\n",
    "        pass\n",
    "\n",
    "if app_K == False:\n",
    "    min_length = -1\n",
    "\n",
    "print(min_length)"
   ]
  },
  {
   "cell_type": "code",
   "execution_count": null,
   "metadata": {},
   "outputs": [],
   "source": []
  }
 ]
}