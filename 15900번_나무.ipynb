{
 "metadata": {
  "language_info": {
   "codemirror_mode": {
    "name": "ipython",
    "version": 3
   },
   "file_extension": ".py",
   "mimetype": "text/x-python",
   "name": "python",
   "nbconvert_exporter": "python",
   "pygments_lexer": "ipython3",
   "version": 3
  },
  "orig_nbformat": 2,
  "kernelspec": {
   "name": "python_defaultSpec_1595406463706",
   "display_name": "Python 3.7.4 64-bit ('py3.7': conda)"
  }
 },
 "nbformat": 4,
 "nbformat_minor": 2,
 "cells": [
  {
   "cell_type": "markdown",
   "metadata": {},
   "source": [
    "* 난이도 : silver1\n",
    "* 걸린 시간 :\n",
    "* 문제 요약\n",
    "    1.\n",
    "* 기타 :"
   ]
  },
  {
   "cell_type": "code",
   "execution_count": 1,
   "metadata": {},
   "outputs": [
    {
     "output_type": "error",
     "ename": "NameError",
     "evalue": "name 'dsdfa' is not defined",
     "traceback": [
      "\u001b[1;31m---------------------------------------------------------------------------\u001b[0m",
      "\u001b[1;31mNameError\u001b[0m                                 Traceback (most recent call last)",
      "\u001b[1;32m<ipython-input-1-db21d9951253>\u001b[0m in \u001b[0;36m<module>\u001b[1;34m\u001b[0m\n\u001b[1;32m----> 1\u001b[1;33m \u001b[0mN\u001b[0m \u001b[1;33m=\u001b[0m \u001b[0mdsdfa\u001b[0m\u001b[1;33m\u001b[0m\u001b[1;33m\u001b[0m\u001b[0m\n\u001b[0m",
      "\u001b[1;31mNameError\u001b[0m: name 'dsdfa' is not defined"
     ]
    }
   ],
   "source": [
    "N = "
   ]
  },
  {
   "cell_type": "code",
   "execution_count": 2,
   "metadata": {
    "tags": []
   },
   "outputs": [
    {
     "output_type": "stream",
     "name": "stdout",
     "text": "[[1, 2], [2, 3], [3, 4], [5, 6]]\n"
    }
   ],
   "source": [
    "N = int(input())\n",
    "linked_list = []\n",
    "\n",
    "for n in range(N-1):\n",
    "    linked_list.append(list(map(int, input().split())))\n",
    "print(linked_list)"
   ]
  },
  {
   "cell_type": "code",
   "execution_count": 5,
   "metadata": {},
   "outputs": [
    {
     "output_type": "execute_result",
     "data": {
      "text/plain": "{0: [1, 2], 1: [2, 3], 2: [3, 4], 3: [5, 6]}"
     },
     "metadata": {},
     "execution_count": 5
    }
   ],
   "source": [
    "linked_dic = {}\n",
    "for i in range(len(linked_list)):\n",
    "    linked_dic[i] = linked_list[i]\n",
    "linked_dic"
   ]
  },
  {
   "cell_type": "code",
   "execution_count": 59,
   "metadata": {},
   "outputs": [],
   "source": [
    "def get_input():\n",
    "    N = int(input())\n",
    "    linked_dic = {}\n",
    "    for i in range(1, N):\n",
    "        linked_dic[i] = list(map(int, input().split()))\n",
    "    return linked_dic\n",
    "\n",
    "def find_one(linked_dic):\n",
    "    one_linkes = []\n",
    "    for i in range(1,N):\n",
    "        if 1 == linked_dic[i][0]:\n",
    "            one_linkes.append(linked_dic[i][1])\n",
    "        elif 1 == linked_dic[i][1]:\n",
    "            one_linkes.append(linked_dic[i][0])\n",
    "        else:\n",
    "            pass\n",
    "    return one_linkes\n",
    "\n",
    "def find_leaf(linked_dic, now_nodes):\n",
    "    counts = 0\n",
    "    for now_node in now_nodes:\n",
    "        next_nodes = []\n",
    "        for link_key in range(list(linked_dic.keys())):\n",
    "            if now_node in linked_dic[link_key][0]:\n",
    "                next_nodes.append(linked_dic[link_key][1])\n",
    "                \n",
    "                linked_dic.pop(link_key)\n",
    "                counts += 1\n",
    "                counts += find_leaf(linked_dic, next_nodes)\n",
    "\n",
    "            elif now_node in linked_dic[link_key][1]:\n",
    "                next_nodes.append(linked_dic[link_key][0])\n",
    "                \n",
    "                linked_dic.pop(link_key)\n",
    "                counts += 1\n",
    "                counts += find_leaf(linked_dic, next_nodes)\n",
    "            else:\n",
    "                pass\n",
    "\n",
    "        if next_nodes == []:\n",
    "            return 0\n",
    "        else:\n",
    "            return counts"
   ]
  },
  {
   "cell_type": "code",
   "execution_count": 64,
   "metadata": {
    "tags": []
   },
   "outputs": [
    {
     "output_type": "stream",
     "name": "stdout",
     "text": "{1: [1, 2], 2: [1], 3: [3, 4], 4: [3, 5]}\n{1: [2], 2: [1], 3: [3, 4], 4: [3, 5]}\n[2]\n"
    }
   ],
   "source": [
    "print(linked_dic)\n",
    "linked_dic[1].pop(0)\n",
    "print(linked_dic)\n",
    "print(linked_dic[1])"
   ]
  },
  {
   "cell_type": "code",
   "execution_count": 60,
   "metadata": {
    "tags": []
   },
   "outputs": [
    {
     "output_type": "error",
     "ename": "NameError",
     "evalue": "name 'ragne' is not defined",
     "traceback": [
      "\u001b[1;31m---------------------------------------------------------------------------\u001b[0m",
      "\u001b[1;31mNameError\u001b[0m                                 Traceback (most recent call last)",
      "\u001b[1;32m<ipython-input-60-4a8d5ec8f5f9>\u001b[0m in \u001b[0;36m<module>\u001b[1;34m\u001b[0m\n\u001b[0;32m      1\u001b[0m \u001b[0mlinked_dic\u001b[0m \u001b[1;33m=\u001b[0m \u001b[0mget_input\u001b[0m\u001b[1;33m(\u001b[0m\u001b[1;33m)\u001b[0m\u001b[1;33m\u001b[0m\u001b[1;33m\u001b[0m\u001b[0m\n\u001b[0;32m      2\u001b[0m \u001b[0mone_keys\u001b[0m \u001b[1;33m=\u001b[0m \u001b[0mfind_one\u001b[0m\u001b[1;33m(\u001b[0m\u001b[0mlinked_dic\u001b[0m\u001b[1;33m)\u001b[0m\u001b[1;33m\u001b[0m\u001b[1;33m\u001b[0m\u001b[0m\n\u001b[1;32m----> 3\u001b[1;33m \u001b[0mcounts\u001b[0m \u001b[1;33m=\u001b[0m \u001b[0mfind_leaf\u001b[0m\u001b[1;33m(\u001b[0m\u001b[0mlinked_dic\u001b[0m\u001b[1;33m,\u001b[0m \u001b[0mone_keys\u001b[0m\u001b[1;33m)\u001b[0m\u001b[1;33m\u001b[0m\u001b[1;33m\u001b[0m\u001b[0m\n\u001b[0m\u001b[0;32m      4\u001b[0m \u001b[0mcounts\u001b[0m\u001b[1;33m\u001b[0m\u001b[1;33m\u001b[0m\u001b[0m\n",
      "\u001b[1;32m<ipython-input-59-a89f3e67243b>\u001b[0m in \u001b[0;36mfind_leaf\u001b[1;34m(linked_dic, now_nodes)\u001b[0m\n\u001b[0;32m     21\u001b[0m     \u001b[1;32mfor\u001b[0m \u001b[0mnow_node\u001b[0m \u001b[1;32min\u001b[0m \u001b[0mnow_nodes\u001b[0m\u001b[1;33m:\u001b[0m\u001b[1;33m\u001b[0m\u001b[1;33m\u001b[0m\u001b[0m\n\u001b[0;32m     22\u001b[0m         \u001b[0mnext_nodes\u001b[0m \u001b[1;33m=\u001b[0m \u001b[1;33m[\u001b[0m\u001b[1;33m]\u001b[0m\u001b[1;33m\u001b[0m\u001b[1;33m\u001b[0m\u001b[0m\n\u001b[1;32m---> 23\u001b[1;33m         \u001b[1;32mfor\u001b[0m \u001b[0mnode\u001b[0m \u001b[1;32min\u001b[0m \u001b[0mragne\u001b[0m\u001b[1;33m(\u001b[0m\u001b[0mlist\u001b[0m\u001b[1;33m(\u001b[0m\u001b[0mlinked_dic\u001b[0m\u001b[1;33m.\u001b[0m\u001b[0mkeys\u001b[0m\u001b[1;33m(\u001b[0m\u001b[1;33m)\u001b[0m\u001b[1;33m)\u001b[0m\u001b[1;33m)\u001b[0m\u001b[1;33m:\u001b[0m\u001b[1;33m\u001b[0m\u001b[1;33m\u001b[0m\u001b[0m\n\u001b[0m\u001b[0;32m     24\u001b[0m             \u001b[1;32mif\u001b[0m \u001b[0mnow_node\u001b[0m \u001b[1;32min\u001b[0m \u001b[0mlinked_dic\u001b[0m\u001b[1;33m[\u001b[0m\u001b[0mnode\u001b[0m\u001b[1;33m]\u001b[0m\u001b[1;33m:\u001b[0m\u001b[1;33m\u001b[0m\u001b[1;33m\u001b[0m\u001b[0m\n\u001b[0;32m     25\u001b[0m                 \u001b[0mnext_nodes\u001b[0m\u001b[1;33m.\u001b[0m\u001b[0mappend\u001b[0m\u001b[1;33m(\u001b[0m\u001b[0mnode\u001b[0m\u001b[1;33m)\u001b[0m\u001b[1;33m\u001b[0m\u001b[1;33m\u001b[0m\u001b[0m\n",
      "\u001b[1;31mNameError\u001b[0m: name 'ragne' is not defined"
     ]
    }
   ],
   "source": [
    "linked_dic = get_input()\n",
    "one_keys = find_one(linked_dic)\n",
    "counts = find_leaf(linked_dic, one_keys)\n",
    "counts"
   ]
  },
  {
   "cell_type": "code",
   "execution_count": 58,
   "metadata": {},
   "outputs": [
    {
     "output_type": "execute_result",
     "data": {
      "text/plain": "[1, 2, 3, 4]"
     },
     "metadata": {},
     "execution_count": 58
    }
   ],
   "source": [
    "list(linked_dic.keys())"
   ]
  },
  {
   "cell_type": "code",
   "execution_count": 51,
   "metadata": {},
   "outputs": [
    {
     "output_type": "execute_result",
     "data": {
      "text/plain": "[2, 4, 5]"
     },
     "metadata": {},
     "execution_count": 51
    }
   ],
   "source": [
    "one_keys"
   ]
  },
  {
   "cell_type": "code",
   "execution_count": null,
   "metadata": {},
   "outputs": [],
   "source": []
  }
 ]
}